{
 "cells": [
  {
   "cell_type": "code",
   "execution_count": null,
   "id": "17af6962",
   "metadata": {},
   "outputs": [],
   "source": [
    "import pandas as pd \n",
    "import numpy as np \n",
    "import seaborn as sns\n",
    "import numpy as np\n",
    "import re\n",
    "import matplotlib.pyplot as plt\n",
    "%matplotlib inline"
   ]
  },
  {
   "cell_type": "code",
   "execution_count": null,
   "id": "e3402ab6",
   "metadata": {},
   "outputs": [],
   "source": [
    "df  = pd.read_csv(\"titanic.csv\")\n",
    "df.head()"
   ]
  },
  {
   "cell_type": "code",
   "execution_count": null,
   "id": "cb2dc9f3",
   "metadata": {},
   "outputs": [],
   "source": [
    "## To check null values\n",
    "df.info()"
   ]
  },
  {
   "cell_type": "markdown",
   "id": "4bd7e7a4",
   "metadata": {},
   "source": [
    "The info() function is used to print a concise summary of a DataFrame. This method prints information about a DataFrame including the index dtype and column dtypes, non-null values and memory usage."
   ]
  },
  {
   "cell_type": "code",
   "execution_count": null,
   "id": "efa48c6d",
   "metadata": {},
   "outputs": [],
   "source": [
    "df.describe()"
   ]
  },
  {
   "cell_type": "markdown",
   "id": "a5d90cdc",
   "metadata": {},
   "source": [
    "The describe() method is used for calculating some statistical data like percentile, mean and std of the numerical values of the Series or DataFrame. It analyzes both numeric and object series and also the DataFrame column sets of mixed data types."
   ]
  },
  {
   "cell_type": "code",
   "execution_count": null,
   "id": "3d283252",
   "metadata": {},
   "outputs": [],
   "source": [
    "df['Age']"
   ]
  },
  {
   "cell_type": "code",
   "execution_count": null,
   "id": "1ee2fdcf",
   "metadata": {},
   "outputs": [],
   "source": [
    "df['Embarked'].value_counts()"
   ]
  },
  {
   "cell_type": "markdown",
   "id": "08c31fd4",
   "metadata": {},
   "source": [
    "Pandas value_counts() function returns a Series containing counts of unique values. By default, the resulting Series is in descending order without any NA values. For example, let’s get counts for the column “Embarked” from the Titanic dataset."
   ]
  },
  {
   "cell_type": "code",
   "execution_count": null,
   "id": "2aad289b",
   "metadata": {},
   "outputs": [],
   "source": [
    "# Age, Fare, Embarked have null values so we are doing mean, median and alphabet imputation\n",
    "df['Age'] = df.Age.fillna(df.Age.mean())\n",
    "df['Fare'] = df.Fare.fillna(df.Fare.median())\n",
    "df['Embarked'] = df['Embarked'].fillna('S') ## as it has high value count\n",
    "df.info()"
   ]
  },
  {
   "cell_type": "code",
   "execution_count": null,
   "id": "6573247c",
   "metadata": {},
   "outputs": [],
   "source": [
    "## To check all the unique values in a dataset\n",
    "df.nunique()"
   ]
  },
  {
   "cell_type": "code",
   "execution_count": null,
   "id": "8d8b5be9",
   "metadata": {},
   "outputs": [],
   "source": [
    "## As age cannot be in float\n",
    "df = df.astype({\"Age\": int})"
   ]
  },
  {
   "cell_type": "code",
   "execution_count": null,
   "id": "7d4f6967",
   "metadata": {},
   "outputs": [],
   "source": [
    "df"
   ]
  },
  {
   "cell_type": "code",
   "execution_count": null,
   "id": "4c698c60",
   "metadata": {},
   "outputs": [],
   "source": [
    "# To check particular passenger had a cabin or not?\n",
    "## here is null gives true wherever it finds nan value but we want true where it doesnot have nan values so we used tilt symbol\n",
    "df['Cabin_Exist'] = ~df.Cabin.isnull()\n",
    "## show data\n",
    "df.head(6)"
   ]
  },
  {
   "cell_type": "code",
   "execution_count": null,
   "id": "194b88d4",
   "metadata": {},
   "outputs": [],
   "source": [
    "## This lamda re.seach will give the title of the names as we choose group1 out of it\n",
    "df['Title'] = df.Name.apply(lambda x: re.search(' ([A-Z][a-z]+)\\.', x).group(1))\n",
    "sns.countplot(x='Title', data=df);\n",
    "plt.xticks(rotation=45);"
   ]
  },
  {
   "cell_type": "code",
   "execution_count": null,
   "id": "5ab4416c",
   "metadata": {},
   "outputs": [],
   "source": [
    "## we did this in order to know reduce the categories\n",
    "df['Title'] = df['Title'].replace({'Mlle':'Miss', 'Mme':'Mrs', 'Ms':'Miss'})\n",
    "df['Title'] = df['Title'].replace(['Don', 'Dona', 'Rev', 'Dr',\n",
    "                                            'Major', 'Lady', 'Sir', 'Col', 'Capt', 'Countess', 'Jonkheer'],'Special')\n",
    "sns.countplot(x='Title', data=df);\n",
    "plt.xticks(rotation=45);"
   ]
  },
  {
   "cell_type": "code",
   "execution_count": null,
   "id": "453bb35d",
   "metadata": {},
   "outputs": [],
   "source": [
    "df.head(10)"
   ]
  },
  {
   "cell_type": "code",
   "execution_count": null,
   "id": "053be9c0",
   "metadata": {},
   "outputs": [],
   "source": [
    "# grouping numerical columns\n",
    "## q stands for quartile range for eg it will try to group data in 4 bins having 0-15%, 15-35%, 35-51%, 51-78% and 78-100%.\n",
    "## It segregates data based on datapoints like its checks whether the datapoint lies in first 15% of the data, or next(15-35)15% of data\n",
    "df['Age_Group'] = pd.qcut(df.Age, q=4, labels=False)\n",
    "df['Fare_range']= pd.qcut(df.Fare, q=4, labels=False)\n",
    "df.head(11)"
   ]
  },
  {
   "cell_type": "code",
   "execution_count": null,
   "id": "903915f3",
   "metadata": {},
   "outputs": [],
   "source": [
    "## Now we will do feature selection\n",
    "## we will remove coloumns that are unrelevant for us\n",
    "df.drop(['Cabin', 'Name', 'PassengerId', 'Ticket', 'Fare','Age'], axis=1, inplace=True)\n",
    "df.head(6)"
   ]
  },
  {
   "cell_type": "code",
   "execution_count": null,
   "id": "4ad9dde2",
   "metadata": {},
   "outputs": [],
   "source": [
    "## Add a feature or column as we can observe Parch meaning parent and sibling meaqns child so we can create a column named Family merging 2 columns in 1\n",
    "df['Family'] = df.Parch + df.SibSp\n",
    "df.head(10)"
   ]
  },
  {
   "cell_type": "code",
   "execution_count": null,
   "id": "fc0fa1b0",
   "metadata": {},
   "outputs": [],
   "source": [
    "## again we will drop the column\n",
    "df =  df.drop(['SibSp','Parch'], axis=1)\n",
    "df.head()"
   ]
  },
  {
   "cell_type": "code",
   "execution_count": null,
   "id": "a615dccb",
   "metadata": {},
   "outputs": [],
   "source": [
    "df"
   ]
  },
  {
   "cell_type": "code",
   "execution_count": null,
   "id": "58222b51",
   "metadata": {},
   "outputs": [],
   "source": [
    "## now we will convert categorical data into binary as it helps to get good relationship when training ML model\n",
    "df_one_hot_encoding = pd.get_dummies(df,drop_first=True)\n",
    "df_one_hot_encoding.head(6)"
   ]
  },
  {
   "cell_type": "code",
   "execution_count": null,
   "id": "66ca2414",
   "metadata": {},
   "outputs": [],
   "source": [
    "df_one_hot_encoding = df_one_hot_encoding.drop(['Survived'], axis=1)\n",
    "df_one_hot_encoding.head()"
   ]
  },
  {
   "cell_type": "markdown",
   "id": "e4432e64",
   "metadata": {},
   "source": [
    "## OUR DATA IS ALL SET TO GET TRAINED !!"
   ]
  },
  {
   "cell_type": "markdown",
   "id": "6e90d1b1",
   "metadata": {},
   "source": [
    "# Standarization Vs Normalization"
   ]
  },
  {
   "cell_type": "markdown",
   "id": "b82e25fd",
   "metadata": {},
   "source": [
    "##  Normalization(min-max Normalization)"
   ]
  },
  {
   "attachments": {
    "Normalization.png": {
     "image/png": "[encoded data removed]"
    }
   },
   "cell_type": "markdown",
   "id": "973c384b",
   "metadata": {},
   "source": [
    "### Here, we try to  scale down values of feature between 0 to 1\n",
    "![Normalization.png](attachment:Normalization.png)"
   ]
  },
  {
   "cell_type": "markdown",
   "id": "462a84ef",
   "metadata": {},
   "source": [
    "### Importing MinMaxScalar library "
   ]
  },
  {
   "cell_type": "code",
   "execution_count": null,
   "id": "bd652fb5",
   "metadata": {},
   "outputs": [],
   "source": [
    "from sklearn.preprocessing import MinMaxScaler"
   ]
  },
  {
   "cell_type": "code",
   "execution_count": null,
   "id": "d5c0b682",
   "metadata": {},
   "outputs": [],
   "source": [
    "scaling = MinMaxScaler()"
   ]
  },
  {
   "cell_type": "markdown",
   "id": "3f872a4b",
   "metadata": {},
   "source": [
    "#### This features is noted down based on various units and magnitude.So there is a huge difference between these features..its scaled down to 0 to 1. So all features are on same scale."
   ]
  },
  {
   "cell_type": "code",
   "execution_count": null,
   "id": "8a2dece4",
   "metadata": {},
   "outputs": [],
   "source": [
    "df_one_hot_encoding.head(3)"
   ]
  },
  {
   "cell_type": "code",
   "execution_count": null,
   "id": "4d9e4080",
   "metadata": {},
   "outputs": [],
   "source": [
    "new_list = list(df_one_hot_encoding.columns)\n",
    "new_list"
   ]
  },
  {
   "cell_type": "code",
   "execution_count": null,
   "id": "3850eb2d",
   "metadata": {},
   "outputs": [],
   "source": [
    "scaled = scaling.fit_transform(df_one_hot_encoding)\n",
    "scaled = pd.DataFrame(scaled, columns=new_list)"
   ]
  },
  {
   "cell_type": "code",
   "execution_count": null,
   "id": "c37283d0",
   "metadata": {},
   "outputs": [],
   "source": [
    "print(\"Scaled Dataset Using MinMaxScaler\")\n",
    "scaled.head()"
   ]
  },
  {
   "attachments": {
    "z.png": {
     "image/png": "[encoded data removed]"
    }
   },
   "cell_type": "markdown",
   "id": "522f6a56",
   "metadata": {},
   "source": [
    "# Standarization(Standard Scalar)\n",
    "\n",
    "### All features are transformed in such a way that it will have properties of standard normal distribution where mean = 0 and standard deviation =1\n",
    "![z.png](attachment:z.png)"
   ]
  },
  {
   "cell_type": "code",
   "execution_count": null,
   "id": "970018eb",
   "metadata": {},
   "outputs": [],
   "source": [
    "from sklearn.preprocessing import StandardScaler\n",
    "scale = StandardScaler()\n",
    "st_sc = scale.fit_transform(df_one_hot_encoding)\n",
    "st_sc = pd.DataFrame(st_sc, columns=new_list)\n",
    "print(\"Scaled Dataset Using StandardScaler\")\n",
    "st_sc.head(6)"
   ]
  },
  {
   "cell_type": "markdown",
   "id": "bfc11e7e",
   "metadata": {},
   "source": [
    "## When to use Standarization or Normalization ??"
   ]
  },
  {
   "cell_type": "markdown",
   "id": "94875cb8",
   "metadata": {},
   "source": [
    "#### Scenario : Machine Learning algorithms that involves Euclidean Distance and Some Depp learning techiniques where gradient descent is involved where you need to find best minimal  point. To get to that point we have algorithms like K-means, KNN, Linear Regression, Logistic Regression all deep learning networks\n",
    "#### Standarization mostly performs well than Normalization."
   ]
  },
  {
   "cell_type": "markdown",
   "id": "36ec358c",
   "metadata": {},
   "source": [
    "#### You don't need to perform Scaling when you go for decision Tree, Random Forest, XGBoost or all boosting technics."
   ]
  },
  {
   "cell_type": "markdown",
   "id": "836c6e68",
   "metadata": {},
   "source": [
    "### Now, we will convert the pandas dataframe into spark dataframe"
   ]
  },
  {
   "cell_type": "code",
   "execution_count": null,
   "id": "6a979f59",
   "metadata": {},
   "outputs": [],
   "source": [
    "import findspark\n",
    "findspark.find()\n",
    "findspark.init()\n",
    "from pyspark.sql import SparkSession\n",
    "from pyspark.ml.feature import VectorAssembler"
   ]
  },
  {
   "cell_type": "code",
   "execution_count": null,
   "id": "dc18e181",
   "metadata": {},
   "outputs": [],
   "source": [
    "spark = SparkSession.builder.appName(\"Feature-Engineering with Spark\").getOrCreate()"
   ]
  },
  {
   "cell_type": "markdown",
   "id": "630acc42",
   "metadata": {},
   "source": [
    "### Create PySpark DataFrame from Pandas"
   ]
  },
  {
   "cell_type": "code",
   "execution_count": null,
   "id": "4ef855ce",
   "metadata": {},
   "outputs": [],
   "source": [
    "sparkDF=spark.createDataFrame(st_sc) \n",
    "sparkDF.printSchema()\n",
    "sparkDF.show(10)"
   ]
  },
  {
   "cell_type": "code",
   "execution_count": null,
   "id": "4413ae68",
   "metadata": {},
   "outputs": [],
   "source": [
    "cols = sparkDF.columns\n",
    "assembler = VectorAssembler(inputCols=cols,outputCol=\"list_of_features\")\n",
    "data = assembler.transform(sparkDF)\n",
    "data.select(\"list_of_features\").show(10,truncate=False)"
   ]
  },
  {
   "cell_type": "code",
   "execution_count": null,
   "id": "8169f81d",
   "metadata": {},
   "outputs": [],
   "source": [
    "spark.stop()"
   ]
  }
 ],
 "metadata": {
  "kernelspec": {
   "display_name": "Python 3",
   "language": "python",
   "name": "python3"
  },
  "language_info": {
   "codemirror_mode": {
    "name": "ipython",
    "version": 3
   },
   "file_extension": ".py",
   "mimetype": "text/x-python",
   "name": "python",
   "nbconvert_exporter": "python",
   "pygments_lexer": "ipython3",
   "version": "3.8.10"
  }
 },
 "nbformat": 4,
 "nbformat_minor": 5
}
