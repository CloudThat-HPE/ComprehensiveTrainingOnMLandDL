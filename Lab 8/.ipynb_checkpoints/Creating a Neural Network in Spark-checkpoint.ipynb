{
 "cells": [
  {
   "cell_type": "code",
   "execution_count": 1,
   "metadata": {},
   "outputs": [],
   "source": [
    "import findspark\n",
    "findspark.find()\n",
    "findspark.init()"
   ]
  },
  {
   "cell_type": "code",
   "execution_count": 2,
   "metadata": {},
   "outputs": [],
   "source": [
    "import pyspark\n",
    "from pyspark.sql import SparkSession"
   ]
  },
  {
   "cell_type": "code",
   "execution_count": 3,
   "metadata": {},
   "outputs": [
    {
     "name": "stderr",
     "output_type": "stream",
     "text": [
      "Using Spark's default log4j profile: org/apache/spark/log4j-defaults.properties\n",
      "Setting default log level to \"WARN\".\n",
      "To adjust logging level use sc.setLogLevel(newLevel). For SparkR, use setLogLevel(newLevel).\n",
      "22/08/21 10:12:58 WARN NativeCodeLoader: Unable to load native-hadoop library for your platform... using builtin-java classes where applicable\n"
     ]
    }
   ],
   "source": [
    "spark = SparkSession.builder \\\n",
    "    .master(\"local\") \\\n",
    "    .appName(\"Neural Network Model\") \\\n",
    "    .config(\"spark.executor.memory\", \"6gb\") \\\n",
    "    .getOrCreate()"
   ]
  },
  {
   "cell_type": "code",
   "execution_count": 4,
   "metadata": {},
   "outputs": [],
   "source": [
    "df = spark.createDataFrame([('Male', 67, 150), \n",
    "                            ('Female', 65, 135),\n",
    "                            ('Female', 68, 130),\n",
    "                            ('Male', 70, 160),\n",
    "                            ('Female', 70, 130),\n",
    "                            ('Male', 69, 174),\n",
    "                            ('Female', 65, 126),\n",
    "                            ('Male', 74, 188),\n",
    "                            ('Female', 60, 110),\n",
    "                            ('Female', 63, 125),\n",
    "                            ('Male', 70, 173),\n",
    "                            ('Male', 70, 145),\n",
    "                            ('Male', 68, 175),\n",
    "                            ('Female', 65, 123),\n",
    "                            ('Male', 71, 145),\n",
    "                            ('Male', 74, 160),\n",
    "                            ('Female', 64, 135),\n",
    "                            ('Male', 71, 175),\n",
    "                            ('Male', 67, 145),\n",
    "                            ('Female', 67, 130),\n",
    "                            ('Male', 70, 162),\n",
    "                            ('Female', 64, 107),\n",
    "                            ('Male', 70, 175),\n",
    "                            ('Female', 64, 130),\n",
    "                            ('Male', 66, 163),\n",
    "                            ('Female', 63, 137),\n",
    "                            ('Male', 65, 165),\n",
    "                            ('Female', 65, 130),\n",
    "                            ('Female', 64, 109)],\n",
    "                            ['gender', 'height','weight'])"
   ]
  },
  {
   "cell_type": "code",
   "execution_count": 5,
   "metadata": {},
   "outputs": [
    {
     "name": "stderr",
     "output_type": "stream",
     "text": [
      "\r",
      "[Stage 0:>                                                          (0 + 1) / 1]\r"
     ]
    },
    {
     "name": "stdout",
     "output_type": "stream",
     "text": [
      "+------+------+------+\n",
      "|gender|height|weight|\n",
      "+------+------+------+\n",
      "|  Male|    67|   150|\n",
      "|Female|    65|   135|\n",
      "|Female|    68|   130|\n",
      "|  Male|    70|   160|\n",
      "|Female|    70|   130|\n",
      "|  Male|    69|   174|\n",
      "|Female|    65|   126|\n",
      "|  Male|    74|   188|\n",
      "|Female|    60|   110|\n",
      "|Female|    63|   125|\n",
      "|  Male|    70|   173|\n",
      "|  Male|    70|   145|\n",
      "|  Male|    68|   175|\n",
      "|Female|    65|   123|\n",
      "|  Male|    71|   145|\n",
      "|  Male|    74|   160|\n",
      "|Female|    64|   135|\n",
      "|  Male|    71|   175|\n",
      "|  Male|    67|   145|\n",
      "|Female|    67|   130|\n",
      "+------+------+------+\n",
      "only showing top 20 rows\n",
      "\n"
     ]
    },
    {
     "name": "stderr",
     "output_type": "stream",
     "text": [
      "\r",
      "                                                                                \r"
     ]
    }
   ],
   "source": [
    "df.show()"
   ]
  },
  {
   "cell_type": "code",
   "execution_count": 6,
   "metadata": {},
   "outputs": [
    {
     "name": "stdout",
     "output_type": "stream",
     "text": [
      "+------+------+------+\n",
      "|gender|height|weight|\n",
      "+------+------+------+\n",
      "|  Male|    67|   150|\n",
      "|Female|    65|   135|\n",
      "|Female|    68|   130|\n",
      "|  Male|    70|   160|\n",
      "|Female|    70|   130|\n",
      "+------+------+------+\n",
      "only showing top 5 rows\n",
      "\n"
     ]
    }
   ],
   "source": [
    "df.show(5)"
   ]
  },
  {
   "cell_type": "code",
   "execution_count": 7,
   "metadata": {},
   "outputs": [],
   "source": [
    "from pyspark.sql import functions"
   ]
  },
  {
   "cell_type": "code",
   "execution_count": 8,
   "metadata": {},
   "outputs": [],
   "source": [
    "df = df.withColumn('gender',functions.when(df['gender']=='Female',0).otherwise(1))"
   ]
  },
  {
   "cell_type": "code",
   "execution_count": 9,
   "metadata": {},
   "outputs": [],
   "source": [
    "df = df.select('height', 'weight', 'gender')"
   ]
  },
  {
   "cell_type": "code",
   "execution_count": 10,
   "metadata": {},
   "outputs": [
    {
     "name": "stdout",
     "output_type": "stream",
     "text": [
      "+------+------+------+\n",
      "|height|weight|gender|\n",
      "+------+------+------+\n",
      "|    67|   150|     1|\n",
      "|    65|   135|     0|\n",
      "|    68|   130|     0|\n",
      "|    70|   160|     1|\n",
      "|    70|   130|     0|\n",
      "|    69|   174|     1|\n",
      "|    65|   126|     0|\n",
      "|    74|   188|     1|\n",
      "|    60|   110|     0|\n",
      "|    63|   125|     0|\n",
      "|    70|   173|     1|\n",
      "|    70|   145|     1|\n",
      "|    68|   175|     1|\n",
      "|    65|   123|     0|\n",
      "|    71|   145|     1|\n",
      "|    74|   160|     1|\n",
      "|    64|   135|     0|\n",
      "|    71|   175|     1|\n",
      "|    67|   145|     1|\n",
      "|    67|   130|     0|\n",
      "+------+------+------+\n",
      "only showing top 20 rows\n",
      "\n"
     ]
    }
   ],
   "source": [
    "df.show()"
   ]
  },
  {
   "cell_type": "code",
   "execution_count": 11,
   "metadata": {},
   "outputs": [],
   "source": [
    "import numpy as np"
   ]
  },
  {
   "cell_type": "code",
   "execution_count": 12,
   "metadata": {},
   "outputs": [
    {
     "data": {
      "text/plain": [
       "[Row(height=67, weight=150, gender=1),\n",
       " Row(height=65, weight=135, gender=0),\n",
       " Row(height=68, weight=130, gender=0),\n",
       " Row(height=70, weight=160, gender=1),\n",
       " Row(height=70, weight=130, gender=0),\n",
       " Row(height=69, weight=174, gender=1),\n",
       " Row(height=65, weight=126, gender=0),\n",
       " Row(height=74, weight=188, gender=1),\n",
       " Row(height=60, weight=110, gender=0),\n",
       " Row(height=63, weight=125, gender=0),\n",
       " Row(height=70, weight=173, gender=1),\n",
       " Row(height=70, weight=145, gender=1),\n",
       " Row(height=68, weight=175, gender=1),\n",
       " Row(height=65, weight=123, gender=0),\n",
       " Row(height=71, weight=145, gender=1),\n",
       " Row(height=74, weight=160, gender=1),\n",
       " Row(height=64, weight=135, gender=0),\n",
       " Row(height=71, weight=175, gender=1),\n",
       " Row(height=67, weight=145, gender=1),\n",
       " Row(height=67, weight=130, gender=0),\n",
       " Row(height=70, weight=162, gender=1),\n",
       " Row(height=64, weight=107, gender=0),\n",
       " Row(height=70, weight=175, gender=1),\n",
       " Row(height=64, weight=130, gender=0),\n",
       " Row(height=66, weight=163, gender=1),\n",
       " Row(height=63, weight=137, gender=0),\n",
       " Row(height=65, weight=165, gender=1),\n",
       " Row(height=65, weight=130, gender=0),\n",
       " Row(height=64, weight=109, gender=0)]"
      ]
     },
     "execution_count": 12,
     "metadata": {},
     "output_type": "execute_result"
    }
   ],
   "source": [
    "df.select(\"height\", \"weight\", \"gender\").collect()"
   ]
  },
  {
   "cell_type": "code",
   "execution_count": 13,
   "metadata": {},
   "outputs": [
    {
     "data": {
      "text/plain": [
       "array([[ 67, 150,   1],\n",
       "       [ 65, 135,   0],\n",
       "       [ 68, 130,   0],\n",
       "       [ 70, 160,   1],\n",
       "       [ 70, 130,   0],\n",
       "       [ 69, 174,   1],\n",
       "       [ 65, 126,   0],\n",
       "       [ 74, 188,   1],\n",
       "       [ 60, 110,   0],\n",
       "       [ 63, 125,   0],\n",
       "       [ 70, 173,   1],\n",
       "       [ 70, 145,   1],\n",
       "       [ 68, 175,   1],\n",
       "       [ 65, 123,   0],\n",
       "       [ 71, 145,   1],\n",
       "       [ 74, 160,   1],\n",
       "       [ 64, 135,   0],\n",
       "       [ 71, 175,   1],\n",
       "       [ 67, 145,   1],\n",
       "       [ 67, 130,   0],\n",
       "       [ 70, 162,   1],\n",
       "       [ 64, 107,   0],\n",
       "       [ 70, 175,   1],\n",
       "       [ 64, 130,   0],\n",
       "       [ 66, 163,   1],\n",
       "       [ 63, 137,   0],\n",
       "       [ 65, 165,   1],\n",
       "       [ 65, 130,   0],\n",
       "       [ 64, 109,   0]])"
      ]
     },
     "execution_count": 13,
     "metadata": {},
     "output_type": "execute_result"
    }
   ],
   "source": [
    "data_array = np.array(df.select(\"height\", \"weight\", \"gender\").collect())\n",
    "data_array"
   ]
  },
  {
   "cell_type": "code",
   "execution_count": 14,
   "metadata": {},
   "outputs": [
    {
     "data": {
      "text/plain": [
       "(29, 3)"
      ]
     },
     "execution_count": 14,
     "metadata": {},
     "output_type": "execute_result"
    }
   ],
   "source": [
    "data_array.shape"
   ]
  },
  {
   "cell_type": "code",
   "execution_count": 15,
   "metadata": {},
   "outputs": [
    {
     "data": {
      "text/plain": [
       "array([ 67, 150,   1])"
      ]
     },
     "execution_count": 15,
     "metadata": {},
     "output_type": "execute_result"
    }
   ],
   "source": [
    "data_array[0]"
   ]
  },
  {
   "cell_type": "code",
   "execution_count": 16,
   "metadata": {},
   "outputs": [
    {
     "data": {
      "text/plain": [
       "array([ 64, 109,   0])"
      ]
     },
     "execution_count": 16,
     "metadata": {},
     "output_type": "execute_result"
    }
   ],
   "source": [
    "data_array[28]"
   ]
  },
  {
   "cell_type": "code",
   "execution_count": 17,
   "metadata": {},
   "outputs": [
    {
     "name": "stdout",
     "output_type": "stream",
     "text": [
      "[ 74 188   1]\n",
      "[ 60 107   0]\n"
     ]
    }
   ],
   "source": [
    "print(data_array.max(axis=0))\n",
    "print(data_array.min(axis=0))"
   ]
  },
  {
   "cell_type": "code",
   "execution_count": 18,
   "metadata": {},
   "outputs": [],
   "source": [
    "import matplotlib.pyplot as plt\n",
    "%matplotlib inline"
   ]
  },
  {
   "cell_type": "code",
   "execution_count": 19,
   "metadata": {},
   "outputs": [],
   "source": [
    "min_x = data_array.min(axis=0)[0]-10\n",
    "max_x = data_array.max(axis=0)[0]+10\n",
    "min_y = data_array.min(axis=0)[1]-10\n",
    "max_y = data_array.max(axis=0)[1]+10"
   ]
  },
  {
   "cell_type": "code",
   "execution_count": 20,
   "metadata": {},
   "outputs": [
    {
     "data": {
      "image/png": "[encoded data removed]",
      "text/plain": [
       "<Figure size 675x300 with 1 Axes>"
      ]
     },
     "metadata": {},
     "output_type": "display_data"
    }
   ],
   "source": [
    "plt.figure(figsize=(9, 4), dpi= 75)\n",
    "plt.axis([min_x,max_x,min_y,max_y])\n",
    "plt.grid()\n",
    "for i in range(len(data_array)):\n",
    "    value = data_array[i]\n",
    "\n",
    "    gender = value[2]\n",
    "    height = value[0]\n",
    "    weight = value[1]\n",
    "\n",
    "    a = plt.scatter(height[gender==0],weight[gender==0], marker = 'x', c = 'b', label = 'Female') \n",
    "    b = plt.scatter(height[gender==1],weight[gender==1], marker = 'o', c= 'b', label = 'Male')\n",
    "\n",
    "    plt.title('Weight vs Height by Gender')\n",
    "    plt.xlabel('Height (in)')\n",
    "    plt.ylabel('Weight (lbs)')\n",
    "    plt.legend(handles=[a,b])"
   ]
  },
  {
   "cell_type": "code",
   "execution_count": 21,
   "metadata": {},
   "outputs": [],
   "source": [
    "np.random.seed(12345)"
   ]
  },
  {
   "cell_type": "code",
   "execution_count": 22,
   "metadata": {},
   "outputs": [],
   "source": [
    "w1 = np.random.randn()\n",
    "w2 = np.random.randn()\n",
    "b= np.random.randn()"
   ]
  },
  {
   "cell_type": "code",
   "execution_count": 23,
   "metadata": {},
   "outputs": [
    {
     "name": "stdout",
     "output_type": "stream",
     "text": [
      "-0.20470765948471295 0.47894333805754824 -0.5194387150567381\n"
     ]
    }
   ],
   "source": [
    "print(w1, w2, b)"
   ]
  },
  {
   "cell_type": "code",
   "execution_count": 24,
   "metadata": {},
   "outputs": [
    {
     "name": "stdout",
     "output_type": "stream",
     "text": [
      "[[ 67 150]\n",
      " [ 65 135]\n",
      " [ 68 130]\n",
      " [ 70 160]\n",
      " [ 70 130]\n",
      " [ 69 174]\n",
      " [ 65 126]\n",
      " [ 74 188]\n",
      " [ 60 110]\n",
      " [ 63 125]\n",
      " [ 70 173]\n",
      " [ 70 145]\n",
      " [ 68 175]\n",
      " [ 65 123]\n",
      " [ 71 145]\n",
      " [ 74 160]\n",
      " [ 64 135]\n",
      " [ 71 175]\n",
      " [ 67 145]\n",
      " [ 67 130]\n",
      " [ 70 162]\n",
      " [ 64 107]\n",
      " [ 70 175]\n",
      " [ 64 130]\n",
      " [ 66 163]\n",
      " [ 63 137]\n",
      " [ 65 165]\n",
      " [ 65 130]\n",
      " [ 64 109]] [1 0 0 1 0 1 0 1 0 0 1 1 1 0 1 1 0 1 1 0 1 0 1 0 1 0 1 0 0]\n"
     ]
    }
   ],
   "source": [
    "X = data_array[:,:2]\n",
    "y = data_array[:,2]\n",
    "print(X,y)"
   ]
  },
  {
   "cell_type": "code",
   "execution_count": 25,
   "metadata": {},
   "outputs": [
    {
     "name": "stdout",
     "output_type": "stream",
     "text": [
      "[ 67.20689655 145.24137931] [ 3.35671545 22.1743175 ]\n"
     ]
    }
   ],
   "source": [
    "x_mean = X.mean(axis=0)\n",
    "x_std = X.std(axis=0)\n",
    "print(x_mean, x_std)"
   ]
  },
  {
   "cell_type": "code",
   "execution_count": 26,
   "metadata": {},
   "outputs": [],
   "source": [
    "def normalize(X):\n",
    "    x_mean = X.mean(axis=0)\n",
    "    x_std = X.std(axis=0)\n",
    "    X = (X - X.mean(axis=0))/X.std(axis=0)\n",
    "    return X"
   ]
  },
  {
   "cell_type": "code",
   "execution_count": 27,
   "metadata": {},
   "outputs": [
    {
     "name": "stdout",
     "output_type": "stream",
     "text": [
      "[[-0.06163661  0.21460055]\n",
      " [-0.65745714 -0.4618577 ]\n",
      " [ 0.23627366 -0.68734378]\n",
      " [ 0.8320942   0.66557271]\n",
      " [ 0.8320942  -0.68734378]\n",
      " [ 0.53418393  1.29693375]\n",
      " [-0.65745714 -0.86773265]\n",
      " [ 2.02373527  1.92829478]\n",
      " [-2.14700848 -1.58928812]\n",
      " [-1.25327768 -0.91282987]\n",
      " [ 0.8320942   1.25183653]\n",
      " [ 0.8320942  -0.01088554]\n",
      " [ 0.23627366  1.34203096]\n",
      " [-0.65745714 -1.0030243 ]\n",
      " [ 1.13000446 -0.01088554]\n",
      " [ 2.02373527  0.66557271]\n",
      " [-0.95536741 -0.4618577 ]\n",
      " [ 1.13000446  1.34203096]\n",
      " [-0.06163661 -0.01088554]\n",
      " [-0.06163661 -0.68734378]\n",
      " [ 0.8320942   0.75576715]\n",
      " [-0.95536741 -1.72457977]\n",
      " [ 0.8320942   1.34203096]\n",
      " [-0.95536741 -0.68734378]\n",
      " [-0.35954687  0.80086436]\n",
      " [-1.25327768 -0.37166327]\n",
      " [-0.65745714  0.8910588 ]\n",
      " [-0.65745714 -0.68734378]\n",
      " [-0.95536741 -1.63438533]]\n"
     ]
    }
   ],
   "source": [
    "X = normalize(X)\n",
    "print(X)"
   ]
  },
  {
   "cell_type": "code",
   "execution_count": 28,
   "metadata": {},
   "outputs": [
    {
     "name": "stdout",
     "output_type": "stream",
     "text": [
      "standard deviation\n",
      "1.0\n",
      "mean\n",
      "-0.0\n"
     ]
    }
   ],
   "source": [
    "print('standard deviation')\n",
    "print(round(X[:,0].std(axis=0),0))\n",
    "print('mean')\n",
    "print(round(X[:,0].mean(axis=0),0))"
   ]
  },
  {
   "cell_type": "code",
   "execution_count": 29,
   "metadata": {},
   "outputs": [
    {
     "name": "stdout",
     "output_type": "stream",
     "text": [
      "[[-0.06163661  0.21460055  1.        ]\n",
      " [-0.65745714 -0.4618577   0.        ]\n",
      " [ 0.23627366 -0.68734378  0.        ]\n",
      " [ 0.8320942   0.66557271  1.        ]\n",
      " [ 0.8320942  -0.68734378  0.        ]\n",
      " [ 0.53418393  1.29693375  1.        ]\n",
      " [-0.65745714 -0.86773265  0.        ]\n",
      " [ 2.02373527  1.92829478  1.        ]\n",
      " [-2.14700848 -1.58928812  0.        ]\n",
      " [-1.25327768 -0.91282987  0.        ]\n",
      " [ 0.8320942   1.25183653  1.        ]\n",
      " [ 0.8320942  -0.01088554  1.        ]\n",
      " [ 0.23627366  1.34203096  1.        ]\n",
      " [-0.65745714 -1.0030243   0.        ]\n",
      " [ 1.13000446 -0.01088554  1.        ]\n",
      " [ 2.02373527  0.66557271  1.        ]\n",
      " [-0.95536741 -0.4618577   0.        ]\n",
      " [ 1.13000446  1.34203096  1.        ]\n",
      " [-0.06163661 -0.01088554  1.        ]\n",
      " [-0.06163661 -0.68734378  0.        ]\n",
      " [ 0.8320942   0.75576715  1.        ]\n",
      " [-0.95536741 -1.72457977  0.        ]\n",
      " [ 0.8320942   1.34203096  1.        ]\n",
      " [-0.95536741 -0.68734378  0.        ]\n",
      " [-0.35954687  0.80086436  1.        ]\n",
      " [-1.25327768 -0.37166327  0.        ]\n",
      " [-0.65745714  0.8910588   1.        ]\n",
      " [-0.65745714 -0.68734378  0.        ]\n",
      " [-0.95536741 -1.63438533  0.        ]]\n"
     ]
    }
   ],
   "source": [
    "data_array = np.column_stack((X[:,0], X[:,1],y))\n",
    "print(data_array)"
   ]
  },
  {
   "cell_type": "code",
   "execution_count": 30,
   "metadata": {},
   "outputs": [],
   "source": [
    "def sigmoid(input):\n",
    "    return 1/(1+np.exp(-input))"
   ]
  },
  {
   "cell_type": "code",
   "execution_count": 31,
   "metadata": {},
   "outputs": [],
   "source": [
    "X = np.arange(-10,10,1)"
   ]
  },
  {
   "cell_type": "code",
   "execution_count": 32,
   "metadata": {},
   "outputs": [],
   "source": [
    "Y = sigmoid(X)"
   ]
  },
  {
   "cell_type": "code",
   "execution_count": 33,
   "metadata": {},
   "outputs": [
    {
     "data": {
      "image/png": "[encoded data removed]",
      "text/plain": [
       "<Figure size 450x300 with 1 Axes>"
      ]
     },
     "metadata": {},
     "output_type": "display_data"
    }
   ],
   "source": [
    "plt.figure(figsize=(6, 4), dpi= 75)\n",
    "plt.axis([-10,10,-0.25,1.2])\n",
    "plt.grid()\n",
    "plt.plot(X,Y)\n",
    "plt.title('Sigmoid Function')\n",
    "plt.show()"
   ]
  },
  {
   "cell_type": "code",
   "execution_count": 34,
   "metadata": {},
   "outputs": [],
   "source": [
    "def sigmoid_derivative(x):\n",
    "    return sigmoid(x) * (1-sigmoid(x))"
   ]
  },
  {
   "cell_type": "code",
   "execution_count": 35,
   "metadata": {},
   "outputs": [
    {
     "data": {
      "image/png": "[encoded data removed]",
      "text/plain": [
       "<Figure size 450x300 with 1 Axes>"
      ]
     },
     "metadata": {},
     "output_type": "display_data"
    }
   ],
   "source": [
    "plt.figure(figsize=(6, 4), dpi= 75)\n",
    "plt.axis([-10,10,-0.25,1.2])\n",
    "plt.grid()\n",
    "X = np.arange(-10,10,1)\n",
    "Y = sigmoid(X)\n",
    "Y_Prime = sigmoid_derivative(X)\n",
    "c=plt.plot(X, Y, label=\"Sigmoid\",c='b')\n",
    "d=plt.plot(X, Y_Prime, marker=\".\", label=\"Sigmoid Derivative\",c='b')\n",
    "plt.title('Sigmoid vs Sigmoid Derivative')\n",
    "plt.xlabel('X')\n",
    "plt.ylabel('Y')\n",
    "plt.legend()\n",
    "plt.show()"
   ]
  },
  {
   "cell_type": "code",
   "execution_count": 36,
   "metadata": {},
   "outputs": [],
   "source": [
    "learning_rate = 0.1\n",
    "\n",
    "all_costs = []\n",
    "\n",
    "for i in range(100000):\n",
    "    \n",
    "    random_number = np.random.randint(len(data_array))\n",
    "    random_person = data_array[random_number]\n",
    "    \n",
    "    height = random_person[0]\n",
    "    weight = random_person[1]\n",
    "\n",
    "    z = w1*height+w2*weight+b\n",
    "    predictedGender = sigmoid(z)\n",
    "    \n",
    "    actualGender = random_person[2]\n",
    "    \n",
    "    cost = (predictedGender-actualGender)**2\n",
    "    \n",
    "    all_costs.append(cost)\n",
    "    \n",
    "    dcost_predictedGender = 2 * (predictedGender-actualGender)\n",
    "    dpredictedGenger_dz = sigmoid_derivative(z)\n",
    "    dz_dw1 = height\n",
    "    dz_dw2 = weight\n",
    "    dz_db = 1\n",
    "    \n",
    "    dcost_dw1 = dcost_predictedGender * dpredictedGenger_dz * dz_dw1\n",
    "    dcost_dw2 = dcost_predictedGender * dpredictedGenger_dz * dz_dw2\n",
    "    dcost_db  = dcost_predictedGender * dpredictedGenger_dz * dz_db\n",
    "    \n",
    "    w1 = w1 - learning_rate * dcost_dw1\n",
    "    w2 = w2 - learning_rate * dcost_dw2\n",
    "    b  = b  - learning_rate * dcost_db"
   ]
  },
  {
   "cell_type": "code",
   "execution_count": 37,
   "metadata": {},
   "outputs": [
    {
     "data": {
      "image/png": "[encoded data removed]",
      "text/plain": [
       "<Figure size 640x480 with 1 Axes>"
      ]
     },
     "metadata": {},
     "output_type": "display_data"
    }
   ],
   "source": [
    "plt.plot(all_costs)\n",
    "plt.title('Cost Value over 100,000 iterations')\n",
    "plt.xlabel('Iteration')\n",
    "plt.ylabel('Cost Value')\n",
    "plt.show()"
   ]
  },
  {
   "cell_type": "code",
   "execution_count": 38,
   "metadata": {},
   "outputs": [
    {
     "name": "stdout",
     "output_type": "stream",
     "text": [
      "The final values of w1, w2, and b\n",
      "---------------------------------\n",
      "w1 = 1.8207834497316182\n",
      "w2 = 10.501523489170982\n",
      "b = 2.691173312112982\n"
     ]
    }
   ],
   "source": [
    "print('The final values of w1, w2, and b')\n",
    "print('---------------------------------')\n",
    "print('w1 = {}'.format(w1))\n",
    "print('w2 = {}'.format(w2))\n",
    "print('b = {}'.format(b))"
   ]
  },
  {
   "cell_type": "code",
   "execution_count": 39,
   "metadata": {},
   "outputs": [
    {
     "name": "stdout",
     "output_type": "stream",
     "text": [
      "Individual #1 actual score: 1.0 predicted score: 0.9920970050491756\n",
      "Individual #2 actual score: 0.0 predicted score: 0.033695221069093326\n",
      "Individual #3 actual score: 0.0 predicted score: 0.016354211472413987\n",
      "Individual #4 actual score: 1.0 predicted score: 0.9999862679477725\n",
      "Individual #5 actual score: 0.0 predicted score: 0.046890252255051036\n",
      "Individual #6 actual score: 1.0 predicted score: 0.9999999688230504\n",
      "Individual #7 actual score: 0.0 predicted score: 0.0004910720098421908\n",
      "Individual #8 actual score: 1.0 predicted score: 0.999999999997268\n",
      "Individual #9 actual score: 0.0 predicted score: 1.669743526542196e-08\n",
      "Individual #10 actual score: 0.0 predicted score: 0.00010339213774166028\n",
      "Individual #11 actual score: 1.0 predicted score: 0.9999999708970826\n",
      "Individual #12 actual score: 1.0 predicted score: 0.9835674477053107\n",
      "Individual #13 actual score: 1.0 predicted score: 0.9999999666012114\n",
      "Individual #14 actual score: 0.0 predicted score: 0.00011865200379699481\n",
      "Individual #15 actual score: 1.0 predicted score: 0.9903810250342817\n",
      "Individual #16 actual score: 1.0 predicted score: 0.9999984316493865\n",
      "Individual #17 actual score: 0.0 predicted score: 0.019868457681766056\n",
      "Individual #18 actual score: 1.0 predicted score: 0.9999999934384332\n",
      "Individual #19 actual score: 1.0 predicted score: 0.9216248756592944\n",
      "Individual #20 actual score: 0.0 predicted score: 0.00957280115497827\n",
      "Individual #21 actual score: 1.0 predicted score: 0.9999946742043095\n",
      "Individual #22 actual score: 0.0 predicted score: 3.5311440795027645e-08\n",
      "Individual #23 actual score: 1.0 predicted score: 0.9999999887129113\n",
      "Individual #24 actual score: 0.0 predicted score: 0.0018952627116051622\n",
      "Individual #25 actual score: 1.0 predicted score: 0.9999709601428179\n",
      "Individual #26 actual score: 0.0 predicted score: 0.02948902697084434\n",
      "Individual #27 actual score: 1.0 predicted score: 0.9999806260367572\n",
      "Individual #28 actual score: 0.0 predicted score: 0.003255752867870676\n",
      "Individual #29 actual score: 0.0 predicted score: 9.104791596102294e-08\n"
     ]
    }
   ],
   "source": [
    "for i in range(len(data_array)):\n",
    "    random_individual = data_array[i]\n",
    "    height = random_individual[0]\n",
    "    weight = random_individual[1]\n",
    "    z = height*w1 + weight*w2 + b\n",
    "    predictedGender=sigmoid(z)\n",
    "    print(\"Individual #{} actual score: {} predicted score: {}\"\n",
    "          .format(i+1,random_individual[2],predictedGender))"
   ]
  },
  {
   "cell_type": "code",
   "execution_count": 40,
   "metadata": {},
   "outputs": [],
   "source": [
    "def input_normalize(height, weight):\n",
    "    inputHeight = (height - x_mean[0])/x_std[0]\n",
    "    inputWeight = (weight - x_mean[1])/x_std[1]\n",
    "    return inputHeight, inputWeight"
   ]
  },
  {
   "cell_type": "code",
   "execution_count": 41,
   "metadata": {},
   "outputs": [],
   "source": [
    "score = input_normalize(70, 180)"
   ]
  },
  {
   "cell_type": "code",
   "execution_count": 42,
   "metadata": {},
   "outputs": [],
   "source": [
    "def predict_gender(raw_score):\n",
    "    gender_summation = raw_score[0]*w1 + raw_score[1]*w2 + b\n",
    "    gender_score = sigmoid(gender_summation)\n",
    "    if gender_score <= 0.5:\n",
    "        gender = 'Female'\n",
    "    else:\n",
    "        gender = 'Male'\n",
    "    return gender, gender_score"
   ]
  },
  {
   "cell_type": "code",
   "execution_count": 43,
   "metadata": {},
   "outputs": [
    {
     "data": {
      "text/plain": [
       "('Male', 0.9999999989427069)"
      ]
     },
     "execution_count": 43,
     "metadata": {},
     "output_type": "execute_result"
    }
   ],
   "source": [
    "predict_gender(score)"
   ]
  },
  {
   "cell_type": "code",
   "execution_count": 44,
   "metadata": {},
   "outputs": [],
   "source": [
    "score = input_normalize(50, 120)"
   ]
  },
  {
   "cell_type": "code",
   "execution_count": 45,
   "metadata": {},
   "outputs": [
    {
     "data": {
      "text/plain": [
       "('Female', 8.38839401302328e-09)"
      ]
     },
     "execution_count": 45,
     "metadata": {},
     "output_type": "execute_result"
    }
   ],
   "source": [
    "predict_gender(score)"
   ]
  },
  {
   "cell_type": "code",
   "execution_count": 46,
   "metadata": {},
   "outputs": [
    {
     "name": "stdout",
     "output_type": "stream",
     "text": [
      "-2.24700848158745 2.1237352673336227 -1.8245797669033634 2.028294779946051\n"
     ]
    }
   ],
   "source": [
    "x_min = min(data_array[:,0])-0.1\n",
    "x_max = max(data_array[:,0])+0.1\n",
    "y_min = min(data_array[:,1])-0.1\n",
    "y_max = max(data_array[:,1])+0.1\n",
    "increment= 0.05\n",
    "print(x_min, x_max, y_min, y_max)"
   ]
  },
  {
   "cell_type": "code",
   "execution_count": 47,
   "metadata": {},
   "outputs": [],
   "source": [
    "x_data= np.arange(x_min, x_max, increment)\n",
    "y_data= np.arange(y_min, y_max, increment)\n",
    "xy_data = [[x_all, y_all] for x_all in x_data for y_all in y_data]"
   ]
  },
  {
   "cell_type": "code",
   "execution_count": 48,
   "metadata": {},
   "outputs": [
    {
     "data": {
      "image/png": "[encoded data removed]",
      "text/plain": [
       "<Figure size 640x480 with 1 Axes>"
      ]
     },
     "metadata": {},
     "output_type": "display_data"
    }
   ],
   "source": [
    "for i in range(len(xy_data)):\n",
    "    data = (xy_data[i])\n",
    "    height = data[0]\n",
    "    weight = data[1]\n",
    "    z_new = height*w1 + weight*w2 + b\n",
    "    predictedGender_new=sigmoid(z_new)\n",
    "\n",
    "    ax = plt.scatter(height[predictedGender_new<=0.5],\n",
    "            weight[predictedGender_new<=0.5],\n",
    "            marker = 'o', c= 'r', label = 'Female')\n",
    "    bx = plt.scatter(height[predictedGender_new > 0.5],\n",
    "            weight[predictedGender_new>0.5],\n",
    "            marker = 'o', c= 'b', label = 'Male')\n",
    "\n",
    "    plt.title('Weight vs Height by Gender')\n",
    "    plt.xlabel('Height (in)')\n",
    "    plt.ylabel('Weight (lbs)')\n",
    "    plt.legend(handles=[ax,bx])"
   ]
  },
  {
   "cell_type": "code",
   "execution_count": 49,
   "metadata": {},
   "outputs": [],
   "source": [
    "spark.stop()"
   ]
  }
 ],
 "metadata": {
  "kernelspec": {
   "display_name": "Python 3 (ipykernel)",
   "language": "python",
   "name": "python3"
  },
  "language_info": {
   "codemirror_mode": {
    "name": "ipython",
    "version": 3
   },
   "file_extension": ".py",
   "mimetype": "text/x-python",
   "name": "python",
   "nbconvert_exporter": "python",
   "pygments_lexer": "ipython3",
   "version": "3.8.10"
  }
 },
 "nbformat": 4,
 "nbformat_minor": 2
}
