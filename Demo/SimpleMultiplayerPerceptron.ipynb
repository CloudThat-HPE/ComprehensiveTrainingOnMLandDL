{
 "cells": [
  {
   "cell_type": "markdown",
   "metadata": {},
   "source": [
    "we can use MultilayerPerceptronClassifier. It is super easy to use, just Import it from pyspark.ml.classification. It is based on the feedforward artificial neural network. Nodes in the input layer represent the input data. The rest of the nodes map the inputs to the outputs by a linear combination of the inputs with the node’s weights w and bias b and applying activation functions.\n",
    "Features :\n",
    "1. It is based on the multi-layer perceptron.\n",
    "2. Sigmoid activation function is used in each Layer and Softmax activation function is used in the output layer.\n",
    "3. It uses logistic loss function for optimization and Solver L-BFGS for optimization routine. but You can another solver like gd."
   ]
  },
  {
   "cell_type": "code",
   "execution_count": 1,
   "metadata": {},
   "outputs": [],
   "source": [
    "import findspark\n",
    "findspark.init()"
   ]
  },
  {
   "cell_type": "code",
   "execution_count": 2,
   "metadata": {},
   "outputs": [],
   "source": [
    "from pyspark.sql import SparkSession\n",
    "from pyspark.ml.feature import VectorAssembler\n",
    "from pyspark.ml.classification import MultilayerPerceptronClassifier\n",
    "from pyspark.ml.feature import StandardScaler\n",
    "from pyspark.ml.evaluation import MulticlassClassificationEvaluator\n",
    "from pyspark.ml.feature import StringIndexer\n",
    "from pyspark.ml.feature import Imputer, MinMaxScaler\n",
    "from pyspark.sql.types import *\n",
    "from pyspark.sql.functions import *\n",
    "from pyspark.sql import *"
   ]
  },
  {
   "cell_type": "code",
   "execution_count": 3,
   "metadata": {},
   "outputs": [],
   "source": [
    "spark = SparkSession\\\n",
    "        .builder\\\n",
    "        .appName(\"DecisionTreeWithSpark\")\\\n",
    "        .getOrCreate()"
   ]
  },
  {
   "cell_type": "code",
   "execution_count": 6,
   "metadata": {},
   "outputs": [
    {
     "name": "stdout",
     "output_type": "stream",
     "text": [
      "+---------+---------+---------+---------+------+\n",
      "|feature_1|feature_2|feature_3|feature_4|Class |\n",
      "+---------+---------+---------+---------+------+\n",
      "|   3.6216|   8.6661|  -2.8073| -0.44699|     0|\n",
      "|   4.5459|   8.1674|  -2.4586|  -1.4621|     0|\n",
      "|    3.866|  -2.6383|   1.9242|  0.10645|     0|\n",
      "|   3.4566|   9.5228|  -4.0112|  -3.5944|     0|\n",
      "|  0.32924|  -4.4552|   4.5718|  -0.9888|     0|\n",
      "|       na|   9.6718|  -3.9606|  -3.1625|     0|\n",
      "|   3.5912|   3.0129|  0.72888|  0.56421|     0|\n",
      "|   2.0922|    -6.81|   8.4636| -0.60216|     0|\n",
      "|   3.2032|   5.7588| -0.75345| -0.61251|     0|\n",
      "|   1.5356|   9.1772|  -2.2718| -0.73535|     0|\n",
      "|   1.2247|   8.7779|  -2.2135| -0.80647|     0|\n",
      "|   3.9899|  -2.7066|   2.3946|  0.86291|     0|\n",
      "|   1.8993|   7.6625|  0.15394|  -3.1108|     0|\n",
      "|  -1.5768|   10.843|   2.5462|  -2.9362|     0|\n",
      "|    3.404|   8.7261|  -2.9915| -0.57242|     0|\n",
      "|   4.6765|  -3.3895|   3.4896|   1.4771|     0|\n",
      "|   2.6719|   3.0646|  0.37158|  0.58619|     0|\n",
      "|  0.80355|   2.8473|   4.3439|   0.6017|     0|\n",
      "|   1.4479|       na|   8.3428|  -2.1086|     0|\n",
      "|   5.2423|  11.0272|   -4.353|  -4.1013|     0|\n",
      "+---------+---------+---------+---------+------+\n",
      "only showing top 20 rows\n",
      "\n",
      "root\n",
      " |-- feature_1: string (nullable = true)\n",
      " |-- feature_2: string (nullable = true)\n",
      " |-- feature_3: string (nullable = true)\n",
      " |-- feature_4: string (nullable = true)\n",
      " |-- Class : string (nullable = true)\n",
      "\n"
     ]
    }
   ],
   "source": [
    "dataset = spark.read.csv(\"data_banknote_authentication.csv\",header=True)\n",
    "dataset.show()\n",
    "dataset.printSchema()"
   ]
  },
  {
   "cell_type": "code",
   "execution_count": 7,
   "metadata": {},
   "outputs": [],
   "source": [
    "for col in dataset.columns:\n",
    "    dataset = dataset.withColumn(col,dataset[col].cast('double'))"
   ]
  },
  {
   "cell_type": "code",
   "execution_count": 8,
   "metadata": {},
   "outputs": [],
   "source": [
    "input_cols = dataset.columns[:-1]"
   ]
  },
  {
   "cell_type": "code",
   "execution_count": 9,
   "metadata": {},
   "outputs": [],
   "source": [
    "imputed_col = ['f_{}'.format(i+1) for i in range(len(input_cols))]\n",
    "\n",
    "model = Imputer(strategy='mean',missingValue=None,inputCols=input_cols,outputCols=imputed_col).fit(dataset)\n",
    "impute_data = model.transform(dataset)"
   ]
  },
  {
   "cell_type": "code",
   "execution_count": 10,
   "metadata": {},
   "outputs": [
    {
     "name": "stdout",
     "output_type": "stream",
     "text": [
      "+---------+---------+---------+---------+------+------------------+------------------+--------+--------+\n",
      "|feature_1|feature_2|feature_3|feature_4|Class |               f_1|               f_2|     f_3|     f_4|\n",
      "+---------+---------+---------+---------+------+------------------+------------------+--------+--------+\n",
      "|   3.6216|   8.6661|  -2.8073| -0.44699|   0.0|            3.6216|            8.6661| -2.8073|-0.44699|\n",
      "|   4.5459|   8.1674|  -2.4586|  -1.4621|   0.0|            4.5459|            8.1674| -2.4586| -1.4621|\n",
      "|    3.866|  -2.6383|   1.9242|  0.10645|   0.0|             3.866|           -2.6383|  1.9242| 0.10645|\n",
      "|   3.4566|   9.5228|  -4.0112|  -3.5944|   0.0|            3.4566|            9.5228| -4.0112| -3.5944|\n",
      "|  0.32924|  -4.4552|   4.5718|  -0.9888|   0.0|           0.32924|           -4.4552|  4.5718| -0.9888|\n",
      "|     null|   9.6718|  -3.9606|  -3.1625|   0.0|0.4308653338439095|            9.6718| -3.9606| -3.1625|\n",
      "|   3.5912|   3.0129|  0.72888|  0.56421|   0.0|            3.5912|            3.0129| 0.72888| 0.56421|\n",
      "|   2.0922|    -6.81|   8.4636| -0.60216|   0.0|            2.0922|             -6.81|  8.4636|-0.60216|\n",
      "|   3.2032|   5.7588| -0.75345| -0.61251|   0.0|            3.2032|            5.7588|-0.75345|-0.61251|\n",
      "|   1.5356|   9.1772|  -2.2718| -0.73535|   0.0|            1.5356|            9.1772| -2.2718|-0.73535|\n",
      "|   1.2247|   8.7779|  -2.2135| -0.80647|   0.0|            1.2247|            8.7779| -2.2135|-0.80647|\n",
      "|   3.9899|  -2.7066|   2.3946|  0.86291|   0.0|            3.9899|           -2.7066|  2.3946| 0.86291|\n",
      "|   1.8993|   7.6625|  0.15394|  -3.1108|   0.0|            1.8993|            7.6625| 0.15394| -3.1108|\n",
      "|  -1.5768|   10.843|   2.5462|  -2.9362|   0.0|           -1.5768|            10.843|  2.5462| -2.9362|\n",
      "|    3.404|   8.7261|  -2.9915| -0.57242|   0.0|             3.404|            8.7261| -2.9915|-0.57242|\n",
      "|   4.6765|  -3.3895|   3.4896|   1.4771|   0.0|            4.6765|           -3.3895|  3.4896|  1.4771|\n",
      "|   2.6719|   3.0646|  0.37158|  0.58619|   0.0|            2.6719|            3.0646| 0.37158| 0.58619|\n",
      "|  0.80355|   2.8473|   4.3439|   0.6017|   0.0|           0.80355|            2.8473|  4.3439|  0.6017|\n",
      "|   1.4479|     null|   8.3428|  -2.1086|   0.0|            1.4479|1.9273142826529555|  8.3428| -2.1086|\n",
      "|   5.2423|  11.0272|   -4.353|  -4.1013|   0.0|            5.2423|           11.0272|  -4.353| -4.1013|\n",
      "+---------+---------+---------+---------+------+------------------+------------------+--------+--------+\n",
      "only showing top 20 rows\n",
      "\n"
     ]
    }
   ],
   "source": [
    "impute_data.show()"
   ]
  },
  {
   "cell_type": "code",
   "execution_count": 11,
   "metadata": {},
   "outputs": [],
   "source": [
    "assembler = VectorAssembler(inputCols=imputed_col, outputCol='assembled_features', handleInvalid='error')\n",
    "a_data = assembler.transform(impute_data)"
   ]
  },
  {
   "cell_type": "code",
   "execution_count": 12,
   "metadata": {},
   "outputs": [],
   "source": [
    "scaler = MinMaxScaler(min=0.0, max=1.0, inputCol='assembled_features', outputCol='features')\n",
    "s_data = scaler.fit(a_data).transform(a_data)"
   ]
  },
  {
   "cell_type": "code",
   "execution_count": 13,
   "metadata": {},
   "outputs": [
    {
     "data": {
      "text/plain": [
       "DataFrame[feature_1: double, feature_2: double, feature_3: double, feature_4: double, Class : double, f_1: double, f_2: double, f_3: double, f_4: double, assembled_features: vector, features: vector]"
      ]
     },
     "metadata": {},
     "output_type": "display_data"
    }
   ],
   "source": [
    "display(s_data)"
   ]
  },
  {
   "cell_type": "code",
   "execution_count": 14,
   "metadata": {},
   "outputs": [],
   "source": [
    "s_data = s_data.withColumnRenamed('Class','label')"
   ]
  },
  {
   "cell_type": "code",
   "execution_count": 15,
   "metadata": {},
   "outputs": [
    {
     "name": "stdout",
     "output_type": "stream",
     "text": [
      "+------+--------------------+\n",
      "|Class |            features|\n",
      "+------+--------------------+\n",
      "|   0.0|[0.76900388695382...|\n",
      "|   0.0|[0.83565901535310...|\n",
      "|   0.0|[0.78662859038429...|\n",
      "|   0.0|[0.75710504871312...|\n",
      "|   0.0|[0.53157807440740...|\n",
      "|   0.0|[0.53890670112598...|\n",
      "|   0.0|[0.76681161615068...|\n",
      "|   0.0|[0.65871247358818...|\n",
      "|   0.0|[0.73883131774224...|\n",
      "|   0.0|[0.61857372592288...|\n",
      "|   0.0|[0.59615343011055...|\n",
      "|   0.0|[0.79556353619049...|\n",
      "|   0.0|[0.64480164997223...|\n",
      "|   0.0|[0.39412557961765...|\n",
      "|   0.0|[0.75331184331032...|\n",
      "|   0.0|[0.84507712610605...|\n",
      "|   0.0|[0.70051705860718...|\n",
      "|   0.0|[0.56578254692829...|\n",
      "|   0.0|[0.61224931311251...|\n",
      "|   0.0|[0.88587932414598...|\n",
      "+------+--------------------+\n",
      "only showing top 20 rows\n",
      "\n"
     ]
    }
   ],
   "source": [
    "a = ['Class ','features']\n",
    "s_data.select(*a).show()"
   ]
  },
  {
   "cell_type": "code",
   "execution_count": 16,
   "metadata": {},
   "outputs": [
    {
     "name": "stdout",
     "output_type": "stream",
     "text": [
      "+------+--------------------+\n",
      "|Class |            features|\n",
      "+------+--------------------+\n",
      "|   0.0|[0.76900388695382...|\n",
      "|   0.0|[0.83565901535310...|\n",
      "|   0.0|[0.78662859038429...|\n",
      "|   0.0|[0.75710504871312...|\n",
      "|   0.0|[0.53157807440740...|\n",
      "|   0.0|[0.53890670112598...|\n",
      "|   0.0|[0.76681161615068...|\n",
      "|   0.0|[0.65871247358818...|\n",
      "|   0.0|[0.73883131774224...|\n",
      "|   0.0|[0.61857372592288...|\n",
      "|   0.0|[0.59615343011055...|\n",
      "|   0.0|[0.79556353619049...|\n",
      "|   0.0|[0.64480164997223...|\n",
      "|   0.0|[0.39412557961765...|\n",
      "|   0.0|[0.75331184331032...|\n",
      "|   0.0|[0.84507712610605...|\n",
      "|   0.0|[0.70051705860718...|\n",
      "|   0.0|[0.56578254692829...|\n",
      "|   0.0|[0.61224931311251...|\n",
      "|   0.0|[0.88587932414598...|\n",
      "+------+--------------------+\n",
      "only showing top 20 rows\n",
      "\n"
     ]
    }
   ],
   "source": [
    "col = ['Class ','features']\n",
    "s_data.select(*col).show()"
   ]
  },
  {
   "cell_type": "code",
   "execution_count": 17,
   "metadata": {},
   "outputs": [],
   "source": [
    "train_df,test_df = s_data.select('Class ','features').randomSplit([0.7,0.3],1213)"
   ]
  },
  {
   "cell_type": "code",
   "execution_count": 18,
   "metadata": {},
   "outputs": [
    {
     "name": "stdout",
     "output_type": "stream",
     "text": [
      "+------+--------------------+\n",
      "|Class |            features|\n",
      "+------+--------------------+\n",
      "|   0.0|[0.19876107853954...|\n",
      "|   0.0|[0.31320626816375...|\n",
      "|   0.0|[0.32870360354513...|\n",
      "|   0.0|[0.33488378801318...|\n",
      "|   0.0|[0.36600826428401...|\n",
      "|   0.0|[0.37781335410221...|\n",
      "|   0.0|[0.38120993156365...|\n",
      "|   0.0|[0.38276038624350...|\n",
      "|   0.0|[0.38558726175280...|\n",
      "|   0.0|[0.39912309167874...|\n",
      "|   0.0|[0.39926732002105...|\n",
      "|   0.0|[0.41408678219356...|\n",
      "|   0.0|[0.41408678219356...|\n",
      "|   0.0|[0.42568995233253...|\n",
      "|   0.0|[0.42625244286754...|\n",
      "|   0.0|[0.42711781292141...|\n",
      "|   0.0|[0.44169352919542...|\n",
      "|   0.0|[0.45695144552856...|\n",
      "|   0.0|[0.47533911688986...|\n",
      "|   0.0|[0.47912222630869...|\n",
      "+------+--------------------+\n",
      "only showing top 20 rows\n",
      "\n"
     ]
    }
   ],
   "source": [
    "test_df.show()"
   ]
  },
  {
   "cell_type": "code",
   "execution_count": 19,
   "metadata": {},
   "outputs": [],
   "source": [
    "mlpc=MultilayerPerceptronClassifier( featuresCol='features',labelCol='Class ',layers = [4,16,2],maxIter=1000,blockSize=8,seed=7,solver='gd')\n",
    "#mlpc=MultilayerPerceptronClassifier( featuresCol='features',labelCol='Class ',layers = [4,32,16,2],maxIter=1500,blockSize=32,seed=7,solver='gd')\n",
    "#mlpc=MultilayerPerceptronClassifier( featuresCol='features',labelCol='Class ',layers = [4,16,2],maxIter=500,blockSize=8,seed=7,solver='gd')"
   ]
  },
  {
   "cell_type": "code",
   "execution_count": 20,
   "metadata": {},
   "outputs": [],
   "source": [
    "ann = mlpc.fit(train_df)"
   ]
  },
  {
   "cell_type": "code",
   "execution_count": 21,
   "metadata": {},
   "outputs": [
    {
     "data": {
      "text/plain": [
       "0.8309986610958963"
      ]
     },
     "execution_count": 21,
     "metadata": {},
     "output_type": "execute_result"
    }
   ],
   "source": [
    "pred = ann.transform(test_df)\n",
    "evaluator = MulticlassClassificationEvaluator(labelCol='Class ',predictionCol='prediction',metricName='f1')\n",
    "ann_f1 = evaluator.evaluate(pred)\n",
    "ann_f1"
   ]
  },
  {
   "cell_type": "code",
   "execution_count": 22,
   "metadata": {},
   "outputs": [
    {
     "data": {
      "text/plain": [
       "DataFrame[Class : double, features: vector, rawPrediction: vector, probability: vector, prediction: double]"
      ]
     },
     "execution_count": 22,
     "metadata": {},
     "output_type": "execute_result"
    }
   ],
   "source": [
    "pred"
   ]
  },
  {
   "cell_type": "code",
   "execution_count": null,
   "metadata": {},
   "outputs": [],
   "source": []
  }
 ],
 "metadata": {
  "interpreter": {
   "hash": "c8e2474611b83d9571a280a7ba862d36318511be3482fc96112f8467724a795a"
  },
  "kernelspec": {
   "display_name": "Python 3",
   "language": "python",
   "name": "python3"
  },
  "language_info": {
   "codemirror_mode": {
    "name": "ipython",
    "version": 3
   },
   "file_extension": ".py",
   "mimetype": "text/x-python",
   "name": "python",
   "nbconvert_exporter": "python",
   "pygments_lexer": "ipython3",
   "version": "3.8.10"
  }
 },
 "nbformat": 4,
 "nbformat_minor": 2
}
