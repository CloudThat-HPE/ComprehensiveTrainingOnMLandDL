{
 "cells": [
  {
   "cell_type": "markdown",
   "metadata": {},
   "source": [
    "What are the reasons behind missing data?\n",
    "Missing data can occur due to many reasons. The data is collected from various sources and, while mining the data, there is a chance to lose the data. However, most of the time cause for missing data is item nonresponse, which means people are not willing(Due to a lack of knowledge about the question ) to answer the questions in a survey, and some people unwillingness to react to sensitive questions like age, salary, gender."
   ]
  },
  {
   "cell_type": "markdown",
   "metadata": {},
   "source": [
    "Types of Missing data\n",
    "Before dealing with the missing values, it is necessary to understand the category of missing values. There are 3 major categories of missing values.\n",
    "\n",
    "Missing Completely at Random(MCAR):\n",
    "A variable is missing completely at random (MCAR)if the missing values on a given variable (Y) don’t have a relationship with other variables in a given data set or with the variable (Y) itself. In other words, When data is MCAR, there is no relationship between the data missing and any values, and there is no particular reason for the missing values."
   ]
  },
  {
   "cell_type": "markdown",
   "metadata": {},
   "source": [
    "This article was published as a part of the Data Science Blogathon\n",
    "Overview of Missing Data\n",
    "Real-world data is messy and usually holds a lot of missing values. Missing data can skew anything for data scientists and, A data scientist doesn’t want to design biased estimates that point to invalid results. Behind, any analysis is only as great as the data. Missing data appear when no value is available in one or more variables of an individual. Due to Missing data, the statistical power of the analysis can reduce, which can impact the validity of the results.\n",
    "\n",
    "This article will help you to a guild the following topics.\n",
    "\n",
    "The reason behind missing data?\n",
    "What are the types of missing data?\n",
    "Missing Completely at Random (MCAR)\n",
    "Missing at Random (MAR)\n",
    "Missing Not at Random (MNAR)\n",
    "Detecting Missing values\n",
    "Detecting missing values numerically\n",
    "Detecting missing data visually using Missingno library\n",
    "Finding relationship among missing data\n",
    "Using matrix plot\n",
    "Using a Heatmap\n",
    "Treating Missing values\n",
    "Deletions\n",
    "Pairwise Deletion\n",
    "Listwise Deletion/ Dropping rows\n",
    "Dropping complete columns\n",
    "Basic Imputation Techniques\n",
    "Imputation with a constant value\n",
    "Imputation using the statistics (mean, median, mode)\n",
    "K-Nearest Neighbor Imputation\n",
    "let’s start…..\n",
    "\n",
    "What are the reasons behind missing data?\n",
    "Missing data can occur due to many reasons. The data is collected from various sources and, while mining the data, there is a chance to lose the data. However, most of the time cause for missing data is item nonresponse, which means people are not willing(Due to a lack of knowledge about the question ) to answer the questions in a survey, and some people unwillingness to react to sensitive questions like age, salary, gender.\n",
    "\n",
    "Types of Missing data\n",
    "Before dealing with the missing values, it is necessary to understand the category of missing values. There are 3 major categories of missing values.\n",
    "\n",
    "Missing Completely at Random(MCAR):\n",
    "A variable is missing completely at random (MCAR)if the missing values on a given variable (Y) don’t have a relationship with other variables in a given data set or with the variable (Y) itself. In other words, When data is MCAR, there is no relationship between the data missing and any values, and there is no particular reason for the missing values.\n",
    "\n",
    "\n",
    "Missing at Random(MAR):\n",
    "Let’s understands the following examples:\n",
    "Women are less likely to talk about age and weight than men.\n",
    "Men are less likely to talk about salary and emotions than women.\n",
    "familiar right?… This sort of missing content indicates missing at random.\n",
    "MAR occurs when the missingness is not random, but there is a systematic relationship between missing values and other observed data but not the missing data.\n",
    "\n",
    "Missing Not at Random(MNAR):\n",
    "The final and most difficult situation of missingness. MNAR occurs when the missingness is not random, and there is a systematic relationship between missing value, observed value, and missing itself. "
   ]
  },
  {
   "cell_type": "code",
   "execution_count": 2,
   "metadata": {},
   "outputs": [
    {
     "name": "stdout",
     "output_type": "stream",
     "text": [
      "Collecting seaborn\n",
      "  Downloading seaborn-0.11.2-py3-none-any.whl (292 kB)\n",
      "     -------------------------------------- 292.8/292.8 KB 3.0 MB/s eta 0:00:00\n",
      "Requirement already satisfied: scipy>=1.0 in c:\\users\\amitsureshsonawane\\miniconda3\\lib\\site-packages (from seaborn) (1.5.2)\n",
      "Requirement already satisfied: pandas>=0.23 in c:\\users\\amitsureshsonawane\\miniconda3\\lib\\site-packages (from seaborn) (0.25.3)\n",
      "Requirement already satisfied: numpy>=1.15 in c:\\users\\amitsureshsonawane\\miniconda3\\lib\\site-packages (from seaborn) (1.22.1)\n",
      "Requirement already satisfied: matplotlib>=2.2 in c:\\users\\amitsureshsonawane\\miniconda3\\lib\\site-packages (from seaborn) (3.2.1)\n",
      "Requirement already satisfied: pyparsing!=2.0.4,!=2.1.2,!=2.1.6,>=2.0.1 in c:\\users\\amitsureshsonawane\\miniconda3\\lib\\site-packages (from matplotlib>=2.2->seaborn) (2.4.7)\n",
      "Requirement already satisfied: cycler>=0.10 in c:\\users\\amitsureshsonawane\\miniconda3\\lib\\site-packages (from matplotlib>=2.2->seaborn) (0.10.0)\n",
      "Requirement already satisfied: python-dateutil>=2.1 in c:\\users\\amitsureshsonawane\\miniconda3\\lib\\site-packages (from matplotlib>=2.2->seaborn) (2.8.2)\n",
      "Requirement already satisfied: kiwisolver>=1.0.1 in c:\\users\\amitsureshsonawane\\miniconda3\\lib\\site-packages (from matplotlib>=2.2->seaborn) (1.3.1)\n",
      "Requirement already satisfied: pytz>=2017.2 in c:\\users\\amitsureshsonawane\\miniconda3\\lib\\site-packages (from pandas>=0.23->seaborn) (2021.3)\n",
      "Requirement already satisfied: six in c:\\users\\amitsureshsonawane\\miniconda3\\lib\\site-packages (from cycler>=0.10->matplotlib>=2.2->seaborn) (1.16.0)\n",
      "Installing collected packages: seaborn\n",
      "Successfully installed seaborn-0.11.2\n",
      "Note: you may need to restart the kernel to use updated packages.\n"
     ]
    },
    {
     "name": "stderr",
     "output_type": "stream",
     "text": [
      "WARNING: You are using pip version 22.0.3; however, version 22.1 is available.\n",
      "You should consider upgrading via the 'c:\\Users\\AmitSureshSonawane\\miniconda3\\python.exe -m pip install --upgrade pip' command.\n"
     ]
    }
   ],
   "source": [
    "pip install seaborn"
   ]
  },
  {
   "cell_type": "code",
   "execution_count": 3,
   "metadata": {},
   "outputs": [
    {
     "data": {
      "text/html": [
       "<div>\n",
       "<style scoped>\n",
       "    .dataframe tbody tr th:only-of-type {\n",
       "        vertical-align: middle;\n",
       "    }\n",
       "\n",
       "    .dataframe tbody tr th {\n",
       "        vertical-align: top;\n",
       "    }\n",
       "\n",
       "    .dataframe thead th {\n",
       "        text-align: right;\n",
       "    }\n",
       "</style>\n",
       "<table border=\"1\" class=\"dataframe\">\n",
       "  <thead>\n",
       "    <tr style=\"text-align: right;\">\n",
       "      <th></th>\n",
       "      <th>Missing Values</th>\n",
       "      <th>% of Total Values</th>\n",
       "    </tr>\n",
       "  </thead>\n",
       "  <tbody>\n",
       "    <tr>\n",
       "      <th>Outlet_Size</th>\n",
       "      <td>2410.0</td>\n",
       "      <td>28.3</td>\n",
       "    </tr>\n",
       "    <tr>\n",
       "      <th>Item_Weight</th>\n",
       "      <td>1463.0</td>\n",
       "      <td>17.2</td>\n",
       "    </tr>\n",
       "    <tr>\n",
       "      <th>Item_Identifier</th>\n",
       "      <td>NaN</td>\n",
       "      <td>NaN</td>\n",
       "    </tr>\n",
       "    <tr>\n",
       "      <th>Item_Fat_Content</th>\n",
       "      <td>NaN</td>\n",
       "      <td>NaN</td>\n",
       "    </tr>\n",
       "    <tr>\n",
       "      <th>Item_Visibility</th>\n",
       "      <td>NaN</td>\n",
       "      <td>NaN</td>\n",
       "    </tr>\n",
       "    <tr>\n",
       "      <th>Item_Type</th>\n",
       "      <td>NaN</td>\n",
       "      <td>NaN</td>\n",
       "    </tr>\n",
       "    <tr>\n",
       "      <th>Item_MRP</th>\n",
       "      <td>NaN</td>\n",
       "      <td>NaN</td>\n",
       "    </tr>\n",
       "    <tr>\n",
       "      <th>Outlet_Identifier</th>\n",
       "      <td>NaN</td>\n",
       "      <td>NaN</td>\n",
       "    </tr>\n",
       "    <tr>\n",
       "      <th>Outlet_Establishment_Year</th>\n",
       "      <td>NaN</td>\n",
       "      <td>NaN</td>\n",
       "    </tr>\n",
       "    <tr>\n",
       "      <th>Outlet_Location_Type</th>\n",
       "      <td>NaN</td>\n",
       "      <td>NaN</td>\n",
       "    </tr>\n",
       "    <tr>\n",
       "      <th>Outlet_Type</th>\n",
       "      <td>NaN</td>\n",
       "      <td>NaN</td>\n",
       "    </tr>\n",
       "    <tr>\n",
       "      <th>Item_Outlet_Sales</th>\n",
       "      <td>NaN</td>\n",
       "      <td>NaN</td>\n",
       "    </tr>\n",
       "  </tbody>\n",
       "</table>\n",
       "</div>"
      ],
      "text/plain": [
       "                           Missing Values  % of Total Values\n",
       "Outlet_Size                        2410.0               28.3\n",
       "Item_Weight                        1463.0               17.2\n",
       "Item_Identifier                       NaN                NaN\n",
       "Item_Fat_Content                      NaN                NaN\n",
       "Item_Visibility                       NaN                NaN\n",
       "Item_Type                             NaN                NaN\n",
       "Item_MRP                              NaN                NaN\n",
       "Outlet_Identifier                     NaN                NaN\n",
       "Outlet_Establishment_Year             NaN                NaN\n",
       "Outlet_Location_Type                  NaN                NaN\n",
       "Outlet_Type                           NaN                NaN\n",
       "Item_Outlet_Sales                     NaN                NaN"
      ]
     },
     "execution_count": 3,
     "metadata": {},
     "output_type": "execute_result"
    }
   ],
   "source": [
    "#Detecting missing values numerically: First, detect the percentage of missing values in every column of the dataset will give an idea about the distribution of missing values.\n",
    "\n",
    "import pandas as pd\n",
    "import numpy as np\n",
    "import matplotlib.pyplot as plt\n",
    "import seaborn as sns\n",
    "\n",
    "train = pd.read_csv(\"Train.csv\")\n",
    "\n",
    "mis_val =train.isna().sum()\n",
    "mis_val_per = train.isna().sum()/len(train)*100\n",
    "mis_val_table = pd.concat([mis_val, mis_val_per], axis=1)\n",
    "mis_val_table_ren_columns = mis_val_table.rename(\n",
    "        columns = {0 : 'Missing Values', 1 : '% of Total Values'})\n",
    "mis_val_table_ren_columns = mis_val_table_ren_columns[\n",
    "       mis_val_table_ren_columns.iloc[:,:] != 0].sort_values(\n",
    "        '% of Total Values', ascending=False).round(1)\n",
    "mis_val_table_ren_columns"
   ]
  },
  {
   "cell_type": "code",
   "execution_count": null,
   "metadata": {},
   "outputs": [],
   "source": [
    "#\n",
    "train.shape"
   ]
  },
  {
   "cell_type": "markdown",
   "metadata": {},
   "source": [
    "Imputation with constant value:\n",
    "As the title hints — it replaces the missing values with either zero or any constant value.\n",
    "We will use the SimpleImputer class from sklearn."
   ]
  },
  {
   "cell_type": "code",
   "execution_count": 4,
   "metadata": {},
   "outputs": [
    {
     "data": {
      "text/plain": [
       "Item_Identifier              0\n",
       "Item_Weight                  0\n",
       "Item_Fat_Content             0\n",
       "Item_Visibility              0\n",
       "Item_Type                    0\n",
       "Item_MRP                     0\n",
       "Outlet_Identifier            0\n",
       "Outlet_Establishment_Year    0\n",
       "Outlet_Size                  0\n",
       "Outlet_Location_Type         0\n",
       "Outlet_Type                  0\n",
       "Item_Outlet_Sales            0\n",
       "dtype: int64"
      ]
     },
     "execution_count": 4,
     "metadata": {},
     "output_type": "execute_result"
    }
   ],
   "source": [
    "from sklearn.impute import SimpleImputer\n",
    "train_constant = train.copy()\n",
    "#setting strategy to 'constant' \n",
    "mean_imputer = SimpleImputer(strategy='constant') # imputing using constant value\n",
    "train_constant.iloc[:,:] = mean_imputer.fit_transform(train_constant)\n",
    "train_constant.isnull().sum()"
   ]
  },
  {
   "cell_type": "markdown",
   "metadata": {},
   "source": [
    "Imputation using Statistics:\n",
    "The syntax is the same as imputation with constant only the SimpleImputer strategy will change. It can be “Mean” or “Median” or “Most_Frequent”."
   ]
  },
  {
   "cell_type": "code",
   "execution_count": 5,
   "metadata": {},
   "outputs": [
    {
     "data": {
      "text/plain": [
       "dtype('float64')"
      ]
     },
     "execution_count": 5,
     "metadata": {},
     "output_type": "execute_result"
    }
   ],
   "source": [
    "#Before using any strategy, the foremost step is to check the type of data and distribution of features(if numeric).\n",
    "\n",
    "train['Item_Weight'].dtype"
   ]
  },
  {
   "cell_type": "code",
   "execution_count": 6,
   "metadata": {},
   "outputs": [
    {
     "name": "stderr",
     "output_type": "stream",
     "text": [
      "c:\\Users\\AmitSureshSonawane\\miniconda3\\lib\\site-packages\\seaborn\\distributions.py:2619: FutureWarning: `distplot` is a deprecated function and will be removed in a future version. Please adapt your code to use either `displot` (a figure-level function with similar flexibility) or `histplot` (an axes-level function for histograms).\n",
      "  warnings.warn(msg, FutureWarning)\n"
     ]
    },
    {
     "data": {
      "text/plain": [
       "<matplotlib.axes._subplots.AxesSubplot at 0x17ca5c7a7c0>"
      ]
     },
     "execution_count": 6,
     "metadata": {},
     "output_type": "execute_result"
    },
    {
     "data": {
      "image/png": "[encoded data removed]",
      "text/plain": [
       "<Figure size 432x288 with 1 Axes>"
      ]
     },
     "metadata": {
      "needs_background": "light"
     },
     "output_type": "display_data"
    }
   ],
   "source": [
    "sns.distplot(train['Item_Weight'])"
   ]
  },
  {
   "cell_type": "markdown",
   "metadata": {},
   "source": [
    "Item_Weight column satisfying both conditions numeric type and doesn’t have skewed(follow Gaussian distribution). here, we can use any strategy."
   ]
  },
  {
   "cell_type": "code",
   "execution_count": 7,
   "metadata": {},
   "outputs": [
    {
     "data": {
      "text/plain": [
       "Item_Identifier              0\n",
       "Item_Weight                  0\n",
       "Item_Fat_Content             0\n",
       "Item_Visibility              0\n",
       "Item_Type                    0\n",
       "Item_MRP                     0\n",
       "Outlet_Identifier            0\n",
       "Outlet_Establishment_Year    0\n",
       "Outlet_Size                  0\n",
       "Outlet_Location_Type         0\n",
       "Outlet_Type                  0\n",
       "Item_Outlet_Sales            0\n",
       "dtype: int64"
      ]
     },
     "execution_count": 7,
     "metadata": {},
     "output_type": "execute_result"
    }
   ],
   "source": [
    "from sklearn.impute import SimpleImputer\n",
    "train_most_frequent = train.copy()\n",
    "#setting strategy to 'mean' to impute by the mean\n",
    "mean_imputer = SimpleImputer(strategy='most_frequent')# strategy can also be mean or median \n",
    "train_most_frequent.iloc[:,:] = mean_imputer.fit_transform(train_most_frequent)\n",
    "train_most_frequent.isnull().sum()"
   ]
  },
  {
   "cell_type": "markdown",
   "metadata": {},
   "source": [
    "K_Nearest Neighbor Imputation:\n",
    "\n",
    "The KNN algorithm helps to impute missing data by finding the closest neighbors using the Euclidean distance metric to the observation with missing data and imputing them based on the non-missing values in the neighbors."
   ]
  },
  {
   "cell_type": "code",
   "execution_count": 8,
   "metadata": {},
   "outputs": [
    {
     "data": {
      "text/plain": [
       "0"
      ]
     },
     "execution_count": 8,
     "metadata": {},
     "output_type": "execute_result"
    }
   ],
   "source": [
    "train_knn = train.copy(deep=True)\n",
    "from sklearn.impute import KNNImputer\n",
    "knn_imputer = KNNImputer(n_neighbors=2, weights=\"uniform\")\n",
    "train_knn['Item_Weight'] = knn_imputer.fit_transform(train_knn[['Item_Weight']])\n",
    "train_knn['Item_Weight'].isnull().sum()"
   ]
  },
  {
   "cell_type": "markdown",
   "metadata": {},
   "source": [
    "We use imputation because Missing data can cause the below issues: –\n",
    "\n",
    "Incompatible with most of the Python libraries used in Machine Learning:- Yes, you read it right. While using the libraries for ML(the most common is skLearn), they don’t have a provision to automatically handle these missing data and can lead to errors.\n",
    "Distortion in Dataset:- A huge amount of missing data can cause distortions in the variable distribution i.e it can increase or decrease the value of a particular category in the dataset.\n",
    "Affects the Final Model:- the missing data can cause a bias in the dataset and can lead to a faulty analysis by the model.\n",
    "Another and the most important reason is “We want to restore the complete dataset”. This is mostly in the case when we do not want to lose any(more of) data from our dataset as all of it is important, & secondly, dataset size is not very big, and removing some part of it can have a significant impact on the final model."
   ]
  }
 ],
 "metadata": {
  "interpreter": {
   "hash": "c8e2474611b83d9571a280a7ba862d36318511be3482fc96112f8467724a795a"
  },
  "kernelspec": {
   "display_name": "Python 3.8.10 ('base')",
   "language": "python",
   "name": "python3"
  },
  "language_info": {
   "codemirror_mode": {
    "name": "ipython",
    "version": 3
   },
   "file_extension": ".py",
   "mimetype": "text/x-python",
   "name": "python",
   "nbconvert_exporter": "python",
   "pygments_lexer": "ipython3",
   "version": "3.8.10"
  },
  "orig_nbformat": 4
 },
 "nbformat": 4,
 "nbformat_minor": 2
}
