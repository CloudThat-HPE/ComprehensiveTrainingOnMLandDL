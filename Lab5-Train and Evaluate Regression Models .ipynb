{
 "cells": [
  {
   "cell_type": "markdown",
   "id": "ec726a0e",
   "metadata": {},
   "source": [
    "# Linear Regression model\n",
    "\n",
    "We are using linear regression on spark to predict the price of real estate property based on the features like age, stores, latitude, longitude, etc.."
   ]
  },
  {
   "cell_type": "markdown",
   "id": "9e8624d7",
   "metadata": {},
   "source": [
    "To add PySpark to sys.path for running the code on the Jupyter IDE we are Using the package findspark "
   ]
  },
  {
   "cell_type": "code",
   "execution_count": 1,
   "id": "d11aa85d",
   "metadata": {},
   "outputs": [
    {
     "data": {
      "text/plain": [
       "'C:\\\\Spark\\\\spark-3.0.3-bin-hadoop2.7'"
      ]
     },
     "execution_count": 1,
     "metadata": {},
     "output_type": "execute_result"
    }
   ],
   "source": [
    "import pyspark\n",
    "import findspark\n",
    "findspark.init()\n",
    "findspark.find()"
   ]
  },
  {
   "cell_type": "markdown",
   "id": "f50990d4",
   "metadata": {},
   "source": [
    "To perform any task on spark you need start a spark session, here we are starting a session for our linear regression."
   ]
  },
  {
   "cell_type": "code",
   "execution_count": 2,
   "id": "ae34a024",
   "metadata": {},
   "outputs": [],
   "source": [
    "from pyspark.sql import SparkSession\n",
    "\n",
    "spark = SparkSession.builder.appName(\"Linear App\").getOrCreate()"
   ]
  },
  {
   "cell_type": "markdown",
   "id": "0f20a1b1",
   "metadata": {},
   "source": [
    "# Data Preprocessing and Exploration\n",
    "\n",
    "Now we started our spark session. To start building our linear regression model we need to load and process the real estate dataset "
   ]
  },
  {
   "cell_type": "code",
   "execution_count": 3,
   "id": "5d8573d8",
   "metadata": {},
   "outputs": [
    {
     "name": "stderr",
     "output_type": "stream",
     "text": [
      "--2022-01-10 20:07:36--  https://raw.githubusercontent.com/ismayilsiyad/hpe_ml/main/Real%20estate.csv\n",
      "Resolving raw.githubusercontent.com (raw.githubusercontent.com)... 185.199.108.133, 185.199.109.133, 185.199.111.133, ...\n",
      "Connecting to raw.githubusercontent.com (raw.githubusercontent.com)|185.199.108.133|:443... connected.\n",
      "HTTP request sent, awaiting response... 200 OK\n",
      "Length: 21968 (21K) [text/plain]\n",
      "Saving to: 'Real estate.csv.7'\n",
      "\n",
      "     0K .......... .......... .                               100% 1.33M=0.02s\n",
      "\n",
      "2022-01-10 20:07:37 (1.33 MB/s) - 'Real estate.csv.7' saved [21968/21968]\n",
      "\n"
     ]
    },
    {
     "name": "stdout",
     "output_type": "stream",
     "text": [
      "root\n",
      " |-- No: string (nullable = true)\n",
      " |-- X1 transaction date: string (nullable = true)\n",
      " |-- X2 house age: string (nullable = true)\n",
      " |-- X3 distance to the nearest MRT station: string (nullable = true)\n",
      " |-- X4 number of convenience stores: string (nullable = true)\n",
      " |-- X5 latitude: string (nullable = true)\n",
      " |-- X6 longitude: string (nullable = true)\n",
      " |-- Y house price of unit area: string (nullable = true)\n",
      "\n",
      "+---+-------------------+------------+--------------------------------------+-------------------------------+-----------+------------+--------------------------+\n",
      "| No|X1 transaction date|X2 house age|X3 distance to the nearest MRT station|X4 number of convenience stores|X5 latitude|X6 longitude|Y house price of unit area|\n",
      "+---+-------------------+------------+--------------------------------------+-------------------------------+-----------+------------+--------------------------+\n",
      "|  1|           2012.917|          32|                              84.87882|                             10|   24.98298|   121.54024|                      37.9|\n",
      "|  2|           2012.917|        19.5|                              306.5947|                              9|   24.98034|   121.53951|                      42.2|\n",
      "|  3|           2013.583|        13.3|                              561.9845|                              5|   24.98746|   121.54391|                      47.3|\n",
      "|  4|           2013.500|        13.3|                              561.9845|                              5|   24.98746|   121.54391|                      54.8|\n",
      "|  5|           2012.833|           5|                              390.5684|                              5|   24.97937|   121.54245|                      43.1|\n",
      "|  6|           2012.667|         7.1|                               2175.03|                              3|   24.96305|   121.51254|                      32.1|\n",
      "|  7|           2012.667|        34.5|                              623.4731|                              7|   24.97933|   121.53642|                      40.3|\n",
      "|  8|           2013.417|        20.3|                              287.6025|                              6|   24.98042|   121.54228|                      46.7|\n",
      "|  9|           2013.500|        31.7|                              5512.038|                              1|   24.95095|   121.48458|                      18.8|\n",
      "| 10|           2013.417|        17.9|                               1783.18|                              3|   24.96731|   121.51486|                      22.1|\n",
      "| 11|           2013.083|        34.8|                              405.2134|                              1|   24.97349|   121.53372|                      41.4|\n",
      "| 12|           2013.333|         6.3|                              90.45606|                              9|   24.97433|    121.5431|                      58.1|\n",
      "| 13|           2012.917|          13|                              492.2313|                              5|   24.96515|   121.53737|                      39.3|\n",
      "| 14|           2012.667|        20.4|                              2469.645|                              4|   24.96108|   121.51046|                      23.8|\n",
      "| 15|           2013.500|        13.2|                              1164.838|                              4|   24.99156|   121.53406|                      34.3|\n",
      "| 16|           2013.583|        35.7|                              579.2083|                              2|    24.9824|   121.54619|                      50.5|\n",
      "| 17|           2013.250|           0|                              292.9978|                              6|   24.97744|   121.54458|                      70.1|\n",
      "| 18|           2012.750|        17.7|                              350.8515|                              1|   24.97544|   121.53119|                      37.4|\n",
      "| 19|           2013.417|        16.9|                              368.1363|                              8|    24.9675|   121.54451|                      42.3|\n",
      "| 20|           2012.667|         1.5|                              23.38284|                              7|   24.96772|   121.54102|                      47.7|\n",
      "+---+-------------------+------------+--------------------------------------+-------------------------------+-----------+------------+--------------------------+\n",
      "only showing top 20 rows\n",
      "\n"
     ]
    }
   ],
   "source": [
    "!wget https://raw.githubusercontent.com/ismayilsiyad/hpe_ml/main/Real%20estate.csv\n",
    "real_estate = spark.read.csv('Real estate.csv',header= True)\n",
    "real_estate.printSchema()\n",
    "real_estate.show()"
   ]
  },
  {
   "cell_type": "markdown",
   "id": "a9b40a85",
   "metadata": {},
   "source": [
    "# Dropping unwanted columns\n",
    "\n",
    "We need to drop unwanted columns from the dataset. By looking into the dataset we can see columns 'No.' and  X1 transaction date' have no relevance in predicting the price. To have this insight in a complex problem. we have to formulate the hypothesis and evaluation of the hypothesis should be done."
   ]
  },
  {
   "cell_type": "code",
   "execution_count": 4,
   "id": "7aab4af6",
   "metadata": {},
   "outputs": [
    {
     "name": "stdout",
     "output_type": "stream",
     "text": [
      "root\n",
      " |-- X2 house age: string (nullable = true)\n",
      " |-- X3 distance to the nearest MRT station: string (nullable = true)\n",
      " |-- X4 number of convenience stores: string (nullable = true)\n",
      " |-- X5 latitude: string (nullable = true)\n",
      " |-- X6 longitude: string (nullable = true)\n",
      " |-- Y house price of unit area: string (nullable = true)\n",
      "\n"
     ]
    }
   ],
   "source": [
    "colm = ['No','X1 transaction date']\n",
    "re_df = real_estate.select([column for column in real_estate.columns if column not in colm])\n",
    "re_df.printSchema()"
   ]
  },
  {
   "cell_type": "markdown",
   "id": "930e49e3",
   "metadata": {},
   "source": [
    "# Changing the column datatype\n",
    "\n",
    "We need to change column datatype to float from the initial string datatype"
   ]
  },
  {
   "cell_type": "code",
   "execution_count": 5,
   "id": "9bae2248",
   "metadata": {},
   "outputs": [
    {
     "name": "stdout",
     "output_type": "stream",
     "text": [
      "root\n",
      " |-- X2 house age: float (nullable = true)\n",
      " |-- X3 distance to the nearest MRT station: float (nullable = true)\n",
      " |-- X4 number of convenience stores: float (nullable = true)\n",
      " |-- X5 latitude: float (nullable = true)\n",
      " |-- X6 longitude: float (nullable = true)\n",
      " |-- Y house price of unit area: float (nullable = true)\n",
      "\n"
     ]
    }
   ],
   "source": [
    "from pyspark.sql.functions import col\n",
    "re_df = re_df.select(*(col(c).cast('float').alias(c) for c in re_df.columns))\n",
    "re_df.printSchema()"
   ]
  },
  {
   "cell_type": "markdown",
   "id": "a7124b11",
   "metadata": {},
   "source": [
    "# Taking the count of the null and missing values"
   ]
  },
  {
   "cell_type": "code",
   "execution_count": 6,
   "id": "660bdaad",
   "metadata": {},
   "outputs": [
    {
     "name": "stdout",
     "output_type": "stream",
     "text": [
      "+------------+--------------------------------------+-------------------------------+-----------+------------+--------------------------+\n",
      "|X2 house age|X3 distance to the nearest MRT station|X4 number of convenience stores|X5 latitude|X6 longitude|Y house price of unit area|\n",
      "+------------+--------------------------------------+-------------------------------+-----------+------------+--------------------------+\n",
      "|           0|                                     0|                              0|          0|           0|                         0|\n",
      "+------------+--------------------------------------+-------------------------------+-----------+------------+--------------------------+\n",
      "\n"
     ]
    }
   ],
   "source": [
    "from pyspark.sql.functions import col, count, isnan, when\n",
    "re_df.select([count(when(col(c).isNull(), c)).alias(c) for c in re_df.columns]).show()"
   ]
  },
  {
   "cell_type": "markdown",
   "id": "20eb42d9",
   "metadata": {},
   "source": [
    "Since the count is zero we need not do anything further. If the count is nonzero we have to remove or substitute these values. One more preproceessing that we re doing is to reduce the lengthy names of each column to managable smaller names."
   ]
  },
  {
   "cell_type": "code",
   "execution_count": 6,
   "id": "321e9be3",
   "metadata": {},
   "outputs": [
    {
     "name": "stdout",
     "output_type": "stream",
     "text": [
      "root\n",
      " |-- Age: float (nullable = true)\n",
      " |-- Distance_2_MRT: float (nullable = true)\n",
      " |-- Stores: float (nullable = true)\n",
      " |-- Latitude: float (nullable = true)\n",
      " |-- Longitude: float (nullable = true)\n",
      " |-- Price: float (nullable = true)\n",
      "\n",
      "+----+--------------+------+--------+---------+-----+\n",
      "| Age|Distance_2_MRT|Stores|Latitude|Longitude|Price|\n",
      "+----+--------------+------+--------+---------+-----+\n",
      "|32.0|      84.87882|  10.0|24.98298|121.54024| 37.9|\n",
      "|19.5|      306.5947|   9.0|24.98034|121.53951| 42.2|\n",
      "|13.3|      561.9845|   5.0|24.98746|121.54391| 47.3|\n",
      "|13.3|      561.9845|   5.0|24.98746|121.54391| 54.8|\n",
      "| 5.0|      390.5684|   5.0|24.97937|121.54245| 43.1|\n",
      "| 7.1|       2175.03|   3.0|24.96305|121.51254| 32.1|\n",
      "|34.5|      623.4731|   7.0|24.97933|121.53642| 40.3|\n",
      "|20.3|      287.6025|   6.0|24.98042|121.54228| 46.7|\n",
      "|31.7|      5512.038|   1.0|24.95095|121.48458| 18.8|\n",
      "|17.9|       1783.18|   3.0|24.96731|121.51486| 22.1|\n",
      "|34.8|      405.2134|   1.0|24.97349|121.53372| 41.4|\n",
      "| 6.3|      90.45606|   9.0|24.97433| 121.5431| 58.1|\n",
      "|13.0|      492.2313|   5.0|24.96515|121.53737| 39.3|\n",
      "|20.4|      2469.645|   4.0|24.96108|121.51046| 23.8|\n",
      "|13.2|      1164.838|   4.0|24.99156|121.53406| 34.3|\n",
      "|35.7|      579.2083|   2.0| 24.9824|121.54619| 50.5|\n",
      "| 0.0|      292.9978|   6.0|24.97744|121.54458| 70.1|\n",
      "|17.7|      350.8515|   1.0|24.97544|121.53119| 37.4|\n",
      "|16.9|      368.1363|   8.0| 24.9675|121.54451| 42.3|\n",
      "| 1.5|      23.38284|   7.0|24.96772|121.54102| 47.7|\n",
      "+----+--------------+------+--------+---------+-----+\n",
      "only showing top 20 rows\n",
      "\n"
     ]
    }
   ],
   "source": [
    "from functools import reduce\n",
    "\n",
    "oldColumns = re_df.schema.names\n",
    "newColumns = ['Age','Distance_2_MRT','Stores','Latitude','Longitude','Price']\n",
    "\n",
    "re_df = reduce(lambda re_df, idx: re_df.withColumnRenamed(oldColumns[idx], newColumns[idx]),range(len(oldColumns)), re_df)\n",
    "re_df.printSchema()\n",
    "re_df.show()"
   ]
  },
  {
   "cell_type": "markdown",
   "id": "413fd8b0",
   "metadata": {},
   "source": [
    "# Visualizing the data\n",
    "\n",
    "We are using an open visualization library Matplotlib for visualizing our real estate data"
   ]
  },
  {
   "cell_type": "code",
   "execution_count": 7,
   "id": "328ae6a9",
   "metadata": {},
   "outputs": [
    {
     "name": "stderr",
     "output_type": "stream",
     "text": [
      "C:\\Users\\ISMAYI~1\\AppData\\Local\\Temp/ipykernel_7660/1293496851.py:29: UserWarning: Matplotlib is currently using module://matplotlib_inline.backend_inline, which is a non-GUI backend, so cannot show the figure.\n",
      "  fig.show()\n"
     ]
    },
    {
     "data": {
      "image/png": "[encoded data removed]",
      "text/plain": [
       "<Figure size 648x864 with 2 Axes>"
      ]
     },
     "metadata": {
      "needs_background": "light"
     },
     "output_type": "display_data"
    }
   ],
   "source": [
    "from pyspark.sql.functions import col\n",
    "\n",
    "import matplotlib.pyplot as plt\n",
    "\n",
    "# This ensures plots are displayed inline in the Jupyter notebook\n",
    "%matplotlib inline\n",
    "\n",
    "# Get the label column\n",
    "\n",
    "label = re_df.select(col(\"price\"))\n",
    "label = label.select(\"price\").rdd.flatMap(lambda x: x).collect()\n",
    "\n",
    "\n",
    "# Create a figure for 2 subplots (2 rows, 1 column)\n",
    "fig, ax = plt.subplots(2, 1, figsize = (9,12))\n",
    "\n",
    "# Plot the histogram   \n",
    "ax[0].hist(label, bins=100)\n",
    "ax[0].set_ylabel('Frequency')\n",
    "\n",
    "# Plot the boxplot   \n",
    "ax[1].boxplot(label, vert=False)\n",
    "ax[1].set_xlabel('Price')\n",
    "\n",
    "# Add a title to the Figure\n",
    "fig.suptitle('Real Estate Property Price Distribution')\n",
    "\n",
    "# Show the figure\n",
    "fig.show()"
   ]
  },
  {
   "cell_type": "markdown",
   "id": "b0d87005",
   "metadata": {},
   "source": [
    "# List of columns to vector form\n",
    "\n",
    "We are using VectorAssembler to convert the list columns in our dataset to vector form in which all the features are grouped to vector form"
   ]
  },
  {
   "cell_type": "code",
   "execution_count": 8,
   "id": "ba707570",
   "metadata": {},
   "outputs": [],
   "source": [
    "features = re_df.drop('Price')\n",
    "from pyspark.ml.feature import VectorAssembler\n",
    "#let's assemble our features together using vectorAssembler\n",
    "assembler = VectorAssembler(\n",
    "    inputCols=features.columns,\n",
    "    outputCol=\"features\")\n",
    "output = assembler.transform(re_df).select('features','Price')"
   ]
  },
  {
   "cell_type": "markdown",
   "id": "987377d4",
   "metadata": {},
   "source": [
    "# Splitting the data into training and testing datasets\n",
    "\n",
    "The dataset in vector form is now splitting into train and test datset fractions"
   ]
  },
  {
   "cell_type": "code",
   "execution_count": 9,
   "id": "20268bdf",
   "metadata": {},
   "outputs": [
    {
     "name": "stdout",
     "output_type": "stream",
     "text": [
      "+--------------------+-----+\n",
      "|            features|Price|\n",
      "+--------------------+-----+\n",
      "|[0.0,185.42959594...| 37.9|\n",
      "|[0.0,185.42959594...| 45.5|\n",
      "|[0.0,185.42959594...| 55.3|\n",
      "|[0.0,208.39050292...| 44.0|\n",
      "|[0.0,208.39050292...| 45.7|\n",
      "|[0.0,274.01440429...| 45.4|\n",
      "|[0.0,274.01440429...| 52.2|\n",
      "|[0.0,292.99780273...| 63.3|\n",
      "|[0.0,292.99780273...| 70.1|\n",
      "|[0.0,292.99780273...| 71.0|\n",
      "|[0.0,292.99780273...| 73.6|\n",
      "|[0.0,338.96789550...| 44.9|\n",
      "|[0.0,338.96789550...| 50.8|\n",
      "|[1.0,193.58450317...| 50.7|\n",
      "|[1.10000002384185...| 45.1|\n",
      "|[1.10000002384185...| 48.6|\n",
      "|[1.10000002384185...| 49.0|\n",
      "|[1.10000002384185...| 54.4|\n",
      "|[1.5,23.382839202...| 47.7|\n",
      "|[1.70000004768371...| 50.4|\n",
      "+--------------------+-----+\n",
      "only showing top 20 rows\n",
      "\n",
      "+--------------------+-----+\n",
      "|            features|Price|\n",
      "+--------------------+-----+\n",
      "|[0.0,185.42959594...| 52.2|\n",
      "|[0.0,185.42959594...| 55.2|\n",
      "|[0.0,274.01440429...| 43.5|\n",
      "|[0.0,292.99780273...| 69.7|\n",
      "|[1.10000002384185...| 51.8|\n",
      "|[1.5,23.382839202...| 49.7|\n",
      "|[2.0,2077.3898925...| 33.4|\n",
      "|[3.70000004768371...| 41.6|\n",
      "|[4.09999990463256...| 62.1|\n",
      "|[4.30000019073486...| 45.2|\n",
      "|[4.5,2275.8769531...| 29.3|\n",
      "|[4.59999990463256...| 53.7|\n",
      "|[5.30000019073486...| 63.2|\n",
      "|[5.59999990463256...| 50.0|\n",
      "|[5.59999990463256...| 24.7|\n",
      "|[5.90000009536743...| 52.7|\n",
      "|[6.19999980926513...| 58.0|\n",
      "|[6.30000019073486...| 58.1|\n",
      "|[6.40000009536743...| 59.5|\n",
      "|[6.59999990463256...| 58.1|\n",
      "+--------------------+-----+\n",
      "only showing top 20 rows\n",
      "\n"
     ]
    }
   ],
   "source": [
    "train,test = output.randomSplit([0.75, 0.25])\n",
    "train.show()\n",
    "test.show()"
   ]
  },
  {
   "cell_type": "markdown",
   "id": "566d47ab",
   "metadata": {},
   "source": [
    "# Linear Regression Model\n",
    "\n",
    "Now we are using linear regression model from pyspark.ml library, and loading our data to the model for training. The coefficients and intercepts(biases) are printed"
   ]
  },
  {
   "cell_type": "code",
   "execution_count": 10,
   "id": "7c7e9de1",
   "metadata": {},
   "outputs": [
    {
     "name": "stdout",
     "output_type": "stream",
     "text": [
      "Coefficients: [-0.22237639810639395,-0.00381927186250921,1.2533949125015702,229.05236864876784,25.08402354121359]\n",
      "\n",
      "Intercept: -8726.995009217282\n"
     ]
    }
   ],
   "source": [
    "from pyspark.ml.regression import LinearRegression\n",
    "lin_reg = LinearRegression(featuresCol = 'features', labelCol='Price')\n",
    "linear_model = lin_reg.fit(train)\n",
    "print(\"Coefficients: \" + str(linear_model.coefficients))\n",
    "print(\"\\nIntercept: \" + str(linear_model.intercept))"
   ]
  },
  {
   "cell_type": "markdown",
   "id": "599af929",
   "metadata": {},
   "source": [
    "# Evaluation of Model\n",
    "The summary of the training process is listed below using model.summary\n"
   ]
  },
  {
   "cell_type": "code",
   "execution_count": 11,
   "id": "e7b69d7a",
   "metadata": {},
   "outputs": [
    {
     "name": "stdout",
     "output_type": "stream",
     "text": [
      "RMSE: 8.249858\n"
     ]
    }
   ],
   "source": [
    "trainSummary = linear_model.summary\n",
    "print(\"RMSE: %f\" % trainSummary.rootMeanSquaredError)\n",
    "#print(\"\\nr2: %f\" % trainSummary.r2)"
   ]
  },
  {
   "cell_type": "markdown",
   "id": "46b0feae",
   "metadata": {},
   "source": [
    "# Regression Evaluation\n",
    "\n",
    "We can compare actual price with the predicted price based on error values such as Mean Absolute Error and Root Mean Squared Error Values"
   ]
  },
  {
   "cell_type": "code",
   "execution_count": 14,
   "id": "d1a8c394",
   "metadata": {},
   "outputs": [
    {
     "name": "stdout",
     "output_type": "stream",
     "text": [
      "Root Mean Squared Error (RMSE) on test data = 10.8872\n",
      "Mean Absolute Error (MAE) on test data = 6.52707\n"
     ]
    }
   ],
   "source": [
    "\n",
    "predictions = linear_model.transform(test)\n",
    "\n",
    "\n",
    "from pyspark.ml.evaluation import RegressionEvaluator\n",
    "# Select (prediction, true label) and compute test error\n",
    "evaluator = RegressionEvaluator(\n",
    "    labelCol=\"Price\", predictionCol=\"prediction\", metricName=\"rmse\")\n",
    "rmse = evaluator.evaluate(predictions)\n",
    "print(\"Root Mean Squared Error (RMSE) on test data = %g\" % rmse)\n",
    "\n",
    "evaluator1 = RegressionEvaluator(\n",
    "    labelCol=\"Price\", predictionCol=\"prediction\", metricName=\"mae\")\n",
    "mae = evaluator1.evaluate(predictions)\n",
    "print(\"Mean Absolute Error (MAE) on test data = %g\" % mae)"
   ]
  },
  {
   "cell_type": "markdown",
   "id": "8bc24981",
   "metadata": {},
   "source": [
    "# R Squared (R2) value\n",
    "\n",
    "We can use RegressionEvaluator for the coefficient of determination"
   ]
  },
  {
   "cell_type": "code",
   "execution_count": 14,
   "id": "adccd1a9",
   "metadata": {},
   "outputs": [
    {
     "name": "stdout",
     "output_type": "stream",
     "text": [
      "Coefficient of determination = 0.675433\n"
     ]
    }
   ],
   "source": [
    "from pyspark.ml.evaluation import RegressionEvaluator\n",
    "pred_evaluator = RegressionEvaluator(predictionCol=\"prediction\", \\\n",
    "                 labelCol=\"Price\",metricName=\"r2\")\n",
    "print(\"Coefficient of determination = %g\" % pred_evaluator.evaluate(predictions))"
   ]
  },
  {
   "cell_type": "markdown",
   "id": "5d8525df",
   "metadata": {},
   "source": [
    "# Random Forest Regression Model\n",
    "\n",
    "Now we are using Random Forest regression model from pyspark.ml library, and loading our data to the model for training."
   ]
  },
  {
   "cell_type": "markdown",
   "id": "a50bff84",
   "metadata": {},
   "source": [
    "\n",
    "Automatically identify categorical features, and index them. Set maxCategories so features with > 4 distinct values are treated as continuous."
   ]
  },
  {
   "cell_type": "code",
   "execution_count": 15,
   "id": "549fe34b",
   "metadata": {},
   "outputs": [
    {
     "name": "stdout",
     "output_type": "stream",
     "text": [
      "+--------------------+-----+\n",
      "|            features|label|\n",
      "+--------------------+-----+\n",
      "|[0.0,185.42959594...| 52.2|\n",
      "|[0.0,185.42959594...| 55.2|\n",
      "|[0.0,185.42959594...| 55.3|\n",
      "|[0.0,208.39050292...| 44.0|\n",
      "|[0.0,274.01440429...| 43.5|\n",
      "|[0.0,274.01440429...| 52.2|\n",
      "|[0.0,292.99780273...| 63.3|\n",
      "|[0.0,292.99780273...| 69.7|\n",
      "|[0.0,292.99780273...| 71.0|\n",
      "|[0.0,292.99780273...| 73.6|\n",
      "|[0.0,338.96789550...| 44.9|\n",
      "|[1.0,193.58450317...| 50.7|\n",
      "|[1.10000002384185...| 45.1|\n",
      "|[1.10000002384185...| 54.4|\n",
      "|[1.10000002384185...| 51.8|\n",
      "|[1.5,23.382839202...| 47.7|\n",
      "|[1.5,23.382839202...| 49.7|\n",
      "|[1.70000004768371...| 50.4|\n",
      "|[1.79999995231628...| 27.0|\n",
      "|[1.89999997615814...| 40.5|\n",
      "+--------------------+-----+\n",
      "only showing top 20 rows\n",
      "\n",
      "+--------------------+-----+\n",
      "|            features|label|\n",
      "+--------------------+-----+\n",
      "|[0.0,185.42959594...| 37.9|\n",
      "|[0.0,185.42959594...| 45.5|\n",
      "|[0.0,208.39050292...| 45.7|\n",
      "|[0.0,274.01440429...| 45.4|\n",
      "|[0.0,292.99780273...| 70.1|\n",
      "|[0.0,338.96789550...| 50.8|\n",
      "|[1.10000002384185...| 48.6|\n",
      "|[1.10000002384185...| 49.0|\n",
      "|[3.09999990463256...| 47.7|\n",
      "|[3.5,56.474250793...| 53.5|\n",
      "|[3.59999990463256...| 61.9|\n",
      "|[4.0,2147.3759765...| 28.4|\n",
      "|[4.09999990463256...| 31.3|\n",
      "|[4.5,2275.8769531...| 29.3|\n",
      "|[5.19999980926513...| 52.2|\n",
      "|[5.40000009536743...| 49.5|\n",
      "|[5.69999980926513...| 53.5|\n",
      "|[6.40000009536743...| 59.5|\n",
      "|[6.5,90.456062316...| 63.9|\n",
      "|[6.5,376.17089843...| 40.9|\n",
      "+--------------------+-----+\n",
      "only showing top 20 rows\n",
      "\n"
     ]
    }
   ],
   "source": [
    "from pyspark.ml.feature import VectorIndexer\n",
    "featureIndexer = VectorIndexer(inputCol=\"features\", outputCol=\"indexedFeatures\", maxCategories=4).fit(output)\n",
    "\n",
    "output = output.withColumnRenamed(\"Price\",\"label\")\n",
    "train,test = output.randomSplit([0.75, 0.25])\n",
    "train.show()\n",
    "test.show()"
   ]
  },
  {
   "cell_type": "code",
   "execution_count": 16,
   "id": "f8d3c06b",
   "metadata": {},
   "outputs": [
    {
     "name": "stdout",
     "output_type": "stream",
     "text": [
      "+------------------+-----+--------------------+\n",
      "|        prediction|label|            features|\n",
      "+------------------+-----+--------------------+\n",
      "| 50.52579361584997| 37.9|[0.0,185.42959594...|\n",
      "| 50.52579361584997| 45.5|[0.0,185.42959594...|\n",
      "| 49.14776708164011| 45.7|[0.0,208.39050292...|\n",
      "| 48.18700440972138| 45.4|[0.0,274.01440429...|\n",
      "|62.838946605485546| 70.1|[0.0,292.99780273...|\n",
      "+------------------+-----+--------------------+\n",
      "only showing top 5 rows\n",
      "\n"
     ]
    }
   ],
   "source": [
    "from pyspark.ml import Pipeline\n",
    "from pyspark.ml.regression import RandomForestRegressor\n",
    "\n",
    "\n",
    "rf = RandomForestRegressor(featuresCol=\"indexedFeatures\")\n",
    "\n",
    "# Chain indexer and forest in a Pipeline\n",
    "pipeline = Pipeline(stages=[featureIndexer, rf])\n",
    "\n",
    "# Train model.  This also runs the indexer.\n",
    "model = pipeline.fit(train)\n",
    "\n",
    "# Make predictions.\n",
    "predictions = model.transform(test)\n",
    "\n",
    "# Select example rows to display.\n",
    "predictions.select(\"prediction\", \"label\", \"features\").show(5)\n",
    "\n",
    "#lin_reg = LinearRegression(featuresCol = 'features', labelCol='Price')\n",
    "#linear_model = lin_reg.fit(train)\n",
    "#print(\"Coefficients: \" + str(linear_model.coefficients))\n",
    "#print(\"\\nIntercept: \" + str(linear_model.intercept))"
   ]
  },
  {
   "cell_type": "markdown",
   "id": "576374db",
   "metadata": {},
   "source": [
    "# Evaluation of Model\n",
    "The summary of the training process is listed below using model.summary\n"
   ]
  },
  {
   "cell_type": "code",
   "execution_count": 17,
   "id": "0fbc9584",
   "metadata": {},
   "outputs": [
    {
     "name": "stdout",
     "output_type": "stream",
     "text": [
      "Root Mean Squared Error (RMSE) on test data = 9.80504\n",
      "Mean Absolute Error (MAE) on test data = 5.20557\n",
      "RandomForestRegressionModel: uid=RandomForestRegressor_23c0ec0686cd, numTrees=20, numFeatures=5\n"
     ]
    }
   ],
   "source": [
    "from pyspark.ml.evaluation import RegressionEvaluator\n",
    "# Select (prediction, true label) and compute test error\n",
    "evaluator = RegressionEvaluator(\n",
    "    labelCol=\"label\", predictionCol=\"prediction\", metricName=\"rmse\")\n",
    "rmse = evaluator.evaluate(predictions)\n",
    "print(\"Root Mean Squared Error (RMSE) on test data = %g\" % rmse)\n",
    "\n",
    "evaluator1 = RegressionEvaluator(\n",
    "    labelCol=\"label\", predictionCol=\"prediction\", metricName=\"mae\")\n",
    "mae = evaluator1.evaluate(predictions)\n",
    "print(\"Mean Absolute Error (MAE) on test data = %g\" % mae)\n",
    "rfModel = model.stages[1]\n",
    "print(rfModel)  # summary only"
   ]
  },
  {
   "cell_type": "markdown",
   "id": "f1ceed52",
   "metadata": {},
   "source": [
    "# R Squared (R2) value\n",
    "\n",
    "We can use RegressionEvaluator for the coefficient of determination"
   ]
  },
  {
   "cell_type": "code",
   "execution_count": 18,
   "id": "ba8ec3c2",
   "metadata": {},
   "outputs": [
    {
     "name": "stdout",
     "output_type": "stream",
     "text": [
      "Coefficient of determination = 0.608094\n"
     ]
    }
   ],
   "source": [
    "from pyspark.ml.evaluation import RegressionEvaluator\n",
    "evaluator = RegressionEvaluator()\n",
    "evaluator.setPredictionCol(\"label\")\n",
    "acc=evaluator.evaluate(predictions)\n",
    "mae=evaluator.evaluate(predictions, {evaluator.metricName: \"mae\"})\n",
    "pred_evaluator = RegressionEvaluator(predictionCol=\"prediction\", \\\n",
    "                 labelCol=\"label\",metricName=\"r2\")\n",
    "print(\"Coefficient of determination = %g\" % pred_evaluator.evaluate(predictions))\n"
   ]
  },
  {
   "cell_type": "code",
   "execution_count": 19,
   "id": "2c2fcd37",
   "metadata": {},
   "outputs": [],
   "source": [
    "spark.stop()"
   ]
  },
  {
   "cell_type": "code",
   "execution_count": null,
   "id": "df93bf53",
   "metadata": {},
   "outputs": [],
   "source": []
  }
 ],
 "metadata": {
  "kernelspec": {
   "display_name": "Python 3 (ipykernel)",
   "language": "python",
   "name": "python3"
  },
  "language_info": {
   "codemirror_mode": {
    "name": "ipython",
    "version": 3
   },
   "file_extension": ".py",
   "mimetype": "text/x-python",
   "name": "python",
   "nbconvert_exporter": "python",
   "pygments_lexer": "ipython3",
   "version": "3.8.10"
  }
 },
 "nbformat": 4,
 "nbformat_minor": 5
}
