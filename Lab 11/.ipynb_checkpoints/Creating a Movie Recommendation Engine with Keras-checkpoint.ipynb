{
 "cells": [
  {
   "cell_type": "code",
   "execution_count": null,
   "metadata": {},
   "outputs": [],
   "source": [
    "spark = SparkSession.builder \\\n",
    "        .master(\"local\") \\\n",
    "        .appName(\"RecommendationEngine\") \\\n",
    "        .config(\"spark.executor.memory\", \"6gb\") \\\n",
    "        .getOrCreate()"
   ]
  },
  {
   "cell_type": "code",
   "execution_count": null,
   "metadata": {},
   "outputs": [],
   "source": [
    "import os\n",
    "os.listdir('ml-latest-small/')"
   ]
  },
  {
   "cell_type": "code",
   "execution_count": null,
   "metadata": {},
   "outputs": [],
   "source": [
    "movies = spark.read.format('com.databricks.spark.csv')\\\n",
    "            .options(header='true', inferschema='true')\\\n",
    "            .load('ml-latest-small/movies.csv')\n",
    "tags = spark.read.format('com.databricks.spark.csv')\\\n",
    "            .options(header='true', inferschema='true')\\\n",
    "            .load('ml-latest-small/tags.csv')\n",
    "links = spark.read.format('com.databricks.spark.csv')\\\n",
    "            .options(header='true', inferschema='true')\\\n",
    "            .load('ml-latest-small/links.csv')\n",
    "ratings = spark.read.format('com.databricks.spark.csv')\\\n",
    "            .options(header='true', inferschema='true')\\\n",
    "            .load('ml-latest-small/ratings.csv')"
   ]
  },
  {
   "cell_type": "code",
   "execution_count": null,
   "metadata": {},
   "outputs": [],
   "source": [
    "ratings.columns"
   ]
  },
  {
   "cell_type": "code",
   "execution_count": null,
   "metadata": {},
   "outputs": [],
   "source": [
    "ratings.show(truncate=False)"
   ]
  },
  {
   "cell_type": "code",
   "execution_count": null,
   "metadata": {},
   "outputs": [],
   "source": [
    "tags.show(truncate = False)"
   ]
  },
  {
   "cell_type": "code",
   "execution_count": null,
   "metadata": {},
   "outputs": [],
   "source": [
    "movies.select('genres').distinct().show(truncate = False)"
   ]
  },
  {
   "cell_type": "code",
   "execution_count": null,
   "metadata": {},
   "outputs": [],
   "source": [
    "links.show()"
   ]
  },
  {
   "cell_type": "code",
   "execution_count": null,
   "metadata": {},
   "outputs": [],
   "source": [
    "print('The number of rows in movies dataset is {}'.format(movies.toPandas().shape[0]))\n",
    "print('The number of rows in ratings dataset is {}'.format(ratings.toPandas().shape[0]))\n",
    "print('The number of rows in tags dataset is {}'.format(tags.toPandas().shape[0]))\n",
    "print('The number of rows in links dataset is {}'.format(links.toPandas().shape[0]))"
   ]
  },
  {
   "cell_type": "code",
   "execution_count": null,
   "metadata": {},
   "outputs": [],
   "source": [
    "for i in ratings.columns:\n",
    "    ratings = ratings.withColumnRenamed(i, i+'_1')"
   ]
  },
  {
   "cell_type": "code",
   "execution_count": null,
   "metadata": {},
   "outputs": [],
   "source": [
    "ratings.show()"
   ]
  },
  {
   "cell_type": "code",
   "execution_count": null,
   "metadata": {},
   "outputs": [],
   "source": [
    "temp1 = ratings.join(movies, ratings.movieId_1 == movies.movieId, how = 'inner')"
   ]
  },
  {
   "cell_type": "code",
   "execution_count": null,
   "metadata": {},
   "outputs": [],
   "source": [
    "temp2 = temp1.join(links, temp1.movieId_1 == links.movieId, how = 'inner')"
   ]
  },
  {
   "cell_type": "code",
   "execution_count": null,
   "metadata": {},
   "outputs": [],
   "source": [
    "mainDF = temp2.join(tags, (temp2.userId_1 == tags.userId) & \n",
    "                    (temp2.movieId_1 == tags.movieId), how = 'left')"
   ]
  },
  {
   "cell_type": "code",
   "execution_count": null,
   "metadata": {},
   "outputs": [],
   "source": [
    "print(temp1.count())\n",
    "print(temp2.count())\n",
    "print(mainDF.count())"
   ]
  },
  {
   "cell_type": "code",
   "execution_count": null,
   "metadata": {},
   "outputs": [],
   "source": [
    "mainDF.groupBy(['tag']).agg({'rating_1':'count'})\\\n",
    "            .withColumnRenamed('count(rating_1)', 'Row Count')\\\n",
    "            .orderBy([\"Row Count\"],ascending=False)\\\n",
    "            .show()"
   ]
  },
  {
   "cell_type": "code",
   "execution_count": null,
   "metadata": {},
   "outputs": [],
   "source": [
    "mainDF.columns"
   ]
  },
  {
   "cell_type": "code",
   "execution_count": null,
   "metadata": {},
   "outputs": [],
   "source": [
    "mainDF = mainDF.select('userId_1',\n",
    "                       'movieId_1',\n",
    "                       'rating_1',\n",
    "                       'title',\n",
    "                       'genres',\n",
    "                       'imdbId',\n",
    "                       'tmdbId',\n",
    "                       'timestamp_1').distinct()"
   ]
  },
  {
   "cell_type": "code",
   "execution_count": null,
   "metadata": {},
   "outputs": [],
   "source": [
    "mainDF.count()"
   ]
  },
  {
   "cell_type": "code",
   "execution_count": null,
   "metadata": {},
   "outputs": [],
   "source": [
    "movies.createOrReplaceTempView('movies_')\n",
    "links.createOrReplaceTempView('links_')\n",
    "ratings.createOrReplaceTempView('ratings_')"
   ]
  },
  {
   "cell_type": "code",
   "execution_count": null,
   "metadata": {},
   "outputs": [],
   "source": [
    "mainDF_SQL = \\\n",
    "sqlContext.sql(\n",
    "\"\"\"\n",
    "select\n",
    "r.userId_1\n",
    ",r.movieId_1\n",
    ",r.rating_1\n",
    ",m.title\n",
    ",m.genres\n",
    ",l.imdbId\n",
    ",l.tmdbId\n",
    ",r.timestamp_1\n",
    "from ratings_ r\n",
    "inner join movies_ m on\n",
    "r.movieId_1 = m.movieId\n",
    "inner join links_ l on\n",
    "r.movieId_1 = l.movieId\n",
    "\"\"\"\n",
    ")"
   ]
  },
  {
   "cell_type": "code",
   "execution_count": null,
   "metadata": {},
   "outputs": [],
   "source": [
    "mainDF_SQL.show(n = 5)"
   ]
  },
  {
   "cell_type": "code",
   "execution_count": null,
   "metadata": {},
   "outputs": [],
   "source": [
    "mainDF_SQL.count()"
   ]
  },
  {
   "cell_type": "code",
   "execution_count": null,
   "metadata": {},
   "outputs": [],
   "source": [
    "mainDF.describe('rating_1').show()"
   ]
  },
  {
   "cell_type": "code",
   "execution_count": null,
   "metadata": {},
   "outputs": [],
   "source": [
    "import matplotlib.pyplot as plt\n",
    "%matplotlib inline\n",
    "\n",
    "mainDF.select('rating_1').toPandas().hist(figsize=(16, 6), grid=True)\n",
    "plt.title('Histogram of Ratings')\n",
    "plt.show()"
   ]
  },
  {
   "cell_type": "code",
   "execution_count": null,
   "metadata": {},
   "outputs": [],
   "source": [
    "mainDF.groupBy(['rating_1']).agg({'rating_1':'count'})\\\n",
    "            .withColumnRenamed('count(rating_1)', 'Row Count')\\\n",
    "            .orderBy([\"Row Count\"],ascending=False)\\\n",
    "            .show()"
   ]
  },
  {
   "cell_type": "code",
   "execution_count": null,
   "metadata": {},
   "outputs": [],
   "source": [
    "userId_frequency = mainDF.groupBy(['userId_1']).agg({'rating_1':'count'})\\\n",
    "            .withColumnRenamed('count(rating_1)', '# of Reviews')\\\n",
    "            .orderBy([\"# of Reviews\"],ascending=False)"
   ]
  },
  {
   "cell_type": "code",
   "execution_count": null,
   "metadata": {},
   "outputs": [],
   "source": [
    "userId_frequency.show()"
   ]
  },
  {
   "cell_type": "code",
   "execution_count": null,
   "metadata": {},
   "outputs": [],
   "source": [
    "userId_frequency.select('# of Reviews').toPandas().hist(figsize=(16, 6), grid=True)\n",
    "plt.title('Histogram of User Ratings')\n",
    "plt.show()"
   ]
  },
  {
   "cell_type": "code",
   "execution_count": null,
   "metadata": {},
   "outputs": [],
   "source": [
    "mainDF = mainDF.withColumnRenamed('userId_1', 'userid')\n",
    "mainDF = mainDF.withColumnRenamed('movieId_1', 'movieid')\n",
    "mainDF = mainDF.withColumnRenamed('rating_1', 'rating')\n",
    "mainDF = mainDF.withColumnRenamed('timestamp_1', 'timestamp')\n",
    "mainDF = mainDF.withColumnRenamed('imdbId', 'imdbid')\n",
    "mainDF = mainDF.withColumnRenamed('tmdbId', 'tmdbid')"
   ]
  },
  {
   "cell_type": "code",
   "execution_count": null,
   "metadata": {},
   "outputs": [],
   "source": [
    "mainDF.columns"
   ]
  },
  {
   "cell_type": "code",
   "execution_count": null,
   "metadata": {},
   "outputs": [],
   "source": [
    "import pyspark.sql.functions as F\n",
    "mainDF = mainDF.withColumn(\"rating\", F.round(mainDF[\"rating\"], 0))"
   ]
  },
  {
   "cell_type": "code",
   "execution_count": null,
   "metadata": {},
   "outputs": [],
   "source": [
    "from pyspark.ml.feature import StringIndexer\n",
    "string_indexer = StringIndexer(inputCol=\"genres\",outputCol=\"genreCount\")\n",
    "mainDF = string_indexer.fit(mainDF).transform(mainDF)\n",
    "mainDF.show()"
   ]
  },
  {
   "cell_type": "code",
   "execution_count": null,
   "metadata": {},
   "outputs": [],
   "source": [
    "mainDF = mainDF.select('rating', 'userid', 'movieid', 'imdbid', \n",
    "                       'tmdbid', 'timestamp', 'genreCount')"
   ]
  },
  {
   "cell_type": "code",
   "execution_count": null,
   "metadata": {},
   "outputs": [],
   "source": [
    "mainDF.show()"
   ]
  },
  {
   "cell_type": "code",
   "execution_count": null,
   "metadata": {},
   "outputs": [],
   "source": [
    "trainDF, testDF = mainDF.randomSplit([0.8, 0.2], seed=1234)"
   ]
  },
  {
   "cell_type": "code",
   "execution_count": null,
   "metadata": {},
   "outputs": [],
   "source": [
    "print('The number of rows in mainDF is {}'.format(mainDF.count()))\n",
    "print('The number of rows in trainDF is {}'.format(trainDF.count()))\n",
    "print('The number of rows in testDF is {}'.format(testDF.count()))"
   ]
  },
  {
   "cell_type": "code",
   "execution_count": null,
   "metadata": {},
   "outputs": [],
   "source": [
    "import numpy as np\n",
    "\n",
    "xtrain_array = np.array(trainDF.select('userid','movieid','genreCount').collect())\n",
    "xtest_array = np.array(testDF.select('userid','movieid','genreCount').collect())\n",
    "\n",
    "ytrain_array = np.array(trainDF.select('rating').collect())\n",
    "ytest_array = np.array(testDF.select('rating').collect())"
   ]
  },
  {
   "cell_type": "code",
   "execution_count": null,
   "metadata": {},
   "outputs": [],
   "source": [
    "print(xtest_array.shape)\n",
    "print(ytest_array.shape)\n",
    "print(xtrain_array.shape)\n",
    "print(ytrain_array.shape)"
   ]
  },
  {
   "cell_type": "code",
   "execution_count": null,
   "metadata": {},
   "outputs": [],
   "source": [
    "import keras.utils as u\n",
    "ytrain_OHE = u.to_categorical(ytrain_array)\n",
    "ytest_OHE = u.to_categorical(ytest_array)"
   ]
  },
  {
   "cell_type": "code",
   "execution_count": null,
   "metadata": {},
   "outputs": [],
   "source": [
    "print(ytrain_OHE.shape)\n",
    "print(ytest_OHE.shape)"
   ]
  },
  {
   "cell_type": "code",
   "execution_count": null,
   "metadata": {},
   "outputs": [],
   "source": [
    "from keras.models import Sequential\n",
    "from keras.layers import Dense, Activation"
   ]
  },
  {
   "cell_type": "code",
   "execution_count": null,
   "metadata": {},
   "outputs": [],
   "source": [
    "model = Sequential()\n",
    "model.add(Dense(32, activation='relu',input_dim=xtrain_array.shape[1]))\n",
    "model.add(Dense(10, activation='relu'))\n",
    "model.add(Dense(ytrain_OHE.shape[1], activation='softmax'))\n",
    "model.compile(optimizer='adam', loss='categorical_crossentropy',metrics=['accuracy'])"
   ]
  },
  {
   "cell_type": "code",
   "execution_count": null,
   "metadata": {},
   "outputs": [],
   "source": [
    "accuracy_history = model.fit(xtrain_array, ytrain_OHE, epochs=20,batch_size=32)"
   ]
  },
  {
   "cell_type": "code",
   "execution_count": null,
   "metadata": {},
   "outputs": [],
   "source": [
    "plt.plot(accuracy_history.history['acc'])\n",
    "plt.title('Accuracy vs. Epoch')\n",
    "plt.xlabel('Epoch')\n",
    "plt.ylabel('Accuracy')\n",
    "plt.show()\n",
    "plt.plot(accuracy_history.history['loss'])\n",
    "plt.title('Loss vs. Epoch')\n",
    "plt.xlabel('Epoch')\n",
    "plt.ylabel('Loss')\n",
    "plt.show()"
   ]
  },
  {
   "cell_type": "code",
   "execution_count": null,
   "metadata": {},
   "outputs": [],
   "source": [
    "score = model.evaluate(xtest_array, ytest_OHE, batch_size=128)\n",
    "accuracy_rate = score[1]*100\n",
    "print('accuracy is {}%'.format(round(accuracy_rate,2)))"
   ]
  },
  {
   "cell_type": "code",
   "execution_count": null,
   "metadata": {},
   "outputs": [],
   "source": []
  }
 ],
 "metadata": {
  "kernelspec": {
   "display_name": "Python 3",
   "language": "python",
   "name": "python3"
  },
  "language_info": {
   "codemirror_mode": {
    "name": "ipython",
    "version": 3
   },
   "file_extension": ".py",
   "mimetype": "text/x-python",
   "name": "python",
   "nbconvert_exporter": "python",
   "pygments_lexer": "ipython3",
   "version": "3.8.10"
  }
 },
 "nbformat": 4,
 "nbformat_minor": 2
}
