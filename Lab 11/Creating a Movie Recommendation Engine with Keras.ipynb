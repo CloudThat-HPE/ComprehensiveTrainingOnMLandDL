{
 "cells": [
  {
   "cell_type": "code",
   "execution_count": 1,
   "metadata": {},
   "outputs": [],
   "source": [
    "import findspark\n",
    "findspark.find()\n",
    "findspark.init()"
   ]
  },
  {
   "cell_type": "code",
   "execution_count": 2,
   "metadata": {},
   "outputs": [],
   "source": [
    "import pyspark\n",
    "from pyspark.sql import SparkSession"
   ]
  },
  {
   "cell_type": "code",
   "execution_count": 3,
   "metadata": {},
   "outputs": [
    {
     "name": "stderr",
     "output_type": "stream",
     "text": [
      "Using Spark's default log4j profile: org/apache/spark/log4j-defaults.properties\n",
      "Setting default log level to \"WARN\".\n",
      "To adjust logging level use sc.setLogLevel(newLevel). For SparkR, use setLogLevel(newLevel).\n",
      "22/08/21 10:33:38 WARN NativeCodeLoader: Unable to load native-hadoop library for your platform... using builtin-java classes where applicable\n"
     ]
    }
   ],
   "source": [
    "spark = SparkSession.builder \\\n",
    "        .master(\"local\") \\\n",
    "        .appName(\"RecommendationEngine\") \\\n",
    "        .config(\"spark.executor.memory\", \"6gb\") \\\n",
    "        .getOrCreate()"
   ]
  },
  {
   "cell_type": "code",
   "execution_count": 4,
   "metadata": {},
   "outputs": [
    {
     "data": {
      "text/plain": [
       "['README.txt', 'ratings.csv', 'links.csv', 'tags.csv', 'movies.csv']"
      ]
     },
     "execution_count": 4,
     "metadata": {},
     "output_type": "execute_result"
    }
   ],
   "source": [
    "import os\n",
    "os.listdir('ml-latest-small/')"
   ]
  },
  {
   "cell_type": "code",
   "execution_count": 5,
   "metadata": {},
   "outputs": [
    {
     "name": "stderr",
     "output_type": "stream",
     "text": [
      "\r",
      "[Stage 0:>                                                          (0 + 1) / 1]\r",
      "\r",
      "                                                                                \r"
     ]
    }
   ],
   "source": [
    "movies = spark.read.format('com.databricks.spark.csv')\\\n",
    "            .options(header='true', inferschema='true')\\\n",
    "            .load('ml-latest-small/movies.csv')\n",
    "tags = spark.read.format('com.databricks.spark.csv')\\\n",
    "            .options(header='true', inferschema='true')\\\n",
    "            .load('ml-latest-small/tags.csv')\n",
    "links = spark.read.format('com.databricks.spark.csv')\\\n",
    "            .options(header='true', inferschema='true')\\\n",
    "            .load('ml-latest-small/links.csv')\n",
    "ratings = spark.read.format('com.databricks.spark.csv')\\\n",
    "            .options(header='true', inferschema='true')\\\n",
    "            .load('ml-latest-small/ratings.csv')"
   ]
  },
  {
   "cell_type": "code",
   "execution_count": 6,
   "metadata": {},
   "outputs": [
    {
     "data": {
      "text/plain": [
       "['userId', 'movieId', 'rating', 'timestamp']"
      ]
     },
     "execution_count": 6,
     "metadata": {},
     "output_type": "execute_result"
    }
   ],
   "source": [
    "ratings.columns"
   ]
  },
  {
   "cell_type": "code",
   "execution_count": 7,
   "metadata": {},
   "outputs": [
    {
     "name": "stdout",
     "output_type": "stream",
     "text": [
      "+------+-------+------+---------+\n",
      "|userId|movieId|rating|timestamp|\n",
      "+------+-------+------+---------+\n",
      "|1     |1      |4.0   |964982703|\n",
      "|1     |3      |4.0   |964981247|\n",
      "|1     |6      |4.0   |964982224|\n",
      "|1     |47     |5.0   |964983815|\n",
      "|1     |50     |5.0   |964982931|\n",
      "|1     |70     |3.0   |964982400|\n",
      "|1     |101    |5.0   |964980868|\n",
      "|1     |110    |4.0   |964982176|\n",
      "|1     |151    |5.0   |964984041|\n",
      "|1     |157    |5.0   |964984100|\n",
      "|1     |163    |5.0   |964983650|\n",
      "|1     |216    |5.0   |964981208|\n",
      "|1     |223    |3.0   |964980985|\n",
      "|1     |231    |5.0   |964981179|\n",
      "|1     |235    |4.0   |964980908|\n",
      "|1     |260    |5.0   |964981680|\n",
      "|1     |296    |3.0   |964982967|\n",
      "|1     |316    |3.0   |964982310|\n",
      "|1     |333    |5.0   |964981179|\n",
      "|1     |349    |4.0   |964982563|\n",
      "+------+-------+------+---------+\n",
      "only showing top 20 rows\n",
      "\n"
     ]
    }
   ],
   "source": [
    "ratings.show(truncate=False)"
   ]
  },
  {
   "cell_type": "code",
   "execution_count": 8,
   "metadata": {},
   "outputs": [
    {
     "name": "stdout",
     "output_type": "stream",
     "text": [
      "+------+-------+-----------------+----------+\n",
      "|userId|movieId|tag              |timestamp |\n",
      "+------+-------+-----------------+----------+\n",
      "|2     |60756  |funny            |1445714994|\n",
      "|2     |60756  |Highly quotable  |1445714996|\n",
      "|2     |60756  |will ferrell     |1445714992|\n",
      "|2     |89774  |Boxing story     |1445715207|\n",
      "|2     |89774  |MMA              |1445715200|\n",
      "|2     |89774  |Tom Hardy        |1445715205|\n",
      "|2     |106782 |drugs            |1445715054|\n",
      "|2     |106782 |Leonardo DiCaprio|1445715051|\n",
      "|2     |106782 |Martin Scorsese  |1445715056|\n",
      "|7     |48516  |way too long     |1169687325|\n",
      "|18    |431    |Al Pacino        |1462138765|\n",
      "|18    |431    |gangster         |1462138749|\n",
      "|18    |431    |mafia            |1462138755|\n",
      "|18    |1221   |Al Pacino        |1461699306|\n",
      "|18    |1221   |Mafia            |1461699303|\n",
      "|18    |5995   |holocaust        |1455735472|\n",
      "|18    |5995   |true story       |1455735479|\n",
      "|18    |44665  |twist ending     |1456948283|\n",
      "|18    |52604  |Anthony Hopkins  |1457650696|\n",
      "|18    |52604  |courtroom drama  |1457650711|\n",
      "+------+-------+-----------------+----------+\n",
      "only showing top 20 rows\n",
      "\n"
     ]
    }
   ],
   "source": [
    "tags.show(truncate = False)"
   ]
  },
  {
   "cell_type": "code",
   "execution_count": 9,
   "metadata": {},
   "outputs": [
    {
     "name": "stdout",
     "output_type": "stream",
     "text": [
      "+------------------------------------------+\n",
      "|genres                                    |\n",
      "+------------------------------------------+\n",
      "|Comedy|Horror|Thriller                    |\n",
      "|Adventure|Sci-Fi|Thriller                 |\n",
      "|Action|Adventure|Drama|Fantasy            |\n",
      "|Action|Drama|Horror                       |\n",
      "|Action|Animation|Comedy|Sci-Fi            |\n",
      "|Animation|Children|Drama|Musical|Romance  |\n",
      "|Action|Adventure|Drama                    |\n",
      "|Adventure|Sci-Fi                          |\n",
      "|Documentary|Musical|IMAX                  |\n",
      "|Adventure|Children|Fantasy|Sci-Fi|Thriller|\n",
      "|Adventure|Animation                       |\n",
      "|Musical|Romance|War                       |\n",
      "|Action|Adventure|Fantasy|Romance          |\n",
      "|Adventure|Children|Drama|Fantasy|IMAX     |\n",
      "|Comedy|Crime|Horror|Thriller              |\n",
      "|Crime|Drama|Fantasy|Horror|Thriller       |\n",
      "|Comedy|Mystery|Thriller                   |\n",
      "|Adventure|Fantasy                         |\n",
      "|Horror|Romance|Sci-Fi                     |\n",
      "|Drama|Film-Noir|Romance                   |\n",
      "+------------------------------------------+\n",
      "only showing top 20 rows\n",
      "\n"
     ]
    }
   ],
   "source": [
    "movies.select('genres').distinct().show(truncate = False)"
   ]
  },
  {
   "cell_type": "code",
   "execution_count": 10,
   "metadata": {},
   "outputs": [
    {
     "name": "stdout",
     "output_type": "stream",
     "text": [
      "+-------+------+------+\n",
      "|movieId|imdbId|tmdbId|\n",
      "+-------+------+------+\n",
      "|      1|114709|   862|\n",
      "|      2|113497|  8844|\n",
      "|      3|113228| 15602|\n",
      "|      4|114885| 31357|\n",
      "|      5|113041| 11862|\n",
      "|      6|113277|   949|\n",
      "|      7|114319| 11860|\n",
      "|      8|112302| 45325|\n",
      "|      9|114576|  9091|\n",
      "|     10|113189|   710|\n",
      "|     11|112346|  9087|\n",
      "|     12|112896| 12110|\n",
      "|     13|112453| 21032|\n",
      "|     14|113987| 10858|\n",
      "|     15|112760|  1408|\n",
      "|     16|112641|   524|\n",
      "|     17|114388|  4584|\n",
      "|     18|113101|     5|\n",
      "|     19|112281|  9273|\n",
      "|     20|113845| 11517|\n",
      "+-------+------+------+\n",
      "only showing top 20 rows\n",
      "\n"
     ]
    }
   ],
   "source": [
    "links.show()"
   ]
  },
  {
   "cell_type": "code",
   "execution_count": 11,
   "metadata": {},
   "outputs": [
    {
     "name": "stdout",
     "output_type": "stream",
     "text": [
      "The number of rows in movies dataset is 9742\n"
     ]
    },
    {
     "name": "stderr",
     "output_type": "stream",
     "text": [
      "\r",
      "[Stage 15:>                                                         (0 + 1) / 1]\r",
      "\r",
      "                                                                                \r"
     ]
    },
    {
     "name": "stdout",
     "output_type": "stream",
     "text": [
      "The number of rows in ratings dataset is 100836\n",
      "The number of rows in tags dataset is 3683\n",
      "The number of rows in links dataset is 9742\n"
     ]
    }
   ],
   "source": [
    "print('The number of rows in movies dataset is {}'.format(movies.toPandas().shape[0]))\n",
    "print('The number of rows in ratings dataset is {}'.format(ratings.toPandas().shape[0]))\n",
    "print('The number of rows in tags dataset is {}'.format(tags.toPandas().shape[0]))\n",
    "print('The number of rows in links dataset is {}'.format(links.toPandas().shape[0]))"
   ]
  },
  {
   "cell_type": "code",
   "execution_count": 12,
   "metadata": {},
   "outputs": [],
   "source": [
    "for i in ratings.columns:\n",
    "    ratings = ratings.withColumnRenamed(i, i+'_1')"
   ]
  },
  {
   "cell_type": "code",
   "execution_count": 13,
   "metadata": {},
   "outputs": [
    {
     "name": "stdout",
     "output_type": "stream",
     "text": [
      "+--------+---------+--------+-----------+\n",
      "|userId_1|movieId_1|rating_1|timestamp_1|\n",
      "+--------+---------+--------+-----------+\n",
      "|       1|        1|     4.0|  964982703|\n",
      "|       1|        3|     4.0|  964981247|\n",
      "|       1|        6|     4.0|  964982224|\n",
      "|       1|       47|     5.0|  964983815|\n",
      "|       1|       50|     5.0|  964982931|\n",
      "|       1|       70|     3.0|  964982400|\n",
      "|       1|      101|     5.0|  964980868|\n",
      "|       1|      110|     4.0|  964982176|\n",
      "|       1|      151|     5.0|  964984041|\n",
      "|       1|      157|     5.0|  964984100|\n",
      "|       1|      163|     5.0|  964983650|\n",
      "|       1|      216|     5.0|  964981208|\n",
      "|       1|      223|     3.0|  964980985|\n",
      "|       1|      231|     5.0|  964981179|\n",
      "|       1|      235|     4.0|  964980908|\n",
      "|       1|      260|     5.0|  964981680|\n",
      "|       1|      296|     3.0|  964982967|\n",
      "|       1|      316|     3.0|  964982310|\n",
      "|       1|      333|     5.0|  964981179|\n",
      "|       1|      349|     4.0|  964982563|\n",
      "+--------+---------+--------+-----------+\n",
      "only showing top 20 rows\n",
      "\n"
     ]
    }
   ],
   "source": [
    "ratings.show()"
   ]
  },
  {
   "cell_type": "code",
   "execution_count": 14,
   "metadata": {},
   "outputs": [],
   "source": [
    "temp1 = ratings.join(movies, ratings.movieId_1 == movies.movieId, how = 'inner')"
   ]
  },
  {
   "cell_type": "code",
   "execution_count": 15,
   "metadata": {},
   "outputs": [],
   "source": [
    "temp2 = temp1.join(links, temp1.movieId_1 == links.movieId, how = 'inner')"
   ]
  },
  {
   "cell_type": "code",
   "execution_count": 16,
   "metadata": {},
   "outputs": [],
   "source": [
    "mainDF = temp2.join(tags, (temp2.userId_1 == tags.userId) & \n",
    "                    (temp2.movieId_1 == tags.movieId), how = 'left')"
   ]
  },
  {
   "cell_type": "code",
   "execution_count": 17,
   "metadata": {},
   "outputs": [
    {
     "name": "stdout",
     "output_type": "stream",
     "text": [
      "100836\n",
      "100836\n",
      "102677\n"
     ]
    }
   ],
   "source": [
    "print(temp1.count())\n",
    "print(temp2.count())\n",
    "print(mainDF.count())"
   ]
  },
  {
   "cell_type": "code",
   "execution_count": 18,
   "metadata": {},
   "outputs": [
    {
     "name": "stdout",
     "output_type": "stream",
     "text": [
      "+------------------+---------+\n",
      "|               tag|Row Count|\n",
      "+------------------+---------+\n",
      "|              null|    99201|\n",
      "|  In Netflix queue|       55|\n",
      "|       atmospheric|       36|\n",
      "|            Disney|       23|\n",
      "|             funny|       23|\n",
      "|           surreal|       23|\n",
      "|         superhero|       23|\n",
      "| thought-provoking|       22|\n",
      "|          religion|       22|\n",
      "|            quirky|       21|\n",
      "|       dark comedy|       20|\n",
      "|        psychology|       20|\n",
      "|      twist ending|       19|\n",
      "|visually appealing|       19|\n",
      "|          suspense|       19|\n",
      "|          politics|       18|\n",
      "|             crime|       18|\n",
      "|             music|       16|\n",
      "|    mental illness|       16|\n",
      "|              dark|       15|\n",
      "+------------------+---------+\n",
      "only showing top 20 rows\n",
      "\n"
     ]
    }
   ],
   "source": [
    "mainDF.groupBy(['tag']).agg({'rating_1':'count'})\\\n",
    "            .withColumnRenamed('count(rating_1)', 'Row Count')\\\n",
    "            .orderBy([\"Row Count\"],ascending=False)\\\n",
    "            .show()"
   ]
  },
  {
   "cell_type": "code",
   "execution_count": 19,
   "metadata": {},
   "outputs": [
    {
     "data": {
      "text/plain": [
       "['userId_1',\n",
       " 'movieId_1',\n",
       " 'rating_1',\n",
       " 'timestamp_1',\n",
       " 'movieId',\n",
       " 'title',\n",
       " 'genres',\n",
       " 'movieId',\n",
       " 'imdbId',\n",
       " 'tmdbId',\n",
       " 'userId',\n",
       " 'movieId',\n",
       " 'tag',\n",
       " 'timestamp']"
      ]
     },
     "execution_count": 19,
     "metadata": {},
     "output_type": "execute_result"
    }
   ],
   "source": [
    "mainDF.columns"
   ]
  },
  {
   "cell_type": "code",
   "execution_count": 20,
   "metadata": {},
   "outputs": [],
   "source": [
    "mainDF = mainDF.select('userId_1',\n",
    "                       'movieId_1',\n",
    "                       'rating_1',\n",
    "                       'title',\n",
    "                       'genres',\n",
    "                       'imdbId',\n",
    "                       'tmdbId',\n",
    "                       'timestamp_1').distinct()"
   ]
  },
  {
   "cell_type": "code",
   "execution_count": 21,
   "metadata": {},
   "outputs": [
    {
     "name": "stderr",
     "output_type": "stream",
     "text": [
      "                                                                                \r"
     ]
    },
    {
     "data": {
      "text/plain": [
       "100836"
      ]
     },
     "execution_count": 21,
     "metadata": {},
     "output_type": "execute_result"
    }
   ],
   "source": [
    "mainDF.count()"
   ]
  },
  {
   "cell_type": "code",
   "execution_count": 22,
   "metadata": {},
   "outputs": [],
   "source": [
    "movies.createOrReplaceTempView('movies_')\n",
    "links.createOrReplaceTempView('links_')\n",
    "ratings.createOrReplaceTempView('ratings_')"
   ]
  },
  {
   "cell_type": "code",
   "execution_count": 23,
   "metadata": {},
   "outputs": [
    {
     "name": "stderr",
     "output_type": "stream",
     "text": [
      "/opt/spark/python/pyspark/sql/context.py:77: FutureWarning: Deprecated in 3.0.0. Use SparkSession.builder.getOrCreate() instead.\n",
      "  warnings.warn(\n"
     ]
    }
   ],
   "source": [
    "from pyspark.sql import SQLContext\n",
    "sc=spark.sparkContext\n",
    "sqlContext = SQLContext(sc)\n",
    "mainDF_SQL = \\\n",
    "sqlContext.sql(\n",
    "\"\"\"\n",
    "select\n",
    "r.userId_1\n",
    ",r.movieId_1\n",
    ",r.rating_1\n",
    ",m.title\n",
    ",m.genres\n",
    ",l.imdbId\n",
    ",l.tmdbId\n",
    ",r.timestamp_1\n",
    "from ratings_ r\n",
    "inner join movies_ m on\n",
    "r.movieId_1 = m.movieId\n",
    "inner join links_ l on\n",
    "r.movieId_1 = l.movieId\n",
    "\"\"\"\n",
    ")"
   ]
  },
  {
   "cell_type": "code",
   "execution_count": 24,
   "metadata": {},
   "outputs": [
    {
     "name": "stdout",
     "output_type": "stream",
     "text": [
      "+--------+---------+--------+--------------------+--------------------+------+------+-----------+\n",
      "|userId_1|movieId_1|rating_1|               title|              genres|imdbId|tmdbId|timestamp_1|\n",
      "+--------+---------+--------+--------------------+--------------------+------+------+-----------+\n",
      "|       1|        1|     4.0|    Toy Story (1995)|Adventure|Animati...|114709|   862|  964982703|\n",
      "|       1|        3|     4.0|Grumpier Old Men ...|      Comedy|Romance|113228| 15602|  964981247|\n",
      "|       1|        6|     4.0|         Heat (1995)|Action|Crime|Thri...|113277|   949|  964982224|\n",
      "|       1|       47|     5.0|Seven (a.k.a. Se7...|    Mystery|Thriller|114369|   807|  964983815|\n",
      "|       1|       50|     5.0|Usual Suspects, T...|Crime|Mystery|Thr...|114814|   629|  964982931|\n",
      "+--------+---------+--------+--------------------+--------------------+------+------+-----------+\n",
      "only showing top 5 rows\n",
      "\n"
     ]
    }
   ],
   "source": [
    "mainDF_SQL.show(n = 5)"
   ]
  },
  {
   "cell_type": "code",
   "execution_count": 25,
   "metadata": {},
   "outputs": [
    {
     "data": {
      "text/plain": [
       "100836"
      ]
     },
     "execution_count": 25,
     "metadata": {},
     "output_type": "execute_result"
    }
   ],
   "source": [
    "mainDF_SQL.count()"
   ]
  },
  {
   "cell_type": "code",
   "execution_count": 26,
   "metadata": {},
   "outputs": [
    {
     "name": "stdout",
     "output_type": "stream",
     "text": [
      "+-------+------------------+\n",
      "|summary|          rating_1|\n",
      "+-------+------------------+\n",
      "|  count|            100836|\n",
      "|   mean| 3.501556983616962|\n",
      "| stddev|1.0425292390606353|\n",
      "|    min|               0.5|\n",
      "|    max|               5.0|\n",
      "+-------+------------------+\n",
      "\n"
     ]
    }
   ],
   "source": [
    "mainDF.describe('rating_1').show()"
   ]
  },
  {
   "cell_type": "code",
   "execution_count": 27,
   "metadata": {},
   "outputs": [
    {
     "data": {
      "image/png": "[encoded data removed]",
      "text/plain": [
       "<Figure size 1600x600 with 1 Axes>"
      ]
     },
     "metadata": {},
     "output_type": "display_data"
    }
   ],
   "source": [
    "import matplotlib.pyplot as plt\n",
    "%matplotlib inline\n",
    "\n",
    "mainDF.select('rating_1').toPandas().hist(figsize=(16, 6), grid=True)\n",
    "plt.title('Histogram of Ratings')\n",
    "plt.show()"
   ]
  },
  {
   "cell_type": "code",
   "execution_count": 28,
   "metadata": {},
   "outputs": [
    {
     "name": "stdout",
     "output_type": "stream",
     "text": [
      "+--------+---------+\n",
      "|rating_1|Row Count|\n",
      "+--------+---------+\n",
      "|     4.0|    26818|\n",
      "|     3.0|    20047|\n",
      "|     5.0|    13211|\n",
      "|     3.5|    13136|\n",
      "|     4.5|     8551|\n",
      "|     2.0|     7551|\n",
      "|     2.5|     5550|\n",
      "|     1.0|     2811|\n",
      "|     1.5|     1791|\n",
      "|     0.5|     1370|\n",
      "+--------+---------+\n",
      "\n"
     ]
    }
   ],
   "source": [
    "mainDF.groupBy(['rating_1']).agg({'rating_1':'count'})\\\n",
    "            .withColumnRenamed('count(rating_1)', 'Row Count')\\\n",
    "            .orderBy([\"Row Count\"],ascending=False)\\\n",
    "            .show()"
   ]
  },
  {
   "cell_type": "code",
   "execution_count": 29,
   "metadata": {},
   "outputs": [],
   "source": [
    "userId_frequency = mainDF.groupBy(['userId_1']).agg({'rating_1':'count'})\\\n",
    "            .withColumnRenamed('count(rating_1)', '# of Reviews')\\\n",
    "            .orderBy([\"# of Reviews\"],ascending=False)"
   ]
  },
  {
   "cell_type": "code",
   "execution_count": 30,
   "metadata": {},
   "outputs": [
    {
     "name": "stdout",
     "output_type": "stream",
     "text": [
      "+--------+------------+\n",
      "|userId_1|# of Reviews|\n",
      "+--------+------------+\n",
      "|     414|        2698|\n",
      "|     599|        2478|\n",
      "|     474|        2108|\n",
      "|     448|        1864|\n",
      "|     274|        1346|\n",
      "|     610|        1302|\n",
      "|      68|        1260|\n",
      "|     380|        1218|\n",
      "|     606|        1115|\n",
      "|     288|        1055|\n",
      "|     249|        1046|\n",
      "|     387|        1027|\n",
      "|     182|         977|\n",
      "|     307|         975|\n",
      "|     603|         943|\n",
      "|     298|         939|\n",
      "|     177|         904|\n",
      "|     318|         879|\n",
      "|     232|         862|\n",
      "|     480|         836|\n",
      "+--------+------------+\n",
      "only showing top 20 rows\n",
      "\n"
     ]
    }
   ],
   "source": [
    "userId_frequency.show()"
   ]
  },
  {
   "cell_type": "code",
   "execution_count": 31,
   "metadata": {},
   "outputs": [
    {
     "data": {
      "image/png": "[encoded data removed]",
      "text/plain": [
       "<Figure size 1600x600 with 1 Axes>"
      ]
     },
     "metadata": {},
     "output_type": "display_data"
    }
   ],
   "source": [
    "userId_frequency.select('# of Reviews').toPandas().hist(figsize=(16, 6), grid=True)\n",
    "plt.title('Histogram of User Ratings')\n",
    "plt.show()"
   ]
  },
  {
   "cell_type": "code",
   "execution_count": 32,
   "metadata": {},
   "outputs": [],
   "source": [
    "mainDF = mainDF.withColumnRenamed('userId_1', 'userid')\n",
    "mainDF = mainDF.withColumnRenamed('movieId_1', 'movieid')\n",
    "mainDF = mainDF.withColumnRenamed('rating_1', 'rating')\n",
    "mainDF = mainDF.withColumnRenamed('timestamp_1', 'timestamp')\n",
    "mainDF = mainDF.withColumnRenamed('imdbId', 'imdbid')\n",
    "mainDF = mainDF.withColumnRenamed('tmdbId', 'tmdbid')"
   ]
  },
  {
   "cell_type": "code",
   "execution_count": 33,
   "metadata": {},
   "outputs": [
    {
     "data": {
      "text/plain": [
       "['userid',\n",
       " 'movieid',\n",
       " 'rating',\n",
       " 'title',\n",
       " 'genres',\n",
       " 'imdbid',\n",
       " 'tmdbid',\n",
       " 'timestamp']"
      ]
     },
     "execution_count": 33,
     "metadata": {},
     "output_type": "execute_result"
    }
   ],
   "source": [
    "mainDF.columns"
   ]
  },
  {
   "cell_type": "code",
   "execution_count": 34,
   "metadata": {},
   "outputs": [],
   "source": [
    "import pyspark.sql.functions as F\n",
    "mainDF = mainDF.withColumn(\"rating\", F.round(mainDF[\"rating\"], 0))"
   ]
  },
  {
   "cell_type": "code",
   "execution_count": 35,
   "metadata": {},
   "outputs": [
    {
     "name": "stderr",
     "output_type": "stream",
     "text": [
      "\r",
      "[Stage 104:>                                                        (0 + 1) / 1]\r",
      "\r",
      "                                                                                \r"
     ]
    },
    {
     "name": "stdout",
     "output_type": "stream",
     "text": [
      "+------+-------+------+--------------------+--------------------+-------+------+----------+----------+\n",
      "|userid|movieid|rating|               title|              genres| imdbid|tmdbid| timestamp|genreCount|\n",
      "+------+-------+------+--------------------+--------------------+-------+------+----------+----------+\n",
      "|     1|   2054|   4.0|Honey, I Shrunk t...|Adventure|Childre...|  97523|  9354| 964981747|     227.0|\n",
      "|     4|   2109|   4.0|    Jerk, The (1979)|              Comedy|  79367|  6471| 986935016|       0.0|\n",
      "|     6|    364|   5.0|Lion King, The (1...|Adventure|Animati...| 110357|  8587| 845553317|     115.0|\n",
      "|     6|    480|   5.0|Jurassic Park (1993)|Action|Adventure|...| 107290|   329| 845553200|      10.0|\n",
      "|     7|  45730|   1.0|Lady in the Water...|Drama|Fantasy|Mys...| 452637|  9697|1161738279|     533.0|\n",
      "|     9|   5893|   4.0|Last Seduction, T...|Crime|Drama|Thriller| 110308| 25284|1044657144|      14.0|\n",
      "|    10|   4306|   5.0|        Shrek (2001)|Adventure|Animati...| 126029|   808|1455356595|     114.0|\n",
      "|    11|    589|   4.0|Terminator 2: Jud...|       Action|Sci-Fi| 103064|   280| 902154266|      20.0|\n",
      "|    17|    111|   4.0|  Taxi Driver (1976)|Crime|Drama|Thriller|  75314|   103|1326943208|      14.0|\n",
      "|    18|      1|   4.0|    Toy Story (1995)|Adventure|Animati...| 114709|   862|1455209816|      31.0|\n",
      "|    18|   1371|   4.0|Star Trek: The Mo...|    Adventure|Sci-Fi|  79945|   152|1455617646|     149.0|\n",
      "|    18|   1653|   4.0|      Gattaca (1997)|Drama|Sci-Fi|Thri...| 119177|   782|1455748777|      59.0|\n",
      "|    18| 122900|   4.0|      Ant-Man (2015)|Action|Adventure|...| 478970|102899|1457382458|       6.0|\n",
      "|    18| 140289|   4.0|Men & Chicken (2015)|        Comedy|Drama|3877674|296313|1456859803|       4.0|\n",
      "|    19|    289|   2.0|     Only You (1994)|      Comedy|Romance| 110737|  9058| 965706795|       2.0|\n",
      "|    19|   2143|   3.0|       Legend (1985)|Adventure|Fantasy...|  89469| 11976| 965704304|     362.0|\n",
      "|    19|   2320|   3.0|    Apt Pupil (1998)|      Drama|Thriller| 118636|  9445| 965711342|      11.0|\n",
      "|    19|   2622|   3.0|William Shakespea...|      Comedy|Fantasy| 140379| 10210| 965704281|      58.0|\n",
      "|    19|   3395|   3.0|       Nadine (1987)|              Comedy|  93596| 61178| 965707983|       0.0|\n",
      "|    20|     48|   5.0|   Pocahontas (1995)|Animation|Childre...| 114148| 10530|1054038357|     158.0|\n",
      "+------+-------+------+--------------------+--------------------+-------+------+----------+----------+\n",
      "only showing top 20 rows\n",
      "\n"
     ]
    }
   ],
   "source": [
    "from pyspark.ml.feature import StringIndexer\n",
    "string_indexer = StringIndexer(inputCol=\"genres\",outputCol=\"genreCount\")\n",
    "mainDF = string_indexer.fit(mainDF).transform(mainDF)\n",
    "mainDF.show()"
   ]
  },
  {
   "cell_type": "code",
   "execution_count": 36,
   "metadata": {},
   "outputs": [],
   "source": [
    "mainDF = mainDF.select('rating', 'userid', 'movieid', 'imdbid', \n",
    "                       'tmdbid', 'timestamp', 'genreCount')"
   ]
  },
  {
   "cell_type": "code",
   "execution_count": 37,
   "metadata": {},
   "outputs": [
    {
     "name": "stdout",
     "output_type": "stream",
     "text": [
      "+------+------+-------+-------+------+----------+----------+\n",
      "|rating|userid|movieid| imdbid|tmdbid| timestamp|genreCount|\n",
      "+------+------+-------+-------+------+----------+----------+\n",
      "|   4.0|     1|   2054|  97523|  9354| 964981747|     227.0|\n",
      "|   4.0|     4|   2109|  79367|  6471| 986935016|       0.0|\n",
      "|   5.0|     6|    364| 110357|  8587| 845553317|     115.0|\n",
      "|   5.0|     6|    480| 107290|   329| 845553200|      10.0|\n",
      "|   1.0|     7|  45730| 452637|  9697|1161738279|     533.0|\n",
      "|   4.0|     9|   5893| 110308| 25284|1044657144|      14.0|\n",
      "|   5.0|    10|   4306| 126029|   808|1455356595|     114.0|\n",
      "|   4.0|    11|    589| 103064|   280| 902154266|      20.0|\n",
      "|   4.0|    17|    111|  75314|   103|1326943208|      14.0|\n",
      "|   4.0|    18|      1| 114709|   862|1455209816|      31.0|\n",
      "|   4.0|    18|   1371|  79945|   152|1455617646|     149.0|\n",
      "|   4.0|    18|   1653| 119177|   782|1455748777|      59.0|\n",
      "|   4.0|    18| 122900| 478970|102899|1457382458|       6.0|\n",
      "|   4.0|    18| 140289|3877674|296313|1456859803|       4.0|\n",
      "|   2.0|    19|    289| 110737|  9058| 965706795|       2.0|\n",
      "|   3.0|    19|   2143|  89469| 11976| 965704304|     362.0|\n",
      "|   3.0|    19|   2320| 118636|  9445| 965711342|      11.0|\n",
      "|   3.0|    19|   2622| 140379| 10210| 965704281|      58.0|\n",
      "|   3.0|    19|   3395|  93596| 61178| 965707983|       0.0|\n",
      "|   5.0|    20|     48| 114148| 10530|1054038357|     158.0|\n",
      "+------+------+-------+-------+------+----------+----------+\n",
      "only showing top 20 rows\n",
      "\n"
     ]
    }
   ],
   "source": [
    "mainDF.show()"
   ]
  },
  {
   "cell_type": "code",
   "execution_count": 38,
   "metadata": {},
   "outputs": [],
   "source": [
    "trainDF, testDF = mainDF.randomSplit([0.8, 0.2], seed=1234)"
   ]
  },
  {
   "cell_type": "code",
   "execution_count": 39,
   "metadata": {},
   "outputs": [
    {
     "name": "stdout",
     "output_type": "stream",
     "text": [
      "The number of rows in mainDF is 100836\n"
     ]
    },
    {
     "name": "stderr",
     "output_type": "stream",
     "text": [
      "\r",
      "[Stage 130:>                                                        (0 + 1) / 1]\r",
      "\r",
      "                                                                                \r"
     ]
    },
    {
     "name": "stdout",
     "output_type": "stream",
     "text": [
      "The number of rows in trainDF is 80847\n",
      "The number of rows in testDF is 19989\n"
     ]
    }
   ],
   "source": [
    "print('The number of rows in mainDF is {}'.format(mainDF.count()))\n",
    "print('The number of rows in trainDF is {}'.format(trainDF.count()))\n",
    "print('The number of rows in testDF is {}'.format(testDF.count()))"
   ]
  },
  {
   "cell_type": "code",
   "execution_count": 40,
   "metadata": {},
   "outputs": [],
   "source": [
    "import numpy as np\n",
    "\n",
    "xtrain_array = np.array(trainDF.select('userid','movieid','genreCount').collect())\n",
    "xtest_array = np.array(testDF.select('userid','movieid','genreCount').collect())\n",
    "\n",
    "ytrain_array = np.array(trainDF.select('rating').collect())\n",
    "ytest_array = np.array(testDF.select('rating').collect())"
   ]
  },
  {
   "cell_type": "code",
   "execution_count": 41,
   "metadata": {},
   "outputs": [
    {
     "name": "stdout",
     "output_type": "stream",
     "text": [
      "(19989, 3)\n",
      "(19989, 1)\n",
      "(80847, 3)\n",
      "(80847, 1)\n"
     ]
    }
   ],
   "source": [
    "print(xtest_array.shape)\n",
    "print(ytest_array.shape)\n",
    "print(xtrain_array.shape)\n",
    "print(ytrain_array.shape)"
   ]
  },
  {
   "cell_type": "code",
   "execution_count": 42,
   "metadata": {},
   "outputs": [
    {
     "name": "stderr",
     "output_type": "stream",
     "text": [
      "2022-08-21 10:34:21.417920: W tensorflow/stream_executor/platform/default/dso_loader.cc:64] Could not load dynamic library 'libcudart.so.11.0'; dlerror: libcudart.so.11.0: cannot open shared object file: No such file or directory\n",
      "2022-08-21 10:34:21.417974: I tensorflow/stream_executor/cuda/cudart_stub.cc:29] Ignore above cudart dlerror if you do not have a GPU set up on your machine.\n"
     ]
    }
   ],
   "source": [
    "import keras.utils as u\n",
    "ytrain_OHE = u.to_categorical(ytrain_array)\n",
    "ytest_OHE = u.to_categorical(ytest_array)"
   ]
  },
  {
   "cell_type": "code",
   "execution_count": 43,
   "metadata": {},
   "outputs": [
    {
     "name": "stdout",
     "output_type": "stream",
     "text": [
      "(80847, 6)\n",
      "(19989, 6)\n"
     ]
    }
   ],
   "source": [
    "print(ytrain_OHE.shape)\n",
    "print(ytest_OHE.shape)"
   ]
  },
  {
   "cell_type": "code",
   "execution_count": 44,
   "metadata": {},
   "outputs": [],
   "source": [
    "from keras.models import Sequential\n",
    "from keras.layers import Dense, Activation"
   ]
  },
  {
   "cell_type": "code",
   "execution_count": 45,
   "metadata": {},
   "outputs": [
    {
     "name": "stderr",
     "output_type": "stream",
     "text": [
      "2022-08-21 10:34:22.965828: W tensorflow/stream_executor/platform/default/dso_loader.cc:64] Could not load dynamic library 'libcuda.so.1'; dlerror: libcuda.so.1: cannot open shared object file: No such file or directory\n",
      "2022-08-21 10:34:22.965888: W tensorflow/stream_executor/cuda/cuda_driver.cc:269] failed call to cuInit: UNKNOWN ERROR (303)\n",
      "2022-08-21 10:34:22.965919: I tensorflow/stream_executor/cuda/cuda_diagnostics.cc:156] kernel driver does not appear to be running on this host (ip-172-31-95-223): /proc/driver/nvidia/version does not exist\n",
      "2022-08-21 10:34:22.967368: I tensorflow/core/platform/cpu_feature_guard.cc:193] This TensorFlow binary is optimized with oneAPI Deep Neural Network Library (oneDNN) to use the following CPU instructions in performance-critical operations:  AVX2 FMA\n",
      "To enable them in other operations, rebuild TensorFlow with the appropriate compiler flags.\n"
     ]
    }
   ],
   "source": [
    "model = Sequential()\n",
    "model.add(Dense(32, activation='relu',input_dim=xtrain_array.shape[1]))\n",
    "model.add(Dense(10, activation='relu'))\n",
    "model.add(Dense(ytrain_OHE.shape[1], activation='softmax'))\n",
    "model.compile(optimizer='adam', loss='categorical_crossentropy',metrics=['accuracy'])"
   ]
  },
  {
   "cell_type": "code",
   "execution_count": 46,
   "metadata": {},
   "outputs": [
    {
     "name": "stdout",
     "output_type": "stream",
     "text": [
      "Epoch 1/20\n",
      "2527/2527 [==============================] - 6s 2ms/step - loss: 57.2600 - accuracy: 0.3651\n",
      "Epoch 2/20\n",
      "2527/2527 [==============================] - 4s 2ms/step - loss: 1.4093 - accuracy: 0.3968\n",
      "Epoch 3/20\n",
      "2527/2527 [==============================] - 4s 2ms/step - loss: 1.4016 - accuracy: 0.3968\n",
      "Epoch 4/20\n",
      "2527/2527 [==============================] - 4s 1ms/step - loss: 1.3992 - accuracy: 0.3968\n",
      "Epoch 5/20\n",
      "2527/2527 [==============================] - 4s 2ms/step - loss: 1.3984 - accuracy: 0.3968\n",
      "Epoch 6/20\n",
      "2527/2527 [==============================] - 4s 2ms/step - loss: 1.3981 - accuracy: 0.3968\n",
      "Epoch 7/20\n",
      "2527/2527 [==============================] - 4s 1ms/step - loss: 1.3981 - accuracy: 0.3968\n",
      "Epoch 8/20\n",
      "2527/2527 [==============================] - 4s 2ms/step - loss: 1.3980 - accuracy: 0.3968\n",
      "Epoch 9/20\n",
      "2527/2527 [==============================] - 6s 2ms/step - loss: 1.3980 - accuracy: 0.3968\n",
      "Epoch 10/20\n",
      "2527/2527 [==============================] - 4s 2ms/step - loss: 1.3980 - accuracy: 0.3968\n",
      "Epoch 11/20\n",
      "2527/2527 [==============================] - 4s 1ms/step - loss: 1.3980 - accuracy: 0.3968\n",
      "Epoch 12/20\n",
      "2527/2527 [==============================] - 4s 1ms/step - loss: 1.3980 - accuracy: 0.3968\n",
      "Epoch 13/20\n",
      "2527/2527 [==============================] - 4s 1ms/step - loss: 1.3980 - accuracy: 0.3968\n",
      "Epoch 14/20\n",
      "2527/2527 [==============================] - 3s 1ms/step - loss: 1.3980 - accuracy: 0.3968\n",
      "Epoch 15/20\n",
      "2527/2527 [==============================] - 3s 1ms/step - loss: 1.3980 - accuracy: 0.3968\n",
      "Epoch 16/20\n",
      "2527/2527 [==============================] - 3s 1ms/step - loss: 1.3980 - accuracy: 0.3968\n",
      "Epoch 17/20\n",
      "2527/2527 [==============================] - 5s 2ms/step - loss: 1.3980 - accuracy: 0.3968\n",
      "Epoch 18/20\n",
      "2527/2527 [==============================] - 4s 2ms/step - loss: 1.3980 - accuracy: 0.3968\n",
      "Epoch 19/20\n",
      "2527/2527 [==============================] - 3s 1ms/step - loss: 1.3980 - accuracy: 0.3968\n",
      "Epoch 20/20\n",
      "2527/2527 [==============================] - 3s 1ms/step - loss: 1.3980 - accuracy: 0.3968\n"
     ]
    }
   ],
   "source": [
    "accuracy_history = model.fit(xtrain_array, ytrain_OHE, epochs=20,batch_size=32)"
   ]
  },
  {
   "cell_type": "code",
   "execution_count": 47,
   "metadata": {},
   "outputs": [
    {
     "data": {
      "image/png": "[encoded data removed]",
      "text/plain": [
       "<Figure size 640x480 with 1 Axes>"
      ]
     },
     "metadata": {},
     "output_type": "display_data"
    },
    {
     "data": {
      "image/png": "[encoded data removed]",
      "text/plain": [
       "<Figure size 640x480 with 1 Axes>"
      ]
     },
     "metadata": {},
     "output_type": "display_data"
    }
   ],
   "source": [
    "plt.plot(accuracy_history.history['accuracy'])\n",
    "plt.title('Accuracy vs. Epoch')\n",
    "plt.xlabel('Epoch')\n",
    "plt.ylabel('Accuracy')\n",
    "plt.show()\n",
    "plt.plot(accuracy_history.history['loss'])\n",
    "plt.title('Loss vs. Epoch')\n",
    "plt.xlabel('Epoch')\n",
    "plt.ylabel('Loss')\n",
    "plt.show()"
   ]
  },
  {
   "cell_type": "code",
   "execution_count": 48,
   "metadata": {},
   "outputs": [
    {
     "name": "stdout",
     "output_type": "stream",
     "text": [
      "157/157 [==============================] - 0s 1ms/step - loss: 1.3991 - accuracy: 0.3939\n",
      "accuracy is 39.39%\n"
     ]
    }
   ],
   "source": [
    "score = model.evaluate(xtest_array, ytest_OHE, batch_size=128)\n",
    "accuracy_rate = score[1]*100\n",
    "print('accuracy is {}%'.format(round(accuracy_rate,2)))"
   ]
  },
  {
   "cell_type": "code",
   "execution_count": 49,
   "metadata": {},
   "outputs": [],
   "source": [
    "spark.stop()"
   ]
  },
  {
   "cell_type": "code",
   "execution_count": null,
   "metadata": {},
   "outputs": [],
   "source": []
  }
 ],
 "metadata": {
  "kernelspec": {
   "display_name": "Python 3 (ipykernel)",
   "language": "python",
   "name": "python3"
  },
  "language_info": {
   "codemirror_mode": {
    "name": "ipython",
    "version": 3
   },
   "file_extension": ".py",
   "mimetype": "text/x-python",
   "name": "python",
   "nbconvert_exporter": "python",
   "pygments_lexer": "ipython3",
   "version": "3.8.10"
  }
 },
 "nbformat": 4,
 "nbformat_minor": 2
}
