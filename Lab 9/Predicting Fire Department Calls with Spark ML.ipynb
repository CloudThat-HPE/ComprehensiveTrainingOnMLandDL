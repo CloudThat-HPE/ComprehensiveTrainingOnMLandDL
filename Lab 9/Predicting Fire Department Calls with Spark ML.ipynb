{
 "cells": [
  {
   "cell_type": "markdown",
   "metadata": {},
   "source": [
    "# Lab 09 - Predicting the Fire department calls"
   ]
  },
  {
   "cell_type": "code",
   "execution_count": 1,
   "metadata": {},
   "outputs": [],
   "source": [
    "from pyspark.sql import SparkSession"
   ]
  },
  {
   "cell_type": "code",
   "execution_count": 2,
   "metadata": {},
   "outputs": [],
   "source": [
    "spark = SparkSession.builder \\\n",
    "                    .master(\"local\") \\\n",
    "                    .appName(\"Predicting Fire Dept Calls\") \\\n",
    "                    .config(\"spark.executor.memory\", \"6gb\") \\\n",
    "                    .getOrCreate()"
   ]
  },
  {
   "cell_type": "markdown",
   "metadata": {},
   "source": [
    "## Download the dataset <br>\n",
    "\n",
    "Fire Calls-For-Service includes all fire units responses to calls. Each record includes the call number, incident number, address, unit identifier, call type, and disposition. All relevant time intervals are also included. Because this dataset is based on responses, and since most calls involved multiple units, there are multiple records for each call number. Addresses are associated with a block number, intersection or call box, not a specific address."
   ]
  },
  {
   "cell_type": "code",
   "execution_count": 3,
   "metadata": {},
   "outputs": [],
   "source": [
    "df = spark.read.format('com.databricks.spark.csv')\\\n",
    "                    .options(header='true', inferschema='true')\\\n",
    "                    .load('Fire_Department_Calls_for_Service.csv')"
   ]
  },
  {
   "cell_type": "markdown",
   "metadata": {},
   "source": [
    "The dataset is accompanied by a data dictionary that defines the headers for each\n",
    "of the 34 columns. This data dictionary can be accessed from the same website\n",
    "through the following link: <br>\n",
    "\n",
    "https://data.sfgov.org/api/views/nuek-vuh3/files/ddb7f3a9-0160-4f07-bb1e-2af744909294?download=true&filename=FIR-0002_DataDictionary_fire-calls-for-service.xlsx"
   ]
  },
  {
   "cell_type": "code",
   "execution_count": 4,
   "metadata": {},
   "outputs": [
    {
     "name": "stdout",
     "output_type": "stream",
     "text": [
      "+-----------+-------+---------------+----------------+----------+----------+--------------------+--------------------+--------------------+--------------------+--------------------+--------------------+--------------------+----------------------+--------------------+--------------------+----+-------------------+---------+------------+----+-----------------+--------+--------------+--------+---------------+----------------+---------+------------------------------+------------------------+-------------------+------------------------------------+--------------------+-------------+\n",
      "|Call Number|Unit ID|Incident Number|       Call Type| Call Date|Watch Date|       Received DtTm|          Entry DtTm|       Dispatch DtTm|       Response DtTm|       On Scene DtTm|      Transport DtTm|       Hospital DtTm|Call Final Disposition|      Available DtTm|             Address|City|Zipcode of Incident|Battalion|Station Area| Box|Original Priority|Priority|Final Priority|ALS Unit|Call Type Group|Number of Alarms|Unit Type|Unit sequence in call dispatch|Fire Prevention District|Supervisor District|Neighborhooods - Analysis Boundaries|            Location|        RowID|\n",
      "+-----------+-------+---------------+----------------+----------+----------+--------------------+--------------------+--------------------+--------------------+--------------------+--------------------+--------------------+----------------------+--------------------+--------------------+----+-------------------+---------+------------+----+-----------------+--------+--------------+--------+---------------+----------------+---------+------------------------------+------------------------+-------------------+------------------------------------+--------------------+-------------+\n",
      "|    1030101|    E18|         306091|Medical Incident|04/12/2000|04/12/2000|04/12/2000 09:00:...|04/12/2000 09:01:...|04/12/2000 09:02:...|                null|                null|                null|                null|                 Other|                null|2000 Block of 37T...|  SF|              94116|      B08|          18|0757|                3|       3|             3|   false|           null|               1|   ENGINE|                             1|                       8|                  4|                     Sunset/Parkside|(37.7487247711275...|001030101-E18|\n",
      "|    1030104|    M14|          30612|Medical Incident|04/12/2000|04/12/2000|04/12/2000 09:09:...|04/12/2000 09:10:...|04/12/2000 09:10:...|04/12/2000 09:12:...|04/12/2000 09:19:...|04/12/2000 09:43:...|04/12/2000 10:03:...|                 Other|04/12/2000 10:23:...|1700 Block of 43R...|  SF|              94122|      B08|          23|7651|                3|       3|             3|    true|           null|               1|    MEDIC|                             2|                       8|                  4|                     Sunset/Parkside|(37.7540326780595...|001030104-M14|\n",
      "+-----------+-------+---------------+----------------+----------+----------+--------------------+--------------------+--------------------+--------------------+--------------------+--------------------+--------------------+----------------------+--------------------+--------------------+----+-------------------+---------+------------+----+-----------------+--------+--------------+--------+---------------+----------------+---------+------------------------------+------------------------+-------------------+------------------------------------+--------------------+-------------+\n",
      "only showing top 2 rows\n",
      "\n"
     ]
    }
   ],
   "source": [
    "df.show(2)"
   ]
  },
  {
   "cell_type": "markdown",
   "metadata": {},
   "source": [
    "Goal is to identify the target column"
   ]
  },
  {
   "cell_type": "code",
   "execution_count": 5,
   "metadata": {},
   "outputs": [],
   "source": [
    "import matplotlib.pyplot as plt\n",
    "%matplotlib inline"
   ]
  },
  {
   "cell_type": "markdown",
   "metadata": {},
   "source": [
    "Get a cursory identification of the unique values in the \"Call Type Group\" column"
   ]
  },
  {
   "cell_type": "code",
   "execution_count": 6,
   "metadata": {},
   "outputs": [
    {
     "name": "stdout",
     "output_type": "stream",
     "text": [
      "+--------------------+\n",
      "|     Call Type Group|\n",
      "+--------------------+\n",
      "|               Alarm|\n",
      "|                null|\n",
      "|Potentially Life-...|\n",
      "|Non Life-threatening|\n",
      "|                Fire|\n",
      "+--------------------+\n",
      "\n"
     ]
    }
   ],
   "source": [
    "df.select('Call Type Group').distinct().show()"
   ]
  },
  {
   "cell_type": "markdown",
   "metadata": {},
   "source": [
    "Get a row count of each unique value to identify how many null values there\n",
    "are in the dataset."
   ]
  },
  {
   "cell_type": "code",
   "execution_count": 7,
   "metadata": {},
   "outputs": [
    {
     "name": "stdout",
     "output_type": "stream",
     "text": [
      "+--------------------+-------+\n",
      "|     Call Type Group|  count|\n",
      "+--------------------+-------+\n",
      "|               Alarm| 467914|\n",
      "|                null|2804557|\n",
      "|Potentially Life-...| 956584|\n",
      "|Non Life-threatening| 458920|\n",
      "|                Fire|  81705|\n",
      "+--------------------+-------+\n",
      "\n"
     ]
    }
   ],
   "source": [
    "df.groupBy('Call Type Group').count().show()"
   ]
  },
  {
   "cell_type": "markdown",
   "metadata": {},
   "source": [
    "View the imbalance of null values in\n",
    "a bar chart"
   ]
  },
  {
   "cell_type": "code",
   "execution_count": 8,
   "metadata": {},
   "outputs": [
    {
     "data": {
      "image/png": "[encoded data removed]",
      "text/plain": [
       "<Figure size 432x288 with 1 Axes>"
      ]
     },
     "metadata": {},
     "output_type": "display_data"
    }
   ],
   "source": [
    "df2 = df.groupBy('Call Type Group').count()\n",
    "graphDF = df2.toPandas()\n",
    "graphDF = graphDF.sort_values('count', ascending=False)\n",
    "\n",
    "graphDF.plot(x='Call Type Group', y = 'count', kind='bar')\n",
    "plt.title('Call Type Group by Count')\n",
    "plt.show()"
   ]
  },
  {
   "cell_type": "markdown",
   "metadata": {},
   "source": [
    "Another indicator is need to be chosen to determine a target variable.\n",
    "Instead, we profile \"Call Type\" to identify calls associated with fire versus\n",
    "all other calls."
   ]
  },
  {
   "cell_type": "code",
   "execution_count": 9,
   "metadata": {},
   "outputs": [
    {
     "name": "stdout",
     "output_type": "stream",
     "text": [
      "+--------------------+-------+\n",
      "|           Call Type|  count|\n",
      "+--------------------+-------+\n",
      "|    Medical Incident|3098884|\n",
      "|      Structure Fire| 623645|\n",
      "|              Alarms| 510233|\n",
      "|   Traffic Collision| 195430|\n",
      "|               Other|  76290|\n",
      "|Citizen Assist / ...|  71826|\n",
      "|        Outside Fire|  56341|\n",
      "|        Vehicle Fire|  23013|\n",
      "|        Water Rescue|  22843|\n",
      "|Gas Leak (Natural...|  18057|\n",
      "|   Electrical Hazard|  13386|\n",
      "|Elevator / Escala...|  12528|\n",
      "|Odor (Strange / U...|  12445|\n",
      "|Smoke Investigati...|  10555|\n",
      "|          Fuel Spill|   5540|\n",
      "|              HazMat|   3915|\n",
      "|Industrial Accidents|   2829|\n",
      "|           Explosion|   2582|\n",
      "|  Aircraft Emergency|   1511|\n",
      "|       Assist Police|   1331|\n",
      "|Train / Rail Inci...|   1264|\n",
      "|   High Angle Rescue|   1172|\n",
      "|Watercraft in Dis...|    885|\n",
      "|Extrication / Ent...|    695|\n",
      "|           Oil Spill|    516|\n",
      "|Confined Space / ...|    509|\n",
      "|Mutual Aid / Assi...|    459|\n",
      "|         Marine Fire|    371|\n",
      "|  Suspicious Package|    324|\n",
      "|      Administrative|    269|\n",
      "|   Train / Rail Fire|     23|\n",
      "|Lightning Strike ...|      9|\n",
      "+--------------------+-------+\n",
      "\n"
     ]
    }
   ],
   "source": [
    "df.groupBy('Call Type').count().orderBy('count', ascending=False).show(100)"
   ]
  },
  {
   "cell_type": "markdown",
   "metadata": {},
   "source": [
    "There are 32 unique categories for Call Type. Therefore, it will be used as the\n",
    "target variable for fire incidents. <br>\n",
    "\n",
    "We need to tag the columns containing \"Fire\" in \"Call Type\"."
   ]
  },
  {
   "cell_type": "code",
   "execution_count": 10,
   "metadata": {},
   "outputs": [
    {
     "name": "stdout",
     "output_type": "stream",
     "text": [
      "+--------------------+--------------+\n",
      "|           Call Type|Fire Indicator|\n",
      "+--------------------+--------------+\n",
      "|    Medical Incident|             0|\n",
      "|    Medical Incident|             0|\n",
      "|    Medical Incident|             0|\n",
      "|              Alarms|             0|\n",
      "|    Medical Incident|             0|\n",
      "|Citizen Assist / ...|             0|\n",
      "|   Electrical Hazard|             0|\n",
      "|Odor (Strange / U...|             0|\n",
      "|    Medical Incident|             0|\n",
      "|    Medical Incident|             0|\n",
      "|              Alarms|             0|\n",
      "|    Medical Incident|             0|\n",
      "|    Medical Incident|             0|\n",
      "|    Medical Incident|             0|\n",
      "|              Alarms|             0|\n",
      "|              Alarms|             0|\n",
      "|    Medical Incident|             0|\n",
      "|               Other|             0|\n",
      "|    Medical Incident|             0|\n",
      "|      Structure Fire|             1|\n",
      "+--------------------+--------------+\n",
      "only showing top 20 rows\n",
      "\n"
     ]
    }
   ],
   "source": [
    "from pyspark.sql import functions as F\n",
    "fireIndicator = df.select(df[\"Call Type\"],F.when(df[\"Call Type\"].like(\"%Fire%\"),1)\\\n",
    "                          .otherwise(0).alias('Fire Indicator'))\n",
    "fireIndicator.show()"
   ]
  },
  {
   "cell_type": "markdown",
   "metadata": {},
   "source": [
    "Retrieve the distinct counts of Fire Indicator. Identify how prevalent fire calls are compared to the rest of the\n",
    "calls"
   ]
  },
  {
   "cell_type": "code",
   "execution_count": 11,
   "metadata": {},
   "outputs": [
    {
     "name": "stdout",
     "output_type": "stream",
     "text": [
      "+--------------+-------+\n",
      "|Fire Indicator|  count|\n",
      "+--------------+-------+\n",
      "|             1| 703393|\n",
      "|             0|4066287|\n",
      "+--------------+-------+\n",
      "\n"
     ]
    }
   ],
   "source": [
    "fireIndicator.groupBy('Fire Indicator').count().show()"
   ]
  },
  {
   "cell_type": "markdown",
   "metadata": {},
   "source": [
    "Add the Fire Indicator column to the original\n",
    "dataframe"
   ]
  },
  {
   "cell_type": "code",
   "execution_count": 12,
   "metadata": {},
   "outputs": [],
   "source": [
    "df = df.withColumn(\"fireIndicator\", F.when(df[\"Call Type\"].like(\"%Fire%\"),1).otherwise(0))"
   ]
  },
  {
   "cell_type": "code",
   "execution_count": 13,
   "metadata": {},
   "outputs": [
    {
     "name": "stdout",
     "output_type": "stream",
     "text": [
      "root\n",
      " |-- Call Number: integer (nullable = true)\n",
      " |-- Unit ID: string (nullable = true)\n",
      " |-- Incident Number: integer (nullable = true)\n",
      " |-- Call Type: string (nullable = true)\n",
      " |-- Call Date: string (nullable = true)\n",
      " |-- Watch Date: string (nullable = true)\n",
      " |-- Received DtTm: string (nullable = true)\n",
      " |-- Entry DtTm: string (nullable = true)\n",
      " |-- Dispatch DtTm: string (nullable = true)\n",
      " |-- Response DtTm: string (nullable = true)\n",
      " |-- On Scene DtTm: string (nullable = true)\n",
      " |-- Transport DtTm: string (nullable = true)\n",
      " |-- Hospital DtTm: string (nullable = true)\n",
      " |-- Call Final Disposition: string (nullable = true)\n",
      " |-- Available DtTm: string (nullable = true)\n",
      " |-- Address: string (nullable = true)\n",
      " |-- City: string (nullable = true)\n",
      " |-- Zipcode of Incident: integer (nullable = true)\n",
      " |-- Battalion: string (nullable = true)\n",
      " |-- Station Area: string (nullable = true)\n",
      " |-- Box: string (nullable = true)\n",
      " |-- Original Priority: string (nullable = true)\n",
      " |-- Priority: string (nullable = true)\n",
      " |-- Final Priority: integer (nullable = true)\n",
      " |-- ALS Unit: boolean (nullable = true)\n",
      " |-- Call Type Group: string (nullable = true)\n",
      " |-- Number of Alarms: integer (nullable = true)\n",
      " |-- Unit Type: string (nullable = true)\n",
      " |-- Unit sequence in call dispatch: integer (nullable = true)\n",
      " |-- Fire Prevention District: string (nullable = true)\n",
      " |-- Supervisor District: string (nullable = true)\n",
      " |-- Neighborhooods - Analysis Boundaries: string (nullable = true)\n",
      " |-- Location: string (nullable = true)\n",
      " |-- RowID: string (nullable = true)\n",
      " |-- fireIndicator: integer (nullable = false)\n",
      "\n"
     ]
    }
   ],
   "source": [
    "df.printSchema()"
   ]
  },
  {
   "cell_type": "markdown",
   "metadata": {},
   "source": [
    "Perform Feature Selection"
   ]
  },
  {
   "cell_type": "code",
   "execution_count": 14,
   "metadata": {},
   "outputs": [
    {
     "name": "stdout",
     "output_type": "stream",
     "text": [
      "+-------------+-------------------+---------+------------+----+----------------+------------------------------+------------------------------------+------------------------+-------------------+\n",
      "|fireIndicator|Zipcode of Incident|Battalion|Station Area| Box|Number of Alarms|Unit sequence in call dispatch|Neighborhooods - Analysis Boundaries|Fire Prevention District|Supervisor District|\n",
      "+-------------+-------------------+---------+------------+----+----------------+------------------------------+------------------------------------+------------------------+-------------------+\n",
      "|            0|              94116|      B08|          18|0757|               1|                             1|                     Sunset/Parkside|                       8|                  4|\n",
      "|            0|              94122|      B08|          23|7651|               1|                             2|                     Sunset/Parkside|                       8|                  4|\n",
      "|            0|              94102|      B02|          36|3111|               1|                             1|                          Tenderloin|                       2|                  6|\n",
      "|            0|              94102|      B03|          01|1456|               1|                             3|                          Tenderloin|                       3|                  6|\n",
      "|            0|              94108|      B03|          01|1322|               1|                             2|                Financial Distric...|                       1|                  3|\n",
      "+-------------+-------------------+---------+------------+----+----------------+------------------------------+------------------------------------+------------------------+-------------------+\n",
      "only showing top 5 rows\n",
      "\n"
     ]
    }
   ],
   "source": [
    "df = df.select('fireIndicator',\n",
    "    'Zipcode of Incident',\n",
    "    'Battalion',\n",
    "    'Station Area',\n",
    "    'Box',\n",
    "    'Number of Alarms',\n",
    "    'Unit sequence in call dispatch',\n",
    "    'Neighborhooods - Analysis Boundaries',\n",
    "    'Fire Prevention District',\n",
    "    'Supervisor District')\n",
    "df.show(5)"
   ]
  },
  {
   "cell_type": "markdown",
   "metadata": {},
   "source": [
    "Identify any null values within the dataframe and remove\n",
    "them if they exist."
   ]
  },
  {
   "cell_type": "code",
   "execution_count": 15,
   "metadata": {},
   "outputs": [
    {
     "name": "stdout",
     "output_type": "stream",
     "text": [
      "Total Rows\n"
     ]
    },
    {
     "data": {
      "text/plain": [
       "4769680"
      ]
     },
     "execution_count": 15,
     "metadata": {},
     "output_type": "execute_result"
    }
   ],
   "source": [
    "print('Total Rows')\n",
    "df.count()"
   ]
  },
  {
   "cell_type": "code",
   "execution_count": 16,
   "metadata": {},
   "outputs": [
    {
     "name": "stdout",
     "output_type": "stream",
     "text": [
      "Rows without Null values\n"
     ]
    },
    {
     "data": {
      "text/plain": [
       "4753028"
      ]
     },
     "execution_count": 16,
     "metadata": {},
     "output_type": "execute_result"
    }
   ],
   "source": [
    "print('Rows without Null values')\n",
    "df.dropna().count()"
   ]
  },
  {
   "cell_type": "code",
   "execution_count": 17,
   "metadata": {},
   "outputs": [
    {
     "name": "stdout",
     "output_type": "stream",
     "text": [
      "Row with Null Values\n"
     ]
    },
    {
     "data": {
      "text/plain": [
       "16652"
      ]
     },
     "execution_count": 17,
     "metadata": {},
     "output_type": "execute_result"
    }
   ],
   "source": [
    "print('Row with Null Values')\n",
    "df.count()-df.dropna().count()"
   ]
  },
  {
   "cell_type": "code",
   "execution_count": 18,
   "metadata": {},
   "outputs": [],
   "source": [
    "df = df.dropna()"
   ]
  },
  {
   "cell_type": "markdown",
   "metadata": {},
   "source": [
    "Retrieve the updated target count of\n",
    "fireIndicator"
   ]
  },
  {
   "cell_type": "code",
   "execution_count": 19,
   "metadata": {},
   "outputs": [
    {
     "name": "stdout",
     "output_type": "stream",
     "text": [
      "+-------------+-------+\n",
      "|fireIndicator|  count|\n",
      "+-------------+-------+\n",
      "|            0|4050744|\n",
      "|            1| 702284|\n",
      "+-------------+-------+\n",
      "\n"
     ]
    }
   ],
   "source": [
    "df.groupBy('fireIndicator').count().orderBy('count', ascending = False).show()"
   ]
  },
  {
   "cell_type": "markdown",
   "metadata": {},
   "source": [
    "Assign numeric values\n",
    "to each categorical variable for the features"
   ]
  },
  {
   "cell_type": "code",
   "execution_count": 20,
   "metadata": {},
   "outputs": [],
   "source": [
    "from pyspark.ml.feature import StringIndexer"
   ]
  },
  {
   "cell_type": "markdown",
   "metadata": {},
   "source": [
    "Create a Python list for all the feature variables that will be used in the\n",
    "model"
   ]
  },
  {
   "cell_type": "code",
   "execution_count": 21,
   "metadata": {},
   "outputs": [],
   "source": [
    "column_names = df.columns[1:]"
   ]
  },
  {
   "cell_type": "markdown",
   "metadata": {},
   "source": [
    "Specify the output column format, outputcol,\n",
    "that will be stringIndexed from the list of features from the input column,\n",
    "inputcol"
   ]
  },
  {
   "cell_type": "code",
   "execution_count": 22,
   "metadata": {},
   "outputs": [],
   "source": [
    "categoricalColumns = column_names\n",
    "indexers = []\n",
    "for categoricalCol in categoricalColumns:\n",
    "    stringIndexer = StringIndexer(inputCol=categoricalCol, outputCol=categoricalCol+\"_Index\")\n",
    "    indexers += [stringIndexer]"
   ]
  },
  {
   "cell_type": "markdown",
   "metadata": {},
   "source": [
    "Create a model that will be used to fit the\n",
    "input columns and produce the newly defined output columns to the\n",
    "existing dataframe, df"
   ]
  },
  {
   "cell_type": "code",
   "execution_count": 23,
   "metadata": {},
   "outputs": [],
   "source": [
    "models = []\n",
    "for model in indexers:\n",
    "    indexer_model = model.fit(df)\n",
    "    models+=[indexer_model]\n",
    "\n",
    "for i in models:\n",
    "    df = i.transform(df)"
   ]
  },
  {
   "cell_type": "markdown",
   "metadata": {},
   "source": [
    "Define a final selection of the features in the\n",
    "dataframe, df, that will be used for the model. Retain the numerical columns."
   ]
  },
  {
   "cell_type": "code",
   "execution_count": 24,
   "metadata": {},
   "outputs": [],
   "source": [
    "df = df.select(\n",
    "        'fireIndicator',\n",
    "        'Zipcode of Incident_Index',\n",
    "        'Battalion_Index',\n",
    "        'Station Area_Index',\n",
    "        'Box_Index',\n",
    "        'Number of Alarms_Index',\n",
    "        'Unit sequence in call dispatch_Index',\n",
    "        'Neighborhooods - Analysis Boundaries_Index',\n",
    "        'Fire Prevention District_Index',\n",
    "        'Supervisor District_Index')"
   ]
  },
  {
   "cell_type": "code",
   "execution_count": 25,
   "metadata": {},
   "outputs": [
    {
     "name": "stdout",
     "output_type": "stream",
     "text": [
      "root\n",
      " |-- fireIndicator: integer (nullable = false)\n",
      " |-- Zipcode of Incident_Index: double (nullable = true)\n",
      " |-- Battalion_Index: double (nullable = true)\n",
      " |-- Station Area_Index: double (nullable = true)\n",
      " |-- Box_Index: double (nullable = true)\n",
      " |-- Number of Alarms_Index: double (nullable = true)\n",
      " |-- Unit sequence in call dispatch_Index: double (nullable = true)\n",
      " |-- Neighborhooods - Analysis Boundaries_Index: double (nullable = true)\n",
      " |-- Fire Prevention District_Index: double (nullable = true)\n",
      " |-- Supervisor District_Index: double (nullable = true)\n",
      "\n"
     ]
    }
   ],
   "source": [
    "df.printSchema()"
   ]
  },
  {
   "cell_type": "code",
   "execution_count": 26,
   "metadata": {},
   "outputs": [
    {
     "name": "stdout",
     "output_type": "stream",
     "text": [
      "+-------------+-------------------------+---------------+------------------+---------+----------------------+------------------------------------+------------------------------------------+------------------------------+-------------------------+\n",
      "|fireIndicator|Zipcode of Incident_Index|Battalion_Index|Station Area_Index|Box_Index|Number of Alarms_Index|Unit sequence in call dispatch_Index|Neighborhooods - Analysis Boundaries_Index|Fire Prevention District_Index|Supervisor District_Index|\n",
      "+-------------+-------------------------+---------------+------------------+---------+----------------------+------------------------------------+------------------------------------------+------------------------------+-------------------------+\n",
      "|            0|                     18.0|            5.0|              29.0|   1740.0|                   0.0|                                 0.0|                                       5.0|                           7.0|                     10.0|\n",
      "|            0|                      8.0|            5.0|              31.0|   1279.0|                   0.0|                                 1.0|                                       5.0|                           7.0|                     10.0|\n",
      "|            0|                      0.0|            1.0|               2.0|     61.0|                   0.0|                                 0.0|                                       0.0|                           0.0|                      0.0|\n",
      "|            0|                      0.0|            0.0|               0.0|      7.0|                   0.0|                                 2.0|                                       0.0|                           1.0|                      0.0|\n",
      "|            0|                     17.0|            0.0|               0.0|     48.0|                   0.0|                                 1.0|                                       3.0|                           2.0|                      1.0|\n",
      "+-------------+-------------------------+---------------+------------------+---------+----------------------+------------------------------------+------------------------------------------+------------------------------+-------------------------+\n",
      "only showing top 5 rows\n",
      "\n"
     ]
    }
   ],
   "source": [
    "df.show(5)"
   ]
  },
  {
   "cell_type": "code",
   "execution_count": 27,
   "metadata": {},
   "outputs": [],
   "source": [
    "features = df.columns[1:]"
   ]
  },
  {
   "cell_type": "markdown",
   "metadata": {},
   "source": [
    "The features are combined in a\n",
    "single vector for training purposes"
   ]
  },
  {
   "cell_type": "code",
   "execution_count": 28,
   "metadata": {},
   "outputs": [],
   "source": [
    "from pyspark.ml.feature import VectorAssembler\n",
    "feature_vectors = VectorAssembler(inputCols = features,outputCol = \"features\")"
   ]
  },
  {
   "cell_type": "code",
   "execution_count": 29,
   "metadata": {},
   "outputs": [],
   "source": [
    "df = feature_vectors.transform(df)"
   ]
  },
  {
   "cell_type": "code",
   "execution_count": 30,
   "metadata": {},
   "outputs": [
    {
     "data": {
      "text/plain": [
       "['fireIndicator',\n",
       " 'Zipcode of Incident_Index',\n",
       " 'Battalion_Index',\n",
       " 'Station Area_Index',\n",
       " 'Box_Index',\n",
       " 'Number of Alarms_Index',\n",
       " 'Unit sequence in call dispatch_Index',\n",
       " 'Neighborhooods - Analysis Boundaries_Index',\n",
       " 'Fire Prevention District_Index',\n",
       " 'Supervisor District_Index',\n",
       " 'features']"
      ]
     },
     "execution_count": 30,
     "metadata": {},
     "output_type": "execute_result"
    }
   ],
   "source": [
    "df.columns"
   ]
  },
  {
   "cell_type": "markdown",
   "metadata": {},
   "source": [
    "Remove the individual columns"
   ]
  },
  {
   "cell_type": "code",
   "execution_count": 31,
   "metadata": {},
   "outputs": [],
   "source": [
    "df = df.drop( 'Zipcode of Incident_Index',\n",
    "              'Battalion_Index',\n",
    "              'Station Area_Index',\n",
    "              'Box_Index',\n",
    "              'Number of Alarms_Index',\n",
    "              'Unit sequence in call dispatch_Index',\n",
    "              'Neighborhooods - Analysis Boundaries_Index',\n",
    "              'Fire Prevention District_Index',\n",
    "              'Supervisor District_Index')"
   ]
  },
  {
   "cell_type": "markdown",
   "metadata": {},
   "source": [
    "Rename the Fire Indicator column as Label"
   ]
  },
  {
   "cell_type": "code",
   "execution_count": 32,
   "metadata": {},
   "outputs": [],
   "source": [
    "df = df.withColumnRenamed('fireIndicator', 'label')"
   ]
  },
  {
   "cell_type": "code",
   "execution_count": 33,
   "metadata": {},
   "outputs": [
    {
     "name": "stdout",
     "output_type": "stream",
     "text": [
      "+-----+--------------------+\n",
      "|label|            features|\n",
      "+-----+--------------------+\n",
      "|    0|[18.0,5.0,29.0,17...|\n",
      "|    0|[8.0,5.0,31.0,127...|\n",
      "|    0|(9,[1,2,3],[1.0,2...|\n",
      "|    0|(9,[3,5,7],[7.0,2...|\n",
      "|    0|[17.0,0.0,0.0,48....|\n",
      "|    0|[3.0,2.0,1.0,191....|\n",
      "|    0|[3.0,3.0,17.0,202...|\n",
      "|    0|[5.0,6.0,18.0,845...|\n",
      "|    0|[4.0,4.0,7.0,497....|\n",
      "|    0|[21.0,2.0,4.0,597...|\n",
      "|    0|[8.0,5.0,26.0,285...|\n",
      "|    0|[2.0,7.0,3.0,70.0...|\n",
      "|    0|[7.0,0.0,8.0,251....|\n",
      "|    0|[6.0,3.0,6.0,241....|\n",
      "|    0|[6.0,3.0,6.0,241....|\n",
      "|    0|[18.0,5.0,29.0,10...|\n",
      "|    0|[22.0,5.0,37.0,39...|\n",
      "|    0|[11.0,8.0,13.0,13...|\n",
      "|    1|[5.0,6.0,21.0,282...|\n",
      "|    0|[1.0,1.0,2.0,46.0...|\n",
      "+-----+--------------------+\n",
      "only showing top 20 rows\n",
      "\n"
     ]
    }
   ],
   "source": [
    "df.show()"
   ]
  },
  {
   "cell_type": "markdown",
   "metadata": {},
   "source": [
    "To minimize overfitting the model, the dataframe will be split into a\n",
    "testing and training dataset to fit the model on the training dataset."
   ]
  },
  {
   "cell_type": "code",
   "execution_count": 34,
   "metadata": {},
   "outputs": [],
   "source": [
    "(trainDF, testDF) = df.randomSplit([0.75, 0.25], seed = 12345)"
   ]
  },
  {
   "cell_type": "code",
   "execution_count": 35,
   "metadata": {},
   "outputs": [
    {
     "name": "stdout",
     "output_type": "stream",
     "text": [
      "3564817\n",
      "1188211\n"
     ]
    }
   ],
   "source": [
    "print(trainDF.count())\n",
    "print(testDF.count())"
   ]
  },
  {
   "cell_type": "markdown",
   "metadata": {},
   "source": [
    "Build the Classification model, train and test the model"
   ]
  },
  {
   "cell_type": "code",
   "execution_count": 36,
   "metadata": {},
   "outputs": [],
   "source": [
    "from pyspark.ml.classification import LogisticRegression\n",
    "logreg = LogisticRegression(labelCol=\"label\", featuresCol=\"features\", maxIter=10)\n",
    "LogisticRegressionModel = logreg.fit(trainDF)"
   ]
  },
  {
   "cell_type": "code",
   "execution_count": 37,
   "metadata": {},
   "outputs": [],
   "source": [
    "df_predicted = LogisticRegressionModel.transform(testDF)"
   ]
  },
  {
   "cell_type": "code",
   "execution_count": 38,
   "metadata": {},
   "outputs": [
    {
     "name": "stdout",
     "output_type": "stream",
     "text": [
      "root\n",
      " |-- label: integer (nullable = false)\n",
      " |-- features: vector (nullable = true)\n",
      " |-- rawPrediction: vector (nullable = true)\n",
      " |-- probability: vector (nullable = true)\n",
      " |-- prediction: double (nullable = true)\n",
      "\n"
     ]
    }
   ],
   "source": [
    "df_predicted.printSchema()"
   ]
  },
  {
   "cell_type": "code",
   "execution_count": 39,
   "metadata": {},
   "outputs": [
    {
     "name": "stdout",
     "output_type": "stream",
     "text": [
      "+-----+--------------------+--------------------+--------------------+----------+\n",
      "|label|            features|       rawPrediction|         probability|prediction|\n",
      "+-----+--------------------+--------------------+--------------------+----------+\n",
      "|    0|(9,[0,1,2,3],[1.0...|[2.62764338127542...|[0.93261960974335...|       0.0|\n",
      "|    0|(9,[0,1,2,3],[1.0...|[2.62764338127542...|[0.93261960974335...|       0.0|\n",
      "|    0|(9,[0,1,2,3],[1.0...|[2.62764338127542...|[0.93261960974335...|       0.0|\n",
      "|    0|(9,[0,1,2,3],[1.0...|[2.59663398972153...|[0.93064463453280...|       0.0|\n",
      "|    0|(9,[0,1,2,3],[1.0...|[2.59663398972153...|[0.93064463453280...|       0.0|\n",
      "+-----+--------------------+--------------------+--------------------+----------+\n",
      "only showing top 5 rows\n",
      "\n"
     ]
    }
   ],
   "source": [
    "df_predicted.show(5)"
   ]
  },
  {
   "cell_type": "markdown",
   "metadata": {},
   "source": [
    "Create a confusion matrix"
   ]
  },
  {
   "cell_type": "code",
   "execution_count": 40,
   "metadata": {},
   "outputs": [
    {
     "name": "stdout",
     "output_type": "stream",
     "text": [
      "+----------------+-------+-----+\n",
      "|label_prediction|    0.0|  1.0|\n",
      "+----------------+-------+-----+\n",
      "|               1| 126660|48849|\n",
      "|               0|1004073| 8629|\n",
      "+----------------+-------+-----+\n",
      "\n"
     ]
    }
   ],
   "source": [
    "df_predicted.crosstab('label', 'prediction').show()"
   ]
  },
  {
   "cell_type": "markdown",
   "metadata": {},
   "source": [
    "Obtain the accuracy"
   ]
  },
  {
   "cell_type": "code",
   "execution_count": 41,
   "metadata": {},
   "outputs": [],
   "source": [
    "from sklearn import metrics"
   ]
  },
  {
   "cell_type": "code",
   "execution_count": 42,
   "metadata": {},
   "outputs": [],
   "source": [
    "actual = df_predicted.select('label').toPandas()\n",
    "predicted = df_predicted.select('prediction').toPandas()"
   ]
  },
  {
   "cell_type": "code",
   "execution_count": 43,
   "metadata": {},
   "outputs": [
    {
     "data": {
      "text/plain": [
       "0.8861405928744979"
      ]
     },
     "execution_count": 43,
     "metadata": {},
     "output_type": "execute_result"
    }
   ],
   "source": [
    "metrics.accuracy_score(actual, predicted)"
   ]
  },
  {
   "cell_type": "code",
   "execution_count": 44,
   "metadata": {},
   "outputs": [
    {
     "name": "stdout",
     "output_type": "stream",
     "text": [
      "+-----+-------+\n",
      "|label|  count|\n",
      "+-----+-------+\n",
      "|    1| 175509|\n",
      "|    0|1012702|\n",
      "+-----+-------+\n",
      "\n"
     ]
    }
   ],
   "source": [
    "df_predicted.groupBy('label').count().show()"
   ]
  },
  {
   "cell_type": "code",
   "execution_count": 45,
   "metadata": {},
   "outputs": [
    {
     "name": "stdout",
     "output_type": "stream",
     "text": [
      "+-------+-------------------+\n",
      "|summary|              label|\n",
      "+-------+-------------------+\n",
      "|  count|            1188211|\n",
      "|   mean|0.14770861404245542|\n",
      "| stddev|0.35481105581711136|\n",
      "|    min|                  0|\n",
      "|    max|                  1|\n",
      "+-------+-------------------+\n",
      "\n"
     ]
    }
   ],
   "source": [
    "df_predicted.describe('label').show()"
   ]
  },
  {
   "cell_type": "code",
   "execution_count": null,
   "metadata": {},
   "outputs": [],
   "source": []
  }
 ],
 "metadata": {
  "kernelspec": {
   "display_name": "Python 3",
   "language": "python",
   "name": "python3"
  },
  "language_info": {
   "codemirror_mode": {
    "name": "ipython",
    "version": 3
   },
   "file_extension": ".py",
   "mimetype": "text/x-python",
   "name": "python",
   "nbconvert_exporter": "python",
   "pygments_lexer": "ipython3",
   "version": "3.6.5"
  }
 },
 "nbformat": 4,
 "nbformat_minor": 2
}
