{
 "cells": [
  {
   "cell_type": "code",
   "execution_count": 1,
   "id": "4b60a1e4",
   "metadata": {},
   "outputs": [],
   "source": [
    "import findspark\n",
    "findspark.init(findspark.find())"
   ]
  },
  {
   "cell_type": "code",
   "execution_count": 2,
   "id": "775c8ce8",
   "metadata": {},
   "outputs": [
    {
     "name": "stderr",
     "output_type": "stream",
     "text": [
      "22/07/26 21:10:39 WARN NativeCodeLoader: Unable to load native-hadoop library for your platform... using builtin-java classes where applicable\n",
      "Using Spark's default log4j profile: org/apache/spark/log4j-defaults.properties\n",
      "Setting default log level to \"WARN\".\n",
      "To adjust logging level use sc.setLogLevel(newLevel). For SparkR, use setLogLevel(newLevel).\n"
     ]
    }
   ],
   "source": [
    "import pyspark\n",
    "from pyspark.sql import SparkSession\n",
    "\n",
    "spark = SparkSession.builder.appName(\"Predict Iris Species\").getOrCreate()"
   ]
  },
  {
   "cell_type": "code",
   "execution_count": 3,
   "id": "9ecccc83",
   "metadata": {},
   "outputs": [
    {
     "name": "stderr",
     "output_type": "stream",
     "text": [
      "                                                                                \r"
     ]
    }
   ],
   "source": [
    "df = spark.read.csv(\"IRIS.csv\",inferSchema=True,header=True)"
   ]
  },
  {
   "cell_type": "code",
   "execution_count": 4,
   "id": "e345c2a8",
   "metadata": {},
   "outputs": [
    {
     "name": "stdout",
     "output_type": "stream",
     "text": [
      "root\n",
      " |-- sepal_length: double (nullable = true)\n",
      " |-- sepal_width: double (nullable = true)\n",
      " |-- petal_length: double (nullable = true)\n",
      " |-- petal_width: double (nullable = true)\n",
      " |-- species: string (nullable = true)\n",
      "\n"
     ]
    }
   ],
   "source": [
    "df.printSchema()"
   ]
  },
  {
   "cell_type": "code",
   "execution_count": 6,
   "id": "4360de71",
   "metadata": {},
   "outputs": [
    {
     "name": "stdout",
     "output_type": "stream",
     "text": [
      "root\n",
      " |-- sepal_length: float (nullable = true)\n",
      " |-- sepal_width: float (nullable = true)\n",
      " |-- petal_length: float (nullable = true)\n",
      " |-- petal_width: float (nullable = true)\n",
      "\n"
     ]
    }
   ],
   "source": [
    "from pyspark.sql.functions import col\n",
    "features = df.drop('species')\n",
    "features = features.select(*(col(c).cast('float').alias(c) for c in features.columns))\n",
    "features.printSchema()"
   ]
  },
  {
   "cell_type": "code",
   "execution_count": 7,
   "id": "25c6364c",
   "metadata": {},
   "outputs": [
    {
     "name": "stdout",
     "output_type": "stream",
     "text": [
      "+------------+-----------+------------+-----------+\n",
      "|sepal_length|sepal_width|petal_length|petal_width|\n",
      "+------------+-----------+------------+-----------+\n",
      "|           0|          0|           0|          0|\n",
      "+------------+-----------+------------+-----------+\n",
      "\n"
     ]
    }
   ],
   "source": [
    "from pyspark.sql.functions import col, count, isnan, when\n",
    "features.select([count(when(col(c).isNull(), c)).alias(c) for c in features.columns]).show()"
   ]
  },
  {
   "cell_type": "code",
   "execution_count": 8,
   "id": "9568485e",
   "metadata": {},
   "outputs": [
    {
     "name": "stdout",
     "output_type": "stream",
     "text": [
      "+-----------------+-----------+\n",
      "|         features|    species|\n",
      "+-----------------+-----------+\n",
      "|[5.1,3.5,1.4,0.2]|Iris-setosa|\n",
      "|[4.9,3.0,1.4,0.2]|Iris-setosa|\n",
      "|[4.7,3.2,1.3,0.2]|Iris-setosa|\n",
      "|[4.6,3.1,1.5,0.2]|Iris-setosa|\n",
      "|[5.0,3.6,1.4,0.2]|Iris-setosa|\n",
      "|[5.4,3.9,1.7,0.4]|Iris-setosa|\n",
      "|[4.6,3.4,1.4,0.3]|Iris-setosa|\n",
      "|[5.0,3.4,1.5,0.2]|Iris-setosa|\n",
      "|[4.4,2.9,1.4,0.2]|Iris-setosa|\n",
      "|[4.9,3.1,1.5,0.1]|Iris-setosa|\n",
      "|[5.4,3.7,1.5,0.2]|Iris-setosa|\n",
      "|[4.8,3.4,1.6,0.2]|Iris-setosa|\n",
      "|[4.8,3.0,1.4,0.1]|Iris-setosa|\n",
      "|[4.3,3.0,1.1,0.1]|Iris-setosa|\n",
      "|[5.8,4.0,1.2,0.2]|Iris-setosa|\n",
      "|[5.7,4.4,1.5,0.4]|Iris-setosa|\n",
      "|[5.4,3.9,1.3,0.4]|Iris-setosa|\n",
      "|[5.1,3.5,1.4,0.3]|Iris-setosa|\n",
      "|[5.7,3.8,1.7,0.3]|Iris-setosa|\n",
      "|[5.1,3.8,1.5,0.3]|Iris-setosa|\n",
      "+-----------------+-----------+\n",
      "only showing top 20 rows\n",
      "\n"
     ]
    }
   ],
   "source": [
    "from pyspark.ml.feature import StringIndexer, VectorAssembler\n",
    "#let's assemble our features together using vectorAssembler\n",
    "assembler = VectorAssembler(\n",
    "    inputCols=features.columns,\n",
    "    outputCol=\"features\")\n",
    "output = assembler.transform(df).select('features','species')\n",
    "output.show()"
   ]
  },
  {
   "cell_type": "code",
   "execution_count": 9,
   "id": "b9fd79a8",
   "metadata": {},
   "outputs": [
    {
     "name": "stdout",
     "output_type": "stream",
     "text": [
      "+-----------------+-----------+----------+\n",
      "|         features|    species|labelIndex|\n",
      "+-----------------+-----------+----------+\n",
      "|[5.1,3.5,1.4,0.2]|Iris-setosa|       0.0|\n",
      "|[4.9,3.0,1.4,0.2]|Iris-setosa|       0.0|\n",
      "|[4.7,3.2,1.3,0.2]|Iris-setosa|       0.0|\n",
      "|[4.6,3.1,1.5,0.2]|Iris-setosa|       0.0|\n",
      "|[5.0,3.6,1.4,0.2]|Iris-setosa|       0.0|\n",
      "|[5.4,3.9,1.7,0.4]|Iris-setosa|       0.0|\n",
      "|[4.6,3.4,1.4,0.3]|Iris-setosa|       0.0|\n",
      "|[5.0,3.4,1.5,0.2]|Iris-setosa|       0.0|\n",
      "|[4.4,2.9,1.4,0.2]|Iris-setosa|       0.0|\n",
      "|[4.9,3.1,1.5,0.1]|Iris-setosa|       0.0|\n",
      "|[5.4,3.7,1.5,0.2]|Iris-setosa|       0.0|\n",
      "|[4.8,3.4,1.6,0.2]|Iris-setosa|       0.0|\n",
      "|[4.8,3.0,1.4,0.1]|Iris-setosa|       0.0|\n",
      "|[4.3,3.0,1.1,0.1]|Iris-setosa|       0.0|\n",
      "|[5.8,4.0,1.2,0.2]|Iris-setosa|       0.0|\n",
      "|[5.7,4.4,1.5,0.4]|Iris-setosa|       0.0|\n",
      "|[5.4,3.9,1.3,0.4]|Iris-setosa|       0.0|\n",
      "|[5.1,3.5,1.4,0.3]|Iris-setosa|       0.0|\n",
      "|[5.7,3.8,1.7,0.3]|Iris-setosa|       0.0|\n",
      "|[5.1,3.8,1.5,0.3]|Iris-setosa|       0.0|\n",
      "+-----------------+-----------+----------+\n",
      "only showing top 20 rows\n",
      "\n"
     ]
    }
   ],
   "source": [
    "label_stringIdx = StringIndexer(inputCol = 'species', outputCol = 'labelIndex')\n",
    "df = label_stringIdx.fit(output).transform(output)\n",
    "df.show()"
   ]
  },
  {
   "cell_type": "code",
   "execution_count": 10,
   "id": "1eb0fe56",
   "metadata": {},
   "outputs": [
    {
     "name": "stdout",
     "output_type": "stream",
     "text": [
      "+-----------------+---------------+----------+\n",
      "|         features|        species|labelIndex|\n",
      "+-----------------+---------------+----------+\n",
      "|[4.4,2.9,1.4,0.2]|    Iris-setosa|       0.0|\n",
      "|[4.4,3.0,1.3,0.2]|    Iris-setosa|       0.0|\n",
      "|[4.4,3.2,1.3,0.2]|    Iris-setosa|       0.0|\n",
      "|[4.5,2.3,1.3,0.3]|    Iris-setosa|       0.0|\n",
      "|[4.6,3.2,1.4,0.2]|    Iris-setosa|       0.0|\n",
      "|[4.6,3.6,1.0,0.2]|    Iris-setosa|       0.0|\n",
      "|[4.7,3.2,1.6,0.2]|    Iris-setosa|       0.0|\n",
      "|[4.8,3.0,1.4,0.3]|    Iris-setosa|       0.0|\n",
      "|[4.9,2.5,4.5,1.7]| Iris-virginica|       2.0|\n",
      "|[4.9,3.0,1.4,0.2]|    Iris-setosa|       0.0|\n",
      "|[4.9,3.1,1.5,0.1]|    Iris-setosa|       0.0|\n",
      "|[4.9,3.1,1.5,0.1]|    Iris-setosa|       0.0|\n",
      "|[5.0,2.0,3.5,1.0]|Iris-versicolor|       1.0|\n",
      "|[5.0,2.3,3.3,1.0]|Iris-versicolor|       1.0|\n",
      "|[5.0,3.2,1.2,0.2]|    Iris-setosa|       0.0|\n",
      "|[5.0,3.3,1.4,0.2]|    Iris-setosa|       0.0|\n",
      "|[5.0,3.4,1.6,0.4]|    Iris-setosa|       0.0|\n",
      "|[5.0,3.5,1.3,0.3]|    Iris-setosa|       0.0|\n",
      "|[5.0,3.5,1.6,0.6]|    Iris-setosa|       0.0|\n",
      "|[5.0,3.6,1.4,0.2]|    Iris-setosa|       0.0|\n",
      "+-----------------+---------------+----------+\n",
      "only showing top 20 rows\n",
      "\n",
      "+-----------------+---------------+----------+\n",
      "|         features|        species|labelIndex|\n",
      "+-----------------+---------------+----------+\n",
      "|[4.3,3.0,1.1,0.1]|    Iris-setosa|       0.0|\n",
      "|[4.6,3.1,1.5,0.2]|    Iris-setosa|       0.0|\n",
      "|[4.6,3.4,1.4,0.3]|    Iris-setosa|       0.0|\n",
      "|[4.7,3.2,1.3,0.2]|    Iris-setosa|       0.0|\n",
      "|[4.8,3.0,1.4,0.1]|    Iris-setosa|       0.0|\n",
      "|[4.8,3.1,1.6,0.2]|    Iris-setosa|       0.0|\n",
      "|[4.8,3.4,1.6,0.2]|    Iris-setosa|       0.0|\n",
      "|[4.8,3.4,1.9,0.2]|    Iris-setosa|       0.0|\n",
      "|[4.9,2.4,3.3,1.0]|Iris-versicolor|       1.0|\n",
      "|[4.9,3.1,1.5,0.1]|    Iris-setosa|       0.0|\n",
      "|[5.0,3.0,1.6,0.2]|    Iris-setosa|       0.0|\n",
      "|[5.0,3.4,1.5,0.2]|    Iris-setosa|       0.0|\n",
      "|[5.1,3.3,1.7,0.5]|    Iris-setosa|       0.0|\n",
      "|[5.1,3.4,1.5,0.2]|    Iris-setosa|       0.0|\n",
      "|[5.1,3.5,1.4,0.3]|    Iris-setosa|       0.0|\n",
      "|[5.1,3.7,1.5,0.4]|    Iris-setosa|       0.0|\n",
      "|[5.1,3.8,1.5,0.3]|    Iris-setosa|       0.0|\n",
      "|[5.1,3.8,1.6,0.2]|    Iris-setosa|       0.0|\n",
      "|[5.1,3.8,1.9,0.4]|    Iris-setosa|       0.0|\n",
      "|[5.2,2.7,3.9,1.4]|Iris-versicolor|       1.0|\n",
      "+-----------------+---------------+----------+\n",
      "only showing top 20 rows\n",
      "\n"
     ]
    }
   ],
   "source": [
    "train,test = df.randomSplit([0.7, 0.3])\n",
    "train.show()\n",
    "test.show()"
   ]
  },
  {
   "cell_type": "code",
   "execution_count": 11,
   "id": "afb89886",
   "metadata": {},
   "outputs": [
    {
     "name": "stdout",
     "output_type": "stream",
     "text": [
      "+-----------------+----------+--------------+----------+--------------------+\n",
      "|         features|labelIndex| rawPrediction|prediction|         probability|\n",
      "+-----------------+----------+--------------+----------+--------------------+\n",
      "|[4.3,3.0,1.1,0.1]|       0.0|[27.0,0.0,0.0]|       0.0|       [1.0,0.0,0.0]|\n",
      "|[4.6,3.1,1.5,0.2]|       0.0|[27.0,0.0,0.0]|       0.0|       [1.0,0.0,0.0]|\n",
      "|[4.6,3.4,1.4,0.3]|       0.0|[27.0,0.0,0.0]|       0.0|       [1.0,0.0,0.0]|\n",
      "|[4.7,3.2,1.3,0.2]|       0.0|[27.0,0.0,0.0]|       0.0|       [1.0,0.0,0.0]|\n",
      "|[4.8,3.0,1.4,0.1]|       0.0|[27.0,0.0,0.0]|       0.0|       [1.0,0.0,0.0]|\n",
      "|[4.8,3.1,1.6,0.2]|       0.0|[27.0,0.0,0.0]|       0.0|       [1.0,0.0,0.0]|\n",
      "|[4.8,3.4,1.6,0.2]|       0.0|[27.0,0.0,0.0]|       0.0|       [1.0,0.0,0.0]|\n",
      "|[4.8,3.4,1.9,0.2]|       0.0|[27.0,0.0,0.0]|       0.0|       [1.0,0.0,0.0]|\n",
      "|[4.9,2.4,3.3,1.0]|       1.0| [0.0,0.0,1.0]|       2.0|       [0.0,0.0,1.0]|\n",
      "|[4.9,3.1,1.5,0.1]|       0.0|[27.0,0.0,0.0]|       0.0|       [1.0,0.0,0.0]|\n",
      "|[5.0,3.0,1.6,0.2]|       0.0|[27.0,0.0,0.0]|       0.0|       [1.0,0.0,0.0]|\n",
      "|[5.0,3.4,1.5,0.2]|       0.0|[27.0,0.0,0.0]|       0.0|       [1.0,0.0,0.0]|\n",
      "|[5.1,3.3,1.7,0.5]|       0.0|[27.0,0.0,0.0]|       0.0|       [1.0,0.0,0.0]|\n",
      "|[5.1,3.4,1.5,0.2]|       0.0|[27.0,0.0,0.0]|       0.0|       [1.0,0.0,0.0]|\n",
      "|[5.1,3.5,1.4,0.3]|       0.0|[27.0,0.0,0.0]|       0.0|       [1.0,0.0,0.0]|\n",
      "|[5.1,3.7,1.5,0.4]|       0.0|[27.0,0.0,0.0]|       0.0|       [1.0,0.0,0.0]|\n",
      "|[5.1,3.8,1.5,0.3]|       0.0|[27.0,0.0,0.0]|       0.0|       [1.0,0.0,0.0]|\n",
      "|[5.1,3.8,1.6,0.2]|       0.0|[27.0,0.0,0.0]|       0.0|       [1.0,0.0,0.0]|\n",
      "|[5.1,3.8,1.9,0.4]|       0.0|[27.0,0.0,0.0]|       0.0|       [1.0,0.0,0.0]|\n",
      "|[5.2,2.7,3.9,1.4]|       1.0|[0.0,32.0,1.0]|       1.0|[0.0,0.9696969696...|\n",
      "|[5.2,3.4,1.4,0.2]|       0.0|[27.0,0.0,0.0]|       0.0|       [1.0,0.0,0.0]|\n",
      "|[5.2,3.5,1.5,0.2]|       0.0|[27.0,0.0,0.0]|       0.0|       [1.0,0.0,0.0]|\n",
      "|[5.4,3.9,1.7,0.4]|       0.0|[27.0,0.0,0.0]|       0.0|       [1.0,0.0,0.0]|\n",
      "|[5.5,2.3,4.0,1.3]|       1.0|[0.0,32.0,1.0]|       1.0|[0.0,0.9696969696...|\n",
      "|[5.5,2.6,4.4,1.2]|       1.0|[0.0,32.0,1.0]|       1.0|[0.0,0.9696969696...|\n",
      "|[5.5,3.5,1.3,0.2]|       0.0|[27.0,0.0,0.0]|       0.0|       [1.0,0.0,0.0]|\n",
      "|[5.5,4.2,1.4,0.2]|       0.0|[27.0,0.0,0.0]|       0.0|       [1.0,0.0,0.0]|\n",
      "|[5.6,2.9,3.6,1.3]|       1.0|[0.0,32.0,1.0]|       1.0|[0.0,0.9696969696...|\n",
      "|[5.6,3.0,4.5,1.5]|       1.0|[0.0,32.0,1.0]|       1.0|[0.0,0.9696969696...|\n",
      "|[5.7,2.8,4.1,1.3]|       1.0|[0.0,32.0,1.0]|       1.0|[0.0,0.9696969696...|\n",
      "|[5.7,2.8,4.5,1.3]|       1.0|[0.0,32.0,1.0]|       1.0|[0.0,0.9696969696...|\n",
      "|[5.7,2.9,4.2,1.3]|       1.0|[0.0,32.0,1.0]|       1.0|[0.0,0.9696969696...|\n",
      "|[5.7,3.0,4.2,1.2]|       1.0|[0.0,32.0,1.0]|       1.0|[0.0,0.9696969696...|\n",
      "|[5.9,3.2,4.8,1.8]|       1.0|[0.0,0.0,36.0]|       2.0|       [0.0,0.0,1.0]|\n",
      "|[6.0,2.2,4.0,1.0]|       1.0|[0.0,32.0,1.0]|       1.0|[0.0,0.9696969696...|\n",
      "|[6.1,2.8,4.7,1.2]|       1.0|[0.0,32.0,1.0]|       1.0|[0.0,0.9696969696...|\n",
      "|[6.1,2.9,4.7,1.4]|       1.0|[0.0,32.0,1.0]|       1.0|[0.0,0.9696969696...|\n",
      "|[6.1,3.0,4.6,1.4]|       1.0|[0.0,32.0,1.0]|       1.0|[0.0,0.9696969696...|\n",
      "|[6.1,3.0,4.9,1.8]|       2.0|[0.0,0.0,36.0]|       2.0|       [0.0,0.0,1.0]|\n",
      "|[6.2,3.4,5.4,2.3]|       2.0|[0.0,0.0,36.0]|       2.0|       [0.0,0.0,1.0]|\n",
      "|[6.3,2.8,5.1,1.5]|       2.0|[0.0,32.0,1.0]|       1.0|[0.0,0.9696969696...|\n",
      "|[6.3,2.9,5.6,1.8]|       2.0|[0.0,0.0,36.0]|       2.0|       [0.0,0.0,1.0]|\n",
      "|[6.3,3.3,6.0,2.5]|       2.0|[0.0,0.0,36.0]|       2.0|       [0.0,0.0,1.0]|\n",
      "|[6.4,2.9,4.3,1.3]|       1.0|[0.0,32.0,1.0]|       1.0|[0.0,0.9696969696...|\n",
      "|[6.4,3.1,5.5,1.8]|       2.0|[0.0,0.0,36.0]|       2.0|       [0.0,0.0,1.0]|\n",
      "|[6.5,2.8,4.6,1.5]|       1.0|[0.0,32.0,1.0]|       1.0|[0.0,0.9696969696...|\n",
      "|[6.6,3.0,4.4,1.4]|       1.0|[0.0,32.0,1.0]|       1.0|[0.0,0.9696969696...|\n",
      "|[6.8,3.0,5.5,2.1]|       2.0|[0.0,0.0,36.0]|       2.0|       [0.0,0.0,1.0]|\n",
      "|[6.8,3.2,5.9,2.3]|       2.0|[0.0,0.0,36.0]|       2.0|       [0.0,0.0,1.0]|\n",
      "|[7.2,3.2,6.0,1.8]|       2.0|[0.0,0.0,36.0]|       2.0|       [0.0,0.0,1.0]|\n",
      "|[7.7,3.8,6.7,2.2]|       2.0|[0.0,0.0,36.0]|       2.0|       [0.0,0.0,1.0]|\n",
      "+-----------------+----------+--------------+----------+--------------------+\n",
      "\n"
     ]
    }
   ],
   "source": [
    "from pyspark.ml.classification import DecisionTreeClassifier\n",
    "\n",
    "\n",
    "rf = DecisionTreeClassifier(featuresCol = 'features', labelCol = 'labelIndex')\n",
    "rfModel = rf.fit(train)\n",
    "predictions = rfModel.transform(test)\n",
    "predictions.select('features','labelIndex', 'rawPrediction', 'prediction', 'probability').show(500)"
   ]
  },
  {
   "cell_type": "code",
   "execution_count": 15,
   "id": "57e6919a",
   "metadata": {},
   "outputs": [
    {
     "name": "stdout",
     "output_type": "stream",
     "text": [
      "Accuracy = 0.9417366946778711\n",
      "Test Error = 0.05826330532212887\n"
     ]
    }
   ],
   "source": [
    "from pyspark.ml.evaluation import MulticlassClassificationEvaluator\n",
    "\n",
    "evaluator = MulticlassClassificationEvaluator(labelCol=\"labelIndex\", predictionCol=\"prediction\")\n",
    "accuracy = evaluator.evaluate(predictions)\n",
    "print(\"Accuracy = %s\" % (accuracy))\n",
    "print(\"Test Error = %s\" % (1.0 - accuracy))"
   ]
  },
  {
   "cell_type": "code",
   "execution_count": 16,
   "id": "e9ac775d",
   "metadata": {},
   "outputs": [
    {
     "name": "stdout",
     "output_type": "stream",
     "text": [
      "+-----------------+---------------+----------+--------------+-------------+----------+\n",
      "|         features|        species|labelIndex| rawPrediction|  probability|prediction|\n",
      "+-----------------+---------------+----------+--------------+-------------+----------+\n",
      "|[4.3,3.0,1.1,0.1]|    Iris-setosa|       0.0|[27.0,0.0,0.0]|[1.0,0.0,0.0]|       0.0|\n",
      "|[4.6,3.1,1.5,0.2]|    Iris-setosa|       0.0|[27.0,0.0,0.0]|[1.0,0.0,0.0]|       0.0|\n",
      "|[4.6,3.4,1.4,0.3]|    Iris-setosa|       0.0|[27.0,0.0,0.0]|[1.0,0.0,0.0]|       0.0|\n",
      "|[4.7,3.2,1.3,0.2]|    Iris-setosa|       0.0|[27.0,0.0,0.0]|[1.0,0.0,0.0]|       0.0|\n",
      "|[4.8,3.0,1.4,0.1]|    Iris-setosa|       0.0|[27.0,0.0,0.0]|[1.0,0.0,0.0]|       0.0|\n",
      "|[4.8,3.1,1.6,0.2]|    Iris-setosa|       0.0|[27.0,0.0,0.0]|[1.0,0.0,0.0]|       0.0|\n",
      "|[4.8,3.4,1.6,0.2]|    Iris-setosa|       0.0|[27.0,0.0,0.0]|[1.0,0.0,0.0]|       0.0|\n",
      "|[4.8,3.4,1.9,0.2]|    Iris-setosa|       0.0|[27.0,0.0,0.0]|[1.0,0.0,0.0]|       0.0|\n",
      "|[4.9,2.4,3.3,1.0]|Iris-versicolor|       1.0| [0.0,0.0,1.0]|[0.0,0.0,1.0]|       2.0|\n",
      "|[4.9,3.1,1.5,0.1]|    Iris-setosa|       0.0|[27.0,0.0,0.0]|[1.0,0.0,0.0]|       0.0|\n",
      "+-----------------+---------------+----------+--------------+-------------+----------+\n",
      "only showing top 10 rows\n",
      "\n",
      "+-----------------+---------------+-----+--------------+-------------+----------+\n",
      "|         features|        species|label| rawPrediction|  probability|prediction|\n",
      "+-----------------+---------------+-----+--------------+-------------+----------+\n",
      "|[4.3,3.0,1.1,0.1]|    Iris-setosa|  0.0|[27.0,0.0,0.0]|[1.0,0.0,0.0]|       0.0|\n",
      "|[4.6,3.1,1.5,0.2]|    Iris-setosa|  0.0|[27.0,0.0,0.0]|[1.0,0.0,0.0]|       0.0|\n",
      "|[4.6,3.4,1.4,0.3]|    Iris-setosa|  0.0|[27.0,0.0,0.0]|[1.0,0.0,0.0]|       0.0|\n",
      "|[4.7,3.2,1.3,0.2]|    Iris-setosa|  0.0|[27.0,0.0,0.0]|[1.0,0.0,0.0]|       0.0|\n",
      "|[4.8,3.0,1.4,0.1]|    Iris-setosa|  0.0|[27.0,0.0,0.0]|[1.0,0.0,0.0]|       0.0|\n",
      "|[4.8,3.1,1.6,0.2]|    Iris-setosa|  0.0|[27.0,0.0,0.0]|[1.0,0.0,0.0]|       0.0|\n",
      "|[4.8,3.4,1.6,0.2]|    Iris-setosa|  0.0|[27.0,0.0,0.0]|[1.0,0.0,0.0]|       0.0|\n",
      "|[4.8,3.4,1.9,0.2]|    Iris-setosa|  0.0|[27.0,0.0,0.0]|[1.0,0.0,0.0]|       0.0|\n",
      "|[4.9,2.4,3.3,1.0]|Iris-versicolor|  1.0| [0.0,0.0,1.0]|[0.0,0.0,1.0]|       2.0|\n",
      "|[4.9,3.1,1.5,0.1]|    Iris-setosa|  0.0|[27.0,0.0,0.0]|[1.0,0.0,0.0]|       0.0|\n",
      "+-----------------+---------------+-----+--------------+-------------+----------+\n",
      "only showing top 10 rows\n",
      "\n"
     ]
    }
   ],
   "source": [
    "predictions = rfModel.transform(test)\n",
    "predictions.show(10)\n",
    "predictions = predictions.withColumnRenamed(\"labelIndex\",\"label\")\n",
    "predictions.show(10)"
   ]
  },
  {
   "cell_type": "code",
   "execution_count": 17,
   "id": "fd88b808",
   "metadata": {},
   "outputs": [
    {
     "name": "stdout",
     "output_type": "stream",
     "text": [
      "[[23.  0.  0.]\n",
      " [ 0. 16.  2.]\n",
      " [ 0.  1.  9.]]\n"
     ]
    }
   ],
   "source": [
    "from pyspark.mllib.evaluation import MulticlassMetrics\n",
    "from pyspark.sql.types import FloatType\n",
    "import pyspark.sql.functions as F\n",
    "\n",
    "preds_and_labels = predictions.select(['prediction','label']).withColumn('label', F.col('label').cast(FloatType())).orderBy('prediction')\n",
    "preds_and_labels = preds_and_labels.select(['prediction','label'])\n",
    "metrics = MulticlassMetrics(preds_and_labels.rdd.map(tuple))\n",
    "print(metrics.confusionMatrix().toArray())"
   ]
  },
  {
   "cell_type": "code",
   "execution_count": 18,
   "id": "16b87999",
   "metadata": {},
   "outputs": [
    {
     "name": "stdout",
     "output_type": "stream",
     "text": [
      "Precision 0.9435881304393414\n",
      "Accuracy 0.9411764705882353\n",
      "F1-Score 0.9417366946778711\n",
      "Recall 0.9411764705882353\n"
     ]
    }
   ],
   "source": [
    "from pyspark.ml.evaluation import BinaryClassificationEvaluator, MulticlassClassificationEvaluator\n",
    "from pyspark.mllib.evaluation import MulticlassMetrics\n",
    "evaluator = BinaryClassificationEvaluator()\n",
    "evaluatorMulti = MulticlassClassificationEvaluator(labelCol=\"label\", predictionCol=\"prediction\")\n",
    "#print('Area Under ROC', evaluator.evaluate(predictions))\n",
    "\n",
    "\n",
    "# Get metrics\n",
    "acc = evaluatorMulti.evaluate(predictions, {evaluatorMulti.metricName: \"accuracy\"})\n",
    "f1 = evaluatorMulti.evaluate(predictions, {evaluatorMulti.metricName: \"f1\"})\n",
    "weightedPrecision = evaluatorMulti.evaluate(predictions, {evaluatorMulti.metricName: \"weightedPrecision\"})\n",
    "weightedRecall = evaluatorMulti.evaluate(predictions, {evaluatorMulti.metricName: \"weightedRecall\"})\n",
    "#auc = evaluator.evaluate(predictionAndTarget)\n",
    "\n",
    "print('Precision', weightedPrecision)\n",
    "print('Accuracy', acc)\n",
    "print('F1-Score', f1)\n",
    "print('Recall', weightedRecall)"
   ]
  },
  {
   "cell_type": "code",
   "execution_count": 19,
   "id": "70b4cbea",
   "metadata": {},
   "outputs": [],
   "source": [
    "spark.stop()"
   ]
  },
  {
   "cell_type": "code",
   "execution_count": null,
   "id": "b2be39e7",
   "metadata": {},
   "outputs": [],
   "source": []
  }
 ],
 "metadata": {
  "kernelspec": {
   "display_name": "Python 3 (ipykernel)",
   "language": "python",
   "name": "python3"
  },
  "language_info": {
   "codemirror_mode": {
    "name": "ipython",
    "version": 3
   },
   "file_extension": ".py",
   "mimetype": "text/x-python",
   "name": "python",
   "nbconvert_exporter": "python",
   "pygments_lexer": "ipython3",
   "version": "3.8.10"
  }
 },
 "nbformat": 4,
 "nbformat_minor": 5
}
