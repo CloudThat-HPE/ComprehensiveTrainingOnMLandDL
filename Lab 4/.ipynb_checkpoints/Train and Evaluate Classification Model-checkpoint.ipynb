{
 "cells": [
  {
   "cell_type": "markdown",
   "id": "3ffaad43",
   "metadata": {},
   "source": [
    "# Lab -4 Classification using Logistic Regression\n",
    "\n",
    "We are using the logistic regression algorithm to predict a person is diabetic or not based on the health data"
   ]
  },
  {
   "cell_type": "markdown",
   "id": "78e7dbe8",
   "metadata": {},
   "source": [
    "To add PySpark to sys.path for running the code on the Jupyter IDE we are Using the package findspark"
   ]
  },
  {
   "cell_type": "code",
   "execution_count": 1,
   "id": "a16d3cae",
   "metadata": {},
   "outputs": [],
   "source": [
    "import findspark\n",
    "findspark.find()\n",
    "findspark.init()"
   ]
  },
  {
   "cell_type": "markdown",
   "id": "3d365582",
   "metadata": {},
   "source": [
    "To perform any task on spark you need start a spark session, here we are starting a session for our logistic regression"
   ]
  },
  {
   "cell_type": "code",
   "execution_count": 2,
   "id": "075121a1",
   "metadata": {},
   "outputs": [
    {
     "name": "stderr",
     "output_type": "stream",
     "text": [
      "Using Spark's default log4j profile: org/apache/spark/log4j-defaults.properties\n",
      "Setting default log level to \"WARN\".\n",
      "To adjust logging level use sc.setLogLevel(newLevel). For SparkR, use setLogLevel(newLevel).\n",
      "22/08/21 10:01:20 WARN NativeCodeLoader: Unable to load native-hadoop library for your platform... using builtin-java classes where applicable\n"
     ]
    }
   ],
   "source": [
    "import pyspark\n",
    "from pyspark.sql import SparkSession\n",
    "\n",
    "spark = SparkSession.builder.appName(\"Logistic App\").getOrCreate()"
   ]
  },
  {
   "cell_type": "markdown",
   "id": "d625be6e",
   "metadata": {},
   "source": [
    "To start, we are loading the diabetes dataset "
   ]
  },
  {
   "cell_type": "code",
   "execution_count": 3,
   "id": "7811bb41",
   "metadata": {},
   "outputs": [
    {
     "name": "stderr",
     "output_type": "stream",
     "text": [
      "\r",
      "[Stage 0:>                                                          (0 + 1) / 1]\r",
      "\r",
      "                                                                                \r"
     ]
    },
    {
     "name": "stdout",
     "output_type": "stream",
     "text": [
      "root\n",
      " |-- PatientID: string (nullable = true)\n",
      " |-- Pregnancies: string (nullable = true)\n",
      " |-- PlasmaGlucose: string (nullable = true)\n",
      " |-- DiastolicBloodPressure: string (nullable = true)\n",
      " |-- TricepsThickness: string (nullable = true)\n",
      " |-- SerumInsulin: string (nullable = true)\n",
      " |-- BMI: string (nullable = true)\n",
      " |-- DiabetesPedigree: string (nullable = true)\n",
      " |-- Age: string (nullable = true)\n",
      " |-- Diabetic: string (nullable = true)\n",
      "\n",
      "+---------+-----------+-------------+----------------------+----------------+------------+-----------+----------------+---+--------+\n",
      "|PatientID|Pregnancies|PlasmaGlucose|DiastolicBloodPressure|TricepsThickness|SerumInsulin|        BMI|DiabetesPedigree|Age|Diabetic|\n",
      "+---------+-----------+-------------+----------------------+----------------+------------+-----------+----------------+---+--------+\n",
      "|  1354778|          0|          171|                    80|              34|          23|43.50972593|     1.213191354| 21|       0|\n",
      "|  1147438|          8|           92|                    93|              47|          36|21.24057571|     0.158364981| 23|       0|\n",
      "|  1640031|          7|          115|                    47|              52|          35|41.51152348|     0.079018568| 23|       0|\n",
      "|  1883350|          9|          103|                    78|              25|         304|29.58219193|     1.282869847| 43|       1|\n",
      "|  1424119|          1|           85|                    59|              27|          35|42.60453585|     0.549541871| 22|       0|\n",
      "|  1619297|          0|           82|                    92|               9|         253|19.72416021|     0.103424498| 26|       0|\n",
      "|  1660149|          0|          133|                    47|              19|         227|21.94135672|     0.174159779| 21|       0|\n",
      "|  1458769|          0|           67|                    87|              43|          36| 18.2777226|      0.23616494| 26|       0|\n",
      "|  1201647|          8|           80|                    95|              33|          24|26.62492885|     0.443947388| 53|       1|\n",
      "|  1403912|          1|           72|                    31|              40|          42|36.88957571|     0.103943637| 26|       0|\n",
      "|  1943830|          1|           88|                    86|              11|          58|43.22504089|     0.230284623| 22|       0|\n",
      "|  1824483|          3|           94|                    96|              31|          36|21.29447943|     0.259020482| 23|       0|\n",
      "|  1848869|          5|          114|                   101|              43|          70|36.49531966|     0.079190164| 38|       1|\n",
      "|  1669231|          7|          110|                    82|              16|          44|36.08929341|     0.281276159| 25|       0|\n",
      "|  1683688|          0|          148|                    58|              11|         179|39.19207553|     0.160829008| 45|       0|\n",
      "|  1738587|          3|          109|                    77|              46|          61|19.84731197|     0.204345272| 21|       1|\n",
      "|  1884264|          3|          106|                    64|              25|          51| 29.0445728|     0.589188017| 42|       1|\n",
      "|  1485251|          1|          156|                    53|              15|         226|29.78619164|     0.203823525| 41|       1|\n",
      "|  1536832|          8|          117|                    39|              32|         164|21.23099598|     0.089362745| 25|       0|\n",
      "|  1438701|          3|          102|                   100|              25|         289|42.18572029|     0.175592826| 43|       1|\n",
      "+---------+-----------+-------------+----------------------+----------------+------------+-----------+----------------+---+--------+\n",
      "only showing top 20 rows\n",
      "\n"
     ]
    }
   ],
   "source": [
    "diabetes = spark.read.csv('diabetes.csv',header= True)\n",
    "diabetes.printSchema()\n",
    "diabetes.show()"
   ]
  },
  {
   "cell_type": "markdown",
   "id": "8de2ff7f",
   "metadata": {},
   "source": [
    "# Dropping unwanted columns\n",
    "\n",
    "We need to drop unwanted columns from the dataset. By looking into the dataset we can see columns 'PatientID' have no relevance in predicting the diabetes. To have this insight in a complex problem. we have to formulate the hypothesis and evaluation of the hypothesis should be done."
   ]
  },
  {
   "cell_type": "code",
   "execution_count": 4,
   "id": "efa7c0d7",
   "metadata": {},
   "outputs": [
    {
     "name": "stdout",
     "output_type": "stream",
     "text": [
      "root\n",
      " |-- Pregnancies: string (nullable = true)\n",
      " |-- PlasmaGlucose: string (nullable = true)\n",
      " |-- DiastolicBloodPressure: string (nullable = true)\n",
      " |-- TricepsThickness: string (nullable = true)\n",
      " |-- SerumInsulin: string (nullable = true)\n",
      " |-- BMI: string (nullable = true)\n",
      " |-- DiabetesPedigree: string (nullable = true)\n",
      " |-- Age: string (nullable = true)\n",
      " |-- Diabetic: string (nullable = true)\n",
      "\n"
     ]
    }
   ],
   "source": [
    "colm = 'PatientID'\n",
    "db_df = diabetes.select([column for column in diabetes.columns if column not in colm])\n",
    "db_df.printSchema()"
   ]
  },
  {
   "cell_type": "markdown",
   "id": "985b6624",
   "metadata": {},
   "source": [
    "# Changing the column datatype\n",
    "\n",
    "We need to change column datatype to float from the initial string datatype"
   ]
  },
  {
   "cell_type": "code",
   "execution_count": 5,
   "id": "464136ae",
   "metadata": {},
   "outputs": [
    {
     "name": "stdout",
     "output_type": "stream",
     "text": [
      "root\n",
      " |-- Pregnancies: float (nullable = true)\n",
      " |-- PlasmaGlucose: float (nullable = true)\n",
      " |-- DiastolicBloodPressure: float (nullable = true)\n",
      " |-- TricepsThickness: float (nullable = true)\n",
      " |-- SerumInsulin: float (nullable = true)\n",
      " |-- BMI: float (nullable = true)\n",
      " |-- DiabetesPedigree: float (nullable = true)\n",
      " |-- Age: float (nullable = true)\n",
      " |-- Diabetic: float (nullable = true)\n",
      "\n"
     ]
    }
   ],
   "source": [
    "from pyspark.sql.functions import col\n",
    "db_df = db_df.select(*(col(c).cast('float').alias(c) for c in db_df.columns))\n",
    "db_df.printSchema()"
   ]
  },
  {
   "cell_type": "markdown",
   "id": "b2eb2e20",
   "metadata": {},
   "source": [
    "# Taking the count of the null and missing values"
   ]
  },
  {
   "cell_type": "code",
   "execution_count": 6,
   "id": "9c9f8616",
   "metadata": {},
   "outputs": [
    {
     "name": "stdout",
     "output_type": "stream",
     "text": [
      "+-----------+-------------+----------------------+----------------+------------+---+----------------+---+--------+\n",
      "|Pregnancies|PlasmaGlucose|DiastolicBloodPressure|TricepsThickness|SerumInsulin|BMI|DiabetesPedigree|Age|Diabetic|\n",
      "+-----------+-------------+----------------------+----------------+------------+---+----------------+---+--------+\n",
      "|          0|            0|                     0|               0|           0|  0|               0|  0|       0|\n",
      "+-----------+-------------+----------------------+----------------+------------+---+----------------+---+--------+\n",
      "\n"
     ]
    }
   ],
   "source": [
    "from pyspark.sql.functions import col, count, isnan, when\n",
    "db_df.select([count(when(col(c).isNull(), c)).alias(c) for c in db_df.columns]).show()"
   ]
  },
  {
   "cell_type": "markdown",
   "id": "ae455ad3",
   "metadata": {},
   "source": [
    "# List of columns to vector form\n",
    "\n",
    "We are using VectorAssembler to convert the list columns in our dataset to vector form in which all the features are grouped to vector form"
   ]
  },
  {
   "cell_type": "code",
   "execution_count": 7,
   "id": "feda35b9",
   "metadata": {},
   "outputs": [],
   "source": [
    "features = db_df.drop('Diabetic')\n",
    "from pyspark.ml.feature import VectorAssembler\n",
    "#let's assemble our features together using vectorAssembler\n",
    "assembler = VectorAssembler(\n",
    "    inputCols=features.columns,\n",
    "    outputCol=\"features\")\n",
    "output = assembler.transform(db_df).select('features','Diabetic')"
   ]
  },
  {
   "cell_type": "markdown",
   "id": "e89b642e",
   "metadata": {},
   "source": [
    "# Splitting the data into training and testing datasets\n",
    "\n",
    "The dataset in vector form is now splitting into train and test datset fractions\n"
   ]
  },
  {
   "cell_type": "code",
   "execution_count": 8,
   "id": "d4f51c2c",
   "metadata": {},
   "outputs": [
    {
     "name": "stderr",
     "output_type": "stream",
     "text": [
      "                                                                                \r"
     ]
    },
    {
     "name": "stdout",
     "output_type": "stream",
     "text": [
      "+--------------------+--------+\n",
      "|            features|Diabetic|\n",
      "+--------------------+--------+\n",
      "|[0.0,44.0,44.0,26...|     0.0|\n",
      "|[0.0,44.0,79.0,27...|     0.0|\n",
      "|[0.0,44.0,100.0,4...|     0.0|\n",
      "|[0.0,45.0,54.0,44...|     0.0|\n",
      "|[0.0,45.0,57.0,51...|     0.0|\n",
      "|[0.0,45.0,60.0,31...|     0.0|\n",
      "|[0.0,45.0,63.0,8....|     0.0|\n",
      "|[0.0,45.0,65.0,46...|     0.0|\n",
      "|[0.0,45.0,87.0,7....|     0.0|\n",
      "|[0.0,45.0,90.0,40...|     0.0|\n",
      "|[0.0,45.0,90.0,41...|     0.0|\n",
      "|[0.0,45.0,91.0,10...|     0.0|\n",
      "|[0.0,46.0,42.0,8....|     0.0|\n",
      "|[0.0,46.0,55.0,21...|     0.0|\n",
      "|[0.0,46.0,55.0,33...|     0.0|\n",
      "|[0.0,46.0,89.0,7....|     0.0|\n",
      "|[0.0,47.0,51.0,44...|     0.0|\n",
      "|[0.0,47.0,53.0,40...|     0.0|\n",
      "|[0.0,47.0,53.0,45...|     0.0|\n",
      "|[0.0,47.0,77.0,35...|     1.0|\n",
      "+--------------------+--------+\n",
      "only showing top 20 rows\n",
      "\n",
      "+--------------------+--------+\n",
      "|            features|Diabetic|\n",
      "+--------------------+--------+\n",
      "|[0.0,45.0,51.0,10...|     0.0|\n",
      "|[0.0,45.0,90.0,25...|     0.0|\n",
      "|[0.0,46.0,45.0,27...|     0.0|\n",
      "|[0.0,46.0,61.0,46...|     0.0|\n",
      "|[0.0,46.0,66.0,44...|     0.0|\n",
      "|[0.0,48.0,78.0,32...|     0.0|\n",
      "|[0.0,48.0,85.0,40...|     0.0|\n",
      "|[0.0,49.0,52.0,9....|     0.0|\n",
      "|[0.0,49.0,60.0,15...|     0.0|\n",
      "|[0.0,50.0,59.0,20...|     0.0|\n",
      "|[0.0,51.0,40.0,24...|     0.0|\n",
      "|[0.0,51.0,41.0,22...|     0.0|\n",
      "|[0.0,51.0,53.0,36...|     0.0|\n",
      "|[0.0,51.0,60.0,40...|     0.0|\n",
      "|[0.0,51.0,85.0,17...|     0.0|\n",
      "|[0.0,51.0,88.0,41...|     0.0|\n",
      "|[0.0,52.0,45.0,10...|     0.0|\n",
      "|[0.0,52.0,46.0,8....|     0.0|\n",
      "|[0.0,52.0,54.0,41...|     0.0|\n",
      "|[0.0,52.0,55.0,8....|     0.0|\n",
      "+--------------------+--------+\n",
      "only showing top 20 rows\n",
      "\n"
     ]
    }
   ],
   "source": [
    "train,test = output.randomSplit([0.75, 0.25])\n",
    "train.show()\n",
    "test.show()"
   ]
  },
  {
   "cell_type": "markdown",
   "id": "6ca07330",
   "metadata": {},
   "source": [
    "# Train the Logistic Regression Model\n",
    "\n",
    "We are using Logistic Regression model for classsification problem. In the following step we training the logistic regression model with labels and features. This kind of training where both labels and features are used are known as supervised learning"
   ]
  },
  {
   "cell_type": "code",
   "execution_count": 9,
   "id": "9f35d44d",
   "metadata": {},
   "outputs": [
    {
     "name": "stderr",
     "output_type": "stream",
     "text": [
      "22/08/21 10:01:35 WARN InstanceBuilder$NativeBLAS: Failed to load implementation from:dev.ludovic.netlib.blas.JNIBLAS\n",
      "22/08/21 10:01:35 WARN InstanceBuilder$NativeBLAS: Failed to load implementation from:dev.ludovic.netlib.blas.ForeignLinkerBLAS\n"
     ]
    }
   ],
   "source": [
    "from pyspark.ml.classification import LogisticRegression\n",
    "lr = LogisticRegression(featuresCol = 'features', labelCol = 'Diabetic', maxIter=10)\n",
    "lrModel = lr.fit(train)"
   ]
  },
  {
   "cell_type": "markdown",
   "id": "c557c228",
   "metadata": {},
   "source": [
    "# Coefficients of the Model"
   ]
  },
  {
   "cell_type": "code",
   "execution_count": 10,
   "id": "3388f141",
   "metadata": {},
   "outputs": [
    {
     "data": {
      "image/png": "[encoded data removed]",
      "text/plain": [
       "<Figure size 640x480 with 1 Axes>"
      ]
     },
     "metadata": {},
     "output_type": "display_data"
    }
   ],
   "source": [
    "import matplotlib.pyplot as plt\n",
    "import numpy as np\n",
    "coeff = np.sort(lrModel.coefficients)\n",
    "plt.plot(coeff)\n",
    "plt.ylabel('Coefficients')\n",
    "plt.xlabel('Iterations')\n",
    "plt.show()"
   ]
  },
  {
   "cell_type": "markdown",
   "id": "c7a3b411",
   "metadata": {},
   "source": [
    "# Predictions and labels\n",
    "\n",
    "To compare the predictions with actual labels we use model.transform"
   ]
  },
  {
   "cell_type": "code",
   "execution_count": 11,
   "id": "4514a3a1",
   "metadata": {},
   "outputs": [
    {
     "name": "stdout",
     "output_type": "stream",
     "text": [
      "+--------------------+--------+--------------------+--------------------+----------+\n",
      "|            features|Diabetic|       rawPrediction|         probability|prediction|\n",
      "+--------------------+--------+--------------------+--------------------+----------+\n",
      "|[0.0,45.0,51.0,10...|     0.0|[3.23109873843570...|[0.96198795104429...|       0.0|\n",
      "|[0.0,45.0,90.0,25...|     0.0|[4.12323495521237...|[0.98406595575376...|       0.0|\n",
      "|[0.0,46.0,45.0,27...|     0.0|[4.42937663079564...|[0.98821853851671...|       0.0|\n",
      "|[0.0,46.0,61.0,46...|     0.0|[0.28476802338295...|[0.57071477869040...|       0.0|\n",
      "|[0.0,46.0,66.0,44...|     0.0|[2.11436725115664...|[0.89229177700251...|       0.0|\n",
      "|[0.0,48.0,78.0,32...|     0.0|[3.51414059343682...|[0.97108744506752...|       0.0|\n",
      "|[0.0,48.0,85.0,40...|     0.0|[2.39577136513142...|[0.91650428007504...|       0.0|\n",
      "|[0.0,49.0,52.0,9....|     0.0|[1.43412871204697...|[0.80754380191255...|       0.0|\n",
      "|[0.0,49.0,60.0,15...|     0.0|[4.66048944338722...|[0.99062685685129...|       0.0|\n",
      "|[0.0,50.0,59.0,20...|     0.0|[3.97908773113568...|[0.98164067537772...|       0.0|\n",
      "+--------------------+--------+--------------------+--------------------+----------+\n",
      "only showing top 10 rows\n",
      "\n",
      "+--------------------+-----+--------------------+--------------------+----------+\n",
      "|            features|label|       rawPrediction|         probability|prediction|\n",
      "+--------------------+-----+--------------------+--------------------+----------+\n",
      "|[0.0,45.0,51.0,10...|  0.0|[3.23109873843570...|[0.96198795104429...|       0.0|\n",
      "|[0.0,45.0,90.0,25...|  0.0|[4.12323495521237...|[0.98406595575376...|       0.0|\n",
      "|[0.0,46.0,45.0,27...|  0.0|[4.42937663079564...|[0.98821853851671...|       0.0|\n",
      "|[0.0,46.0,61.0,46...|  0.0|[0.28476802338295...|[0.57071477869040...|       0.0|\n",
      "|[0.0,46.0,66.0,44...|  0.0|[2.11436725115664...|[0.89229177700251...|       0.0|\n",
      "|[0.0,48.0,78.0,32...|  0.0|[3.51414059343682...|[0.97108744506752...|       0.0|\n",
      "|[0.0,48.0,85.0,40...|  0.0|[2.39577136513142...|[0.91650428007504...|       0.0|\n",
      "|[0.0,49.0,52.0,9....|  0.0|[1.43412871204697...|[0.80754380191255...|       0.0|\n",
      "|[0.0,49.0,60.0,15...|  0.0|[4.66048944338722...|[0.99062685685129...|       0.0|\n",
      "|[0.0,50.0,59.0,20...|  0.0|[3.97908773113568...|[0.98164067537772...|       0.0|\n",
      "+--------------------+-----+--------------------+--------------------+----------+\n",
      "only showing top 10 rows\n",
      "\n"
     ]
    }
   ],
   "source": [
    "predictions = lrModel.transform(test)\n",
    "predictions.show(10)\n",
    "predictions = predictions.withColumnRenamed(\"Diabetic\",\"label\")\n",
    "predictions.show(10)"
   ]
  },
  {
   "cell_type": "markdown",
   "id": "d1c9c837",
   "metadata": {},
   "source": [
    "# Confusion matrix"
   ]
  },
  {
   "cell_type": "code",
   "execution_count": 12,
   "id": "df10d84e",
   "metadata": {},
   "outputs": [
    {
     "name": "stdout",
     "output_type": "stream",
     "text": [
      "Confusion Matrix [[2128  280]\n",
      " [ 492  734]]\n"
     ]
    }
   ],
   "source": [
    "import sklearn\n",
    "\n",
    "y_true = predictions.select(['label']).collect()\n",
    "y_pred = predictions.select(['prediction']).collect()\n",
    "\n",
    "from sklearn.metrics import   confusion_matrix\n",
    "from sklearn import metrics\n",
    "#print(classification_report(y_true, y_pred))\n",
    "print(\"Confusion Matrix\", confusion_matrix(y_true, y_pred))"
   ]
  },
  {
   "cell_type": "markdown",
   "id": "9d32fafc",
   "metadata": {},
   "source": [
    "# Accuracy, Precision, Recall, F1-Score "
   ]
  },
  {
   "cell_type": "code",
   "execution_count": 13,
   "id": "0342757a",
   "metadata": {},
   "outputs": [
    {
     "name": "stdout",
     "output_type": "stream",
     "text": [
      "Precision 0.7824078847269818\n",
      "Accuracy 0.7875619152449091\n",
      "F1-Score 0.7819876487878276\n",
      "Recall 0.7875619152449093\n"
     ]
    }
   ],
   "source": [
    "from pyspark.ml.evaluation import BinaryClassificationEvaluator, MulticlassClassificationEvaluator\n",
    "from pyspark.mllib.evaluation import MulticlassMetrics\n",
    "evaluator = BinaryClassificationEvaluator()\n",
    "evaluatorMulti = MulticlassClassificationEvaluator(labelCol=\"label\", predictionCol=\"prediction\")\n",
    "#print('Area Under ROC', evaluator.evaluate(predictions))\n",
    "\n",
    "\n",
    "# Get metrics\n",
    "acc = evaluatorMulti.evaluate(predictions, {evaluatorMulti.metricName: \"accuracy\"})\n",
    "f1 = evaluatorMulti.evaluate(predictions, {evaluatorMulti.metricName: \"f1\"})\n",
    "weightedPrecision = evaluatorMulti.evaluate(predictions, {evaluatorMulti.metricName: \"weightedPrecision\"})\n",
    "weightedRecall = evaluatorMulti.evaluate(predictions, {evaluatorMulti.metricName: \"weightedRecall\"})\n",
    "#auc = evaluator.evaluate(predictionAndTarget)\n",
    "\n",
    "print('Precision', weightedPrecision)\n",
    "print('Accuracy', acc)\n",
    "print('F1-Score', f1)\n",
    "print('Recall', weightedRecall)\n"
   ]
  },
  {
   "cell_type": "markdown",
   "id": "eb3cf8f3",
   "metadata": {},
   "source": [
    "# Area Under ROC\n",
    "ROC Curve is plotting using model.summary and AUC "
   ]
  },
  {
   "cell_type": "code",
   "execution_count": 14,
   "id": "164ee8e7",
   "metadata": {},
   "outputs": [
    {
     "name": "stderr",
     "output_type": "stream",
     "text": [
      "/opt/spark/python/pyspark/sql/context.py:125: FutureWarning: Deprecated in 3.0.0. Use SparkSession.builder.getOrCreate() instead.\n",
      "  warnings.warn(\n"
     ]
    },
    {
     "data": {
      "image/png": "[encoded data removed]",
      "text/plain": [
       "<Figure size 640x480 with 1 Axes>"
      ]
     },
     "metadata": {},
     "output_type": "display_data"
    },
    {
     "name": "stdout",
     "output_type": "stream",
     "text": [
      "Area UnderROC: 0.8577207034096627\n"
     ]
    }
   ],
   "source": [
    "trainingSummary = lrModel.summary\n",
    "roc = trainingSummary.roc.toPandas()\n",
    "plt.plot(roc['FPR'],roc['TPR'])\n",
    "plt.ylabel('False Positive Rate')\n",
    "plt.xlabel('True Positive Rate')\n",
    "plt.title('ROC Curve')\n",
    "plt.show()\n",
    "print('Area UnderROC: ' + str(trainingSummary.areaUnderROC))"
   ]
  },
  {
   "cell_type": "markdown",
   "id": "cd2c56e1",
   "metadata": {},
   "source": [
    "# Train the Decision Tree Classification Model\n",
    "\n",
    "We are using Decision Tree model for classsification problem. In the following step we training the decision tree model with labels and features. This kind of training where both labels and features are used are known as supervised learning"
   ]
  },
  {
   "cell_type": "code",
   "execution_count": 15,
   "id": "60f3086b",
   "metadata": {},
   "outputs": [
    {
     "name": "stdout",
     "output_type": "stream",
     "text": [
      "+--------------------+--------+--------------+--------------------+----------+\n",
      "|            features|Diabetic| rawPrediction|         probability|prediction|\n",
      "+--------------------+--------+--------------+--------------------+----------+\n",
      "|[0.0,45.0,51.0,10...|     0.0|[5299.0,214.0]|[0.96118265916923...|       0.0|\n",
      "|[0.0,45.0,90.0,25...|     0.0|[5299.0,214.0]|[0.96118265916923...|       0.0|\n",
      "|[0.0,46.0,45.0,27...|     0.0|[5299.0,214.0]|[0.96118265916923...|       0.0|\n",
      "|[0.0,46.0,61.0,46...|     0.0|[5299.0,214.0]|[0.96118265916923...|       0.0|\n",
      "|[0.0,46.0,66.0,44...|     0.0|[5299.0,214.0]|[0.96118265916923...|       0.0|\n",
      "|[0.0,48.0,78.0,32...|     0.0|[5299.0,214.0]|[0.96118265916923...|       0.0|\n",
      "|[0.0,48.0,85.0,40...|     0.0|[5299.0,214.0]|[0.96118265916923...|       0.0|\n",
      "|[0.0,49.0,52.0,9....|     0.0|[5299.0,214.0]|[0.96118265916923...|       0.0|\n",
      "|[0.0,49.0,60.0,15...|     0.0|[5299.0,214.0]|[0.96118265916923...|       0.0|\n",
      "|[0.0,50.0,59.0,20...|     0.0|[5299.0,214.0]|[0.96118265916923...|       0.0|\n",
      "+--------------------+--------+--------------+--------------------+----------+\n",
      "only showing top 10 rows\n",
      "\n"
     ]
    }
   ],
   "source": [
    "from pyspark.ml.classification import DecisionTreeClassifier\n",
    "dt = DecisionTreeClassifier(labelCol=\"Diabetic\", featuresCol=\"features\", maxDepth = 3)\n",
    "dtModel = dt.fit(train)\n",
    "predictions_dt = dtModel.transform(test)\n",
    "predictions_dt.show(10)"
   ]
  },
  {
   "cell_type": "markdown",
   "id": "f72bd785",
   "metadata": {},
   "source": [
    "# Accuracy, Precision, Recall, and F1-Score of Decision Tree Model"
   ]
  },
  {
   "cell_type": "code",
   "execution_count": 16,
   "id": "aef145a6",
   "metadata": {},
   "outputs": [
    {
     "name": "stdout",
     "output_type": "stream",
     "text": [
      "Precision 0.8713647430532327\n",
      "Accuracy 0.8725921849201981\n",
      "F1-Score 0.8715886137547827\n",
      "Recall 0.8725921849201981\n"
     ]
    }
   ],
   "source": [
    "from pyspark.ml.evaluation import BinaryClassificationEvaluator, MulticlassClassificationEvaluator\n",
    "from pyspark.mllib.evaluation import MulticlassMetrics\n",
    "evaluator = BinaryClassificationEvaluator()\n",
    "evaluatorMulti = MulticlassClassificationEvaluator(labelCol=\"Diabetic\", predictionCol=\"prediction\")\n",
    "#print('Area Under ROC', evaluator.evaluate(predictions))\n",
    "\n",
    "\n",
    "# Get metrics\n",
    "acc = evaluatorMulti.evaluate(predictions_dt, {evaluatorMulti.metricName: \"accuracy\"})\n",
    "f1 = evaluatorMulti.evaluate(predictions_dt, {evaluatorMulti.metricName: \"f1\"})\n",
    "weightedPrecision = evaluatorMulti.evaluate(predictions_dt, {evaluatorMulti.metricName: \"weightedPrecision\"})\n",
    "weightedRecall = evaluatorMulti.evaluate(predictions_dt, {evaluatorMulti.metricName: \"weightedRecall\"})\n",
    "#auc = evaluator.evaluate(predictionAndTarget)\n",
    "\n",
    "print('Precision', weightedPrecision)\n",
    "print('Accuracy', acc)\n",
    "print('F1-Score', f1)\n",
    "print('Recall', weightedRecall)\n"
   ]
  },
  {
   "cell_type": "markdown",
   "id": "868075e2",
   "metadata": {},
   "source": [
    "# Confusion Matrix of Decision Tree Model "
   ]
  },
  {
   "cell_type": "code",
   "execution_count": 17,
   "id": "93937a98",
   "metadata": {},
   "outputs": [
    {
     "name": "stdout",
     "output_type": "stream",
     "text": [
      "Confusion Matrix [[2213  195]\n",
      " [ 268  958]]\n"
     ]
    }
   ],
   "source": [
    "import sklearn\n",
    "\n",
    "y_true = predictions_dt.select(['Diabetic']).collect()\n",
    "y_pred = predictions_dt.select(['prediction']).collect()\n",
    "\n",
    "from sklearn.metrics import   confusion_matrix\n",
    "from sklearn import metrics\n",
    "#print(classification_report(y_true, y_pred))\n",
    "print(\"Confusion Matrix\", confusion_matrix(y_true, y_pred))\n",
    "\n"
   ]
  },
  {
   "cell_type": "markdown",
   "id": "eb08c082",
   "metadata": {},
   "source": [
    "# Area Under ROC for Decision Tree Classifier"
   ]
  },
  {
   "cell_type": "code",
   "execution_count": 18,
   "id": "5f015169",
   "metadata": {},
   "outputs": [
    {
     "name": "stdout",
     "output_type": "stream",
     "text": [
      "Test Area Under ROC: 0.9046056375431542\n"
     ]
    }
   ],
   "source": [
    "predictions_dt = predictions_dt.withColumnRenamed(\"Diabetic\",\"label\")\n",
    "evaluator = BinaryClassificationEvaluator()\n",
    "print(\"Test Area Under ROC: \" + str(evaluator.evaluate(predictions_dt, {evaluator.metricName: \"areaUnderROC\"})))"
   ]
  },
  {
   "cell_type": "markdown",
   "id": "518d1791",
   "metadata": {},
   "source": [
    "# Binary Classification Using Random Forest Classifier"
   ]
  },
  {
   "cell_type": "code",
   "execution_count": 19,
   "id": "6448de90",
   "metadata": {},
   "outputs": [
    {
     "name": "stdout",
     "output_type": "stream",
     "text": [
      "+--------------------+--------+--------------------+--------------------+----------+\n",
      "|            features|Diabetic|       rawPrediction|         probability|prediction|\n",
      "+--------------------+--------+--------------------+--------------------+----------+\n",
      "|[0.0,45.0,51.0,10...|     0.0|[18.2488228826027...|[0.91244114413013...|       0.0|\n",
      "|[0.0,45.0,90.0,25...|     0.0|[18.6125727887797...|[0.93062863943898...|       0.0|\n",
      "|[0.0,46.0,45.0,27...|     0.0|[18.6125727887797...|[0.93062863943898...|       0.0|\n",
      "|[0.0,46.0,61.0,46...|     0.0|[17.8633054228960...|[0.89316527114480...|       0.0|\n",
      "|[0.0,46.0,66.0,44...|     0.0|[18.2488228826027...|[0.91244114413013...|       0.0|\n",
      "|[0.0,48.0,78.0,32...|     0.0|[18.3915265630304...|[0.91957632815152...|       0.0|\n",
      "|[0.0,48.0,85.0,40...|     0.0|[18.3915265630304...|[0.91957632815152...|       0.0|\n",
      "|[0.0,49.0,52.0,9....|     0.0|[18.2488228826027...|[0.91244114413013...|       0.0|\n",
      "|[0.0,49.0,60.0,15...|     0.0|[18.6125727887797...|[0.93062863943898...|       0.0|\n",
      "|[0.0,50.0,59.0,20...|     0.0|[18.3915265630304...|[0.91957632815152...|       0.0|\n",
      "+--------------------+--------+--------------------+--------------------+----------+\n",
      "only showing top 10 rows\n",
      "\n"
     ]
    }
   ],
   "source": [
    "from pyspark.ml.classification import RandomForestClassifier\n",
    "rf = RandomForestClassifier(labelCol=\"Diabetic\", featuresCol=\"features\", maxDepth = 3)\n",
    "rfModel = rf.fit(train)\n",
    "predictions_rf = rfModel.transform(test)\n",
    "predictions_rf.show(10)"
   ]
  },
  {
   "cell_type": "markdown",
   "id": "80d73d2b",
   "metadata": {},
   "source": [
    "# Precision, Accuracy, Recall, and F1-Score of Random Forest Model"
   ]
  },
  {
   "cell_type": "code",
   "execution_count": 20,
   "id": "dd7129d1",
   "metadata": {},
   "outputs": [
    {
     "name": "stdout",
     "output_type": "stream",
     "text": [
      "Precision 0.8931593604732198\n",
      "Accuracy 0.8926802421574023\n",
      "F1-Score 0.8928906142693649\n",
      "Recall 0.8926802421574023\n"
     ]
    }
   ],
   "source": [
    "from pyspark.ml.evaluation import BinaryClassificationEvaluator, MulticlassClassificationEvaluator\n",
    "from pyspark.mllib.evaluation import MulticlassMetrics\n",
    "evaluator = BinaryClassificationEvaluator()\n",
    "evaluatorMulti = MulticlassClassificationEvaluator(labelCol=\"Diabetic\", predictionCol=\"prediction\")\n",
    "#print('Area Under ROC', evaluator.evaluate(predictions))\n",
    "\n",
    "\n",
    "# Get metrics\n",
    "acc = evaluatorMulti.evaluate(predictions_rf, {evaluatorMulti.metricName: \"accuracy\"})\n",
    "f1 = evaluatorMulti.evaluate(predictions_rf, {evaluatorMulti.metricName: \"f1\"})\n",
    "weightedPrecision = evaluatorMulti.evaluate(predictions_rf, {evaluatorMulti.metricName: \"weightedPrecision\"})\n",
    "weightedRecall = evaluatorMulti.evaluate(predictions_rf, {evaluatorMulti.metricName: \"weightedRecall\"})\n",
    "#auc = evaluator.evaluate(predictionAndTarget)\n",
    "\n",
    "print('Precision', weightedPrecision)\n",
    "print('Accuracy', acc)\n",
    "print('F1-Score', f1)\n",
    "print('Recall', weightedRecall)"
   ]
  },
  {
   "cell_type": "markdown",
   "id": "f94d360d",
   "metadata": {},
   "source": [
    "# Confusion Matrix for Random Forest Model"
   ]
  },
  {
   "cell_type": "code",
   "execution_count": 21,
   "id": "6299f987",
   "metadata": {},
   "outputs": [
    {
     "name": "stdout",
     "output_type": "stream",
     "text": [
      "Confusion Matrix [[2203  205]\n",
      " [ 185 1041]]\n"
     ]
    }
   ],
   "source": [
    "import sklearn\n",
    "\n",
    "y_true = predictions_rf.select(['Diabetic']).collect()\n",
    "y_pred = predictions_rf.select(['prediction']).collect()\n",
    "\n",
    "from sklearn.metrics import   confusion_matrix\n",
    "from sklearn import metrics\n",
    "#print(classification_report(y_true, y_pred))\n",
    "print(\"Confusion Matrix\", confusion_matrix(y_true, y_pred))"
   ]
  },
  {
   "cell_type": "markdown",
   "id": "d9a1f538",
   "metadata": {},
   "source": [
    "# Area Under ROC for Random Forest Classifier"
   ]
  },
  {
   "cell_type": "code",
   "execution_count": 22,
   "id": "245eb766",
   "metadata": {},
   "outputs": [
    {
     "name": "stdout",
     "output_type": "stream",
     "text": [
      "Test Area Under ROC: 0.9555735910206867\n"
     ]
    }
   ],
   "source": [
    "predictions_rf = predictions_rf.withColumnRenamed(\"Diabetic\",\"label\")\n",
    "evaluator = BinaryClassificationEvaluator()\n",
    "print(\"Test Area Under ROC: \" + str(evaluator.evaluate(predictions_rf, {evaluator.metricName: \"areaUnderROC\"})))"
   ]
  },
  {
   "cell_type": "code",
   "execution_count": 23,
   "id": "a8dd0a2f",
   "metadata": {},
   "outputs": [],
   "source": [
    "spark.stop()"
   ]
  },
  {
   "cell_type": "markdown",
   "id": "89a7678d",
   "metadata": {},
   "source": [
    "# Multi Class Classification using Random Forest Algorithm\n",
    "\n",
    "We are using the decision tree algorithm to predict the species of flower. The iris dataset used here includes three iris species with 50 samples each as well as some properties about each flower."
   ]
  },
  {
   "cell_type": "markdown",
   "id": "11a3b955",
   "metadata": {},
   "source": [
    "To perform any task on spark you need start a spark session, here we are starting a session for our multiclass classification"
   ]
  },
  {
   "cell_type": "code",
   "execution_count": 24,
   "id": "6202a1e9",
   "metadata": {},
   "outputs": [],
   "source": [
    "from pyspark.sql import SparkSession\n",
    "\n",
    "spark = SparkSession.builder.appName(\"Multi App\").getOrCreate()"
   ]
  },
  {
   "cell_type": "markdown",
   "id": "ab964892",
   "metadata": {},
   "source": [
    "To start, we are loading the Iris dataset "
   ]
  },
  {
   "cell_type": "code",
   "execution_count": 25,
   "id": "00e11217",
   "metadata": {},
   "outputs": [
    {
     "name": "stdout",
     "output_type": "stream",
     "text": [
      "--2022-08-21 10:01:54--  https://raw.githubusercontent.com/ismayilsiyad/hpe_ml/main/IRIS.csv\n",
      "Resolving raw.githubusercontent.com (raw.githubusercontent.com)... 185.199.108.133, 185.199.109.133, 185.199.110.133, ...\n",
      "Connecting to raw.githubusercontent.com (raw.githubusercontent.com)|185.199.108.133|:443... connected.\n",
      "HTTP request sent, awaiting response... 200 OK\n",
      "Length: 4617 (4.5K) [text/plain]\n",
      "Saving to: ‘IRIS.csv.1’\n",
      "\n",
      "IRIS.csv.1          100%[===================>]   4.51K  --.-KB/s    in 0s      \n",
      "\n",
      "2022-08-21 10:01:55 (45.5 MB/s) - ‘IRIS.csv.1’ saved [4617/4617]\n",
      "\n",
      "root\n",
      " |-- sepal_length: double (nullable = true)\n",
      " |-- sepal_width: double (nullable = true)\n",
      " |-- petal_length: double (nullable = true)\n",
      " |-- petal_width: double (nullable = true)\n",
      " |-- species: string (nullable = true)\n",
      "\n",
      "+------------+-----------+------------+-----------+-----------+\n",
      "|sepal_length|sepal_width|petal_length|petal_width|    species|\n",
      "+------------+-----------+------------+-----------+-----------+\n",
      "|         5.1|        3.5|         1.4|        0.2|Iris-setosa|\n",
      "|         4.9|        3.0|         1.4|        0.2|Iris-setosa|\n",
      "|         4.7|        3.2|         1.3|        0.2|Iris-setosa|\n",
      "|         4.6|        3.1|         1.5|        0.2|Iris-setosa|\n",
      "|         5.0|        3.6|         1.4|        0.2|Iris-setosa|\n",
      "|         5.4|        3.9|         1.7|        0.4|Iris-setosa|\n",
      "|         4.6|        3.4|         1.4|        0.3|Iris-setosa|\n",
      "|         5.0|        3.4|         1.5|        0.2|Iris-setosa|\n",
      "|         4.4|        2.9|         1.4|        0.2|Iris-setosa|\n",
      "|         4.9|        3.1|         1.5|        0.1|Iris-setosa|\n",
      "|         5.4|        3.7|         1.5|        0.2|Iris-setosa|\n",
      "|         4.8|        3.4|         1.6|        0.2|Iris-setosa|\n",
      "|         4.8|        3.0|         1.4|        0.1|Iris-setosa|\n",
      "|         4.3|        3.0|         1.1|        0.1|Iris-setosa|\n",
      "|         5.8|        4.0|         1.2|        0.2|Iris-setosa|\n",
      "|         5.7|        4.4|         1.5|        0.4|Iris-setosa|\n",
      "|         5.4|        3.9|         1.3|        0.4|Iris-setosa|\n",
      "|         5.1|        3.5|         1.4|        0.3|Iris-setosa|\n",
      "|         5.7|        3.8|         1.7|        0.3|Iris-setosa|\n",
      "|         5.1|        3.8|         1.5|        0.3|Iris-setosa|\n",
      "+------------+-----------+------------+-----------+-----------+\n",
      "only showing top 20 rows\n",
      "\n"
     ]
    }
   ],
   "source": [
    "!wget https://raw.githubusercontent.com/ismayilsiyad/hpe_ml/main/IRIS.csv\n",
    "iris = spark.read.csv('IRIS.csv', header = True, inferSchema = True)\n",
    "iris.printSchema()\n",
    "iris.show()"
   ]
  },
  {
   "cell_type": "markdown",
   "id": "02995161",
   "metadata": {},
   "source": [
    "# Changing the column datatype\n",
    "\n",
    "We need to change column datatype to float from the initial string datatype"
   ]
  },
  {
   "cell_type": "code",
   "execution_count": 26,
   "id": "2bad8518",
   "metadata": {},
   "outputs": [
    {
     "name": "stdout",
     "output_type": "stream",
     "text": [
      "root\n",
      " |-- sepal_length: float (nullable = true)\n",
      " |-- sepal_width: float (nullable = true)\n",
      " |-- petal_length: float (nullable = true)\n",
      " |-- petal_width: float (nullable = true)\n",
      "\n"
     ]
    }
   ],
   "source": [
    "from pyspark.sql.functions import col\n",
    "features = iris.drop('species')\n",
    "features = features.select(*(col(c).cast('float').alias(c) for c in features.columns))\n",
    "features.printSchema()"
   ]
  },
  {
   "cell_type": "markdown",
   "id": "8d442e45",
   "metadata": {},
   "source": [
    "# Taking the count of the null and missing values"
   ]
  },
  {
   "cell_type": "code",
   "execution_count": 27,
   "id": "71acd273",
   "metadata": {},
   "outputs": [
    {
     "name": "stdout",
     "output_type": "stream",
     "text": [
      "+------------+-----------+------------+-----------+\n",
      "|sepal_length|sepal_width|petal_length|petal_width|\n",
      "+------------+-----------+------------+-----------+\n",
      "|           0|          0|           0|          0|\n",
      "+------------+-----------+------------+-----------+\n",
      "\n"
     ]
    }
   ],
   "source": [
    "from pyspark.sql.functions import col, count, isnan, when\n",
    "features.select([count(when(col(c).isNull(), c)).alias(c) for c in features.columns]).show()"
   ]
  },
  {
   "cell_type": "markdown",
   "id": "de88aab9",
   "metadata": {},
   "source": [
    "# List of columns to vector form\n",
    "\n",
    "We are using VectorAssembler to convert the list columns in our dataset to vector form in which all the features are grouped to vector form"
   ]
  },
  {
   "cell_type": "code",
   "execution_count": 28,
   "id": "86920ef3",
   "metadata": {},
   "outputs": [
    {
     "name": "stdout",
     "output_type": "stream",
     "text": [
      "+-----------------+-----------+\n",
      "|         features|    species|\n",
      "+-----------------+-----------+\n",
      "|[5.1,3.5,1.4,0.2]|Iris-setosa|\n",
      "|[4.9,3.0,1.4,0.2]|Iris-setosa|\n",
      "|[4.7,3.2,1.3,0.2]|Iris-setosa|\n",
      "|[4.6,3.1,1.5,0.2]|Iris-setosa|\n",
      "|[5.0,3.6,1.4,0.2]|Iris-setosa|\n",
      "|[5.4,3.9,1.7,0.4]|Iris-setosa|\n",
      "|[4.6,3.4,1.4,0.3]|Iris-setosa|\n",
      "|[5.0,3.4,1.5,0.2]|Iris-setosa|\n",
      "|[4.4,2.9,1.4,0.2]|Iris-setosa|\n",
      "|[4.9,3.1,1.5,0.1]|Iris-setosa|\n",
      "|[5.4,3.7,1.5,0.2]|Iris-setosa|\n",
      "|[4.8,3.4,1.6,0.2]|Iris-setosa|\n",
      "|[4.8,3.0,1.4,0.1]|Iris-setosa|\n",
      "|[4.3,3.0,1.1,0.1]|Iris-setosa|\n",
      "|[5.8,4.0,1.2,0.2]|Iris-setosa|\n",
      "|[5.7,4.4,1.5,0.4]|Iris-setosa|\n",
      "|[5.4,3.9,1.3,0.4]|Iris-setosa|\n",
      "|[5.1,3.5,1.4,0.3]|Iris-setosa|\n",
      "|[5.7,3.8,1.7,0.3]|Iris-setosa|\n",
      "|[5.1,3.8,1.5,0.3]|Iris-setosa|\n",
      "+-----------------+-----------+\n",
      "only showing top 20 rows\n",
      "\n"
     ]
    }
   ],
   "source": [
    "\n",
    "from pyspark.ml.feature import StringIndexer, VectorAssembler\n",
    "#let's assemble our features together using vectorAssembler\n",
    "assembler = VectorAssembler(\n",
    "    inputCols=features.columns,\n",
    "    outputCol=\"features\")\n",
    "output = assembler.transform(iris).select('features','species')\n",
    "output.show()"
   ]
  },
  {
   "cell_type": "code",
   "execution_count": 29,
   "id": "4b0c977b",
   "metadata": {},
   "outputs": [
    {
     "name": "stdout",
     "output_type": "stream",
     "text": [
      "+-----------------+-----------+----------+\n",
      "|         features|    species|labelIndex|\n",
      "+-----------------+-----------+----------+\n",
      "|[5.1,3.5,1.4,0.2]|Iris-setosa|       0.0|\n",
      "|[4.9,3.0,1.4,0.2]|Iris-setosa|       0.0|\n",
      "|[4.7,3.2,1.3,0.2]|Iris-setosa|       0.0|\n",
      "|[4.6,3.1,1.5,0.2]|Iris-setosa|       0.0|\n",
      "|[5.0,3.6,1.4,0.2]|Iris-setosa|       0.0|\n",
      "|[5.4,3.9,1.7,0.4]|Iris-setosa|       0.0|\n",
      "|[4.6,3.4,1.4,0.3]|Iris-setosa|       0.0|\n",
      "|[5.0,3.4,1.5,0.2]|Iris-setosa|       0.0|\n",
      "|[4.4,2.9,1.4,0.2]|Iris-setosa|       0.0|\n",
      "|[4.9,3.1,1.5,0.1]|Iris-setosa|       0.0|\n",
      "|[5.4,3.7,1.5,0.2]|Iris-setosa|       0.0|\n",
      "|[4.8,3.4,1.6,0.2]|Iris-setosa|       0.0|\n",
      "|[4.8,3.0,1.4,0.1]|Iris-setosa|       0.0|\n",
      "|[4.3,3.0,1.1,0.1]|Iris-setosa|       0.0|\n",
      "|[5.8,4.0,1.2,0.2]|Iris-setosa|       0.0|\n",
      "|[5.7,4.4,1.5,0.4]|Iris-setosa|       0.0|\n",
      "|[5.4,3.9,1.3,0.4]|Iris-setosa|       0.0|\n",
      "|[5.1,3.5,1.4,0.3]|Iris-setosa|       0.0|\n",
      "|[5.7,3.8,1.7,0.3]|Iris-setosa|       0.0|\n",
      "|[5.1,3.8,1.5,0.3]|Iris-setosa|       0.0|\n",
      "+-----------------+-----------+----------+\n",
      "only showing top 20 rows\n",
      "\n"
     ]
    }
   ],
   "source": [
    "label_stringIdx = StringIndexer(inputCol = 'species', outputCol = 'labelIndex')\n",
    "df = label_stringIdx.fit(output).transform(output)\n",
    "df.show()"
   ]
  },
  {
   "cell_type": "markdown",
   "id": "59ecee4c",
   "metadata": {},
   "source": [
    "# Splitting the data into training and testing datasets\n",
    "\n",
    "The dataset in vector form is now splitting into train and test datset fractions\n"
   ]
  },
  {
   "cell_type": "code",
   "execution_count": 30,
   "id": "a8b62e9c",
   "metadata": {},
   "outputs": [
    {
     "name": "stdout",
     "output_type": "stream",
     "text": [
      "+-----------------+---------------+----------+\n",
      "|         features|        species|labelIndex|\n",
      "+-----------------+---------------+----------+\n",
      "|[4.4,2.9,1.4,0.2]|    Iris-setosa|       0.0|\n",
      "|[4.4,3.0,1.3,0.2]|    Iris-setosa|       0.0|\n",
      "|[4.4,3.2,1.3,0.2]|    Iris-setosa|       0.0|\n",
      "|[4.5,2.3,1.3,0.3]|    Iris-setosa|       0.0|\n",
      "|[4.6,3.1,1.5,0.2]|    Iris-setosa|       0.0|\n",
      "|[4.6,3.2,1.4,0.2]|    Iris-setosa|       0.0|\n",
      "|[4.6,3.4,1.4,0.3]|    Iris-setosa|       0.0|\n",
      "|[4.6,3.6,1.0,0.2]|    Iris-setosa|       0.0|\n",
      "|[4.7,3.2,1.6,0.2]|    Iris-setosa|       0.0|\n",
      "|[4.8,3.0,1.4,0.1]|    Iris-setosa|       0.0|\n",
      "|[4.8,3.0,1.4,0.3]|    Iris-setosa|       0.0|\n",
      "|[4.8,3.1,1.6,0.2]|    Iris-setosa|       0.0|\n",
      "|[4.8,3.4,1.9,0.2]|    Iris-setosa|       0.0|\n",
      "|[4.9,2.4,3.3,1.0]|Iris-versicolor|       1.0|\n",
      "|[4.9,3.0,1.4,0.2]|    Iris-setosa|       0.0|\n",
      "|[4.9,3.1,1.5,0.1]|    Iris-setosa|       0.0|\n",
      "|[5.0,2.0,3.5,1.0]|Iris-versicolor|       1.0|\n",
      "|[5.0,3.2,1.2,0.2]|    Iris-setosa|       0.0|\n",
      "|[5.0,3.3,1.4,0.2]|    Iris-setosa|       0.0|\n",
      "|[5.0,3.4,1.5,0.2]|    Iris-setosa|       0.0|\n",
      "+-----------------+---------------+----------+\n",
      "only showing top 20 rows\n",
      "\n",
      "+-----------------+---------------+----------+\n",
      "|         features|        species|labelIndex|\n",
      "+-----------------+---------------+----------+\n",
      "|[4.3,3.0,1.1,0.1]|    Iris-setosa|       0.0|\n",
      "|[4.7,3.2,1.3,0.2]|    Iris-setosa|       0.0|\n",
      "|[4.8,3.4,1.6,0.2]|    Iris-setosa|       0.0|\n",
      "|[4.9,2.5,4.5,1.7]| Iris-virginica|       2.0|\n",
      "|[4.9,3.1,1.5,0.1]|    Iris-setosa|       0.0|\n",
      "|[4.9,3.1,1.5,0.1]|    Iris-setosa|       0.0|\n",
      "|[5.0,2.3,3.3,1.0]|Iris-versicolor|       1.0|\n",
      "|[5.0,3.0,1.6,0.2]|    Iris-setosa|       0.0|\n",
      "|[5.0,3.5,1.3,0.3]|    Iris-setosa|       0.0|\n",
      "|[5.0,3.6,1.4,0.2]|    Iris-setosa|       0.0|\n",
      "|[5.1,2.5,3.0,1.1]|Iris-versicolor|       1.0|\n",
      "|[5.1,3.4,1.5,0.2]|    Iris-setosa|       0.0|\n",
      "|[5.1,3.8,1.5,0.3]|    Iris-setosa|       0.0|\n",
      "|[5.1,3.8,1.6,0.2]|    Iris-setosa|       0.0|\n",
      "|[5.1,3.8,1.9,0.4]|    Iris-setosa|       0.0|\n",
      "|[5.4,3.4,1.5,0.4]|    Iris-setosa|       0.0|\n",
      "|[5.4,3.4,1.7,0.2]|    Iris-setosa|       0.0|\n",
      "|[5.4,3.7,1.5,0.2]|    Iris-setosa|       0.0|\n",
      "|[5.6,2.7,4.2,1.3]|Iris-versicolor|       1.0|\n",
      "|[5.6,3.0,4.1,1.3]|Iris-versicolor|       1.0|\n",
      "+-----------------+---------------+----------+\n",
      "only showing top 20 rows\n",
      "\n"
     ]
    }
   ],
   "source": [
    "train,test = df.randomSplit([0.7, 0.3])\n",
    "train.show()\n",
    "test.show()"
   ]
  },
  {
   "cell_type": "markdown",
   "id": "1b424e6e",
   "metadata": {},
   "source": [
    "# Train the Classification Model\n",
    "\n",
    "We are using Random Forest model for multiclass classification problem. In the following step we training the random forest model with labels and features. This kind of training where both labels and features are used are known as supervised learning"
   ]
  },
  {
   "cell_type": "code",
   "execution_count": 31,
   "id": "5e57d317",
   "metadata": {},
   "outputs": [
    {
     "name": "stdout",
     "output_type": "stream",
     "text": [
      "+-----------------+----------+--------------------+----------+--------------------+\n",
      "|         features|labelIndex|       rawPrediction|prediction|         probability|\n",
      "+-----------------+----------+--------------------+----------+--------------------+\n",
      "|[4.3,3.0,1.1,0.1]|       0.0|      [20.0,0.0,0.0]|       0.0|       [1.0,0.0,0.0]|\n",
      "|[4.7,3.2,1.3,0.2]|       0.0|      [20.0,0.0,0.0]|       0.0|       [1.0,0.0,0.0]|\n",
      "|[4.8,3.4,1.6,0.2]|       0.0|      [20.0,0.0,0.0]|       0.0|       [1.0,0.0,0.0]|\n",
      "|[4.9,2.5,4.5,1.7]|       2.0|[0.0,19.587719298...|       1.0|[0.0,0.9793859649...|\n",
      "|[4.9,3.1,1.5,0.1]|       0.0|      [20.0,0.0,0.0]|       0.0|       [1.0,0.0,0.0]|\n",
      "|[4.9,3.1,1.5,0.1]|       0.0|      [20.0,0.0,0.0]|       0.0|       [1.0,0.0,0.0]|\n",
      "|[5.0,2.3,3.3,1.0]|       1.0|[0.0,19.921052631...|       1.0|[0.0,0.9960526315...|\n",
      "|[5.0,3.0,1.6,0.2]|       0.0|      [20.0,0.0,0.0]|       0.0|       [1.0,0.0,0.0]|\n",
      "|[5.0,3.5,1.3,0.3]|       0.0|      [20.0,0.0,0.0]|       0.0|       [1.0,0.0,0.0]|\n",
      "|[5.0,3.6,1.4,0.2]|       0.0|      [20.0,0.0,0.0]|       0.0|       [1.0,0.0,0.0]|\n",
      "|[5.1,2.5,3.0,1.1]|       1.0|[0.0,19.921052631...|       1.0|[0.0,0.9960526315...|\n",
      "|[5.1,3.4,1.5,0.2]|       0.0|      [20.0,0.0,0.0]|       0.0|       [1.0,0.0,0.0]|\n",
      "|[5.1,3.8,1.5,0.3]|       0.0|      [20.0,0.0,0.0]|       0.0|       [1.0,0.0,0.0]|\n",
      "|[5.1,3.8,1.6,0.2]|       0.0|      [20.0,0.0,0.0]|       0.0|       [1.0,0.0,0.0]|\n",
      "|[5.1,3.8,1.9,0.4]|       0.0|      [19.0,1.0,0.0]|       0.0|     [0.95,0.05,0.0]|\n",
      "|[5.4,3.4,1.5,0.4]|       0.0|      [20.0,0.0,0.0]|       0.0|       [1.0,0.0,0.0]|\n",
      "|[5.4,3.4,1.7,0.2]|       0.0|      [20.0,0.0,0.0]|       0.0|       [1.0,0.0,0.0]|\n",
      "|[5.4,3.7,1.5,0.2]|       0.0|      [20.0,0.0,0.0]|       0.0|       [1.0,0.0,0.0]|\n",
      "|[5.6,2.7,4.2,1.3]|       1.0|[0.0,19.921052631...|       1.0|[0.0,0.9960526315...|\n",
      "|[5.6,3.0,4.1,1.3]|       1.0|[0.0,19.921052631...|       1.0|[0.0,0.9960526315...|\n",
      "|[5.6,3.0,4.5,1.5]|       1.0|[0.0,19.587719298...|       1.0|[0.0,0.9793859649...|\n",
      "|[5.7,2.6,3.5,1.0]|       1.0|[0.0,19.921052631...|       1.0|[0.0,0.9960526315...|\n",
      "|[5.7,2.8,4.5,1.3]|       1.0|[0.0,19.921052631...|       1.0|[0.0,0.9960526315...|\n",
      "|[5.7,4.4,1.5,0.4]|       0.0|      [19.0,1.0,0.0]|       0.0|     [0.95,0.05,0.0]|\n",
      "|[5.8,2.7,4.1,1.0]|       1.0|[0.0,19.921052631...|       1.0|[0.0,0.9960526315...|\n",
      "|[5.8,2.7,5.1,1.9]|       2.0|[0.0,3.1349206349...|       2.0|[0.0,0.1567460317...|\n",
      "|[5.8,4.0,1.2,0.2]|       0.0|      [19.0,1.0,0.0]|       0.0|     [0.95,0.05,0.0]|\n",
      "|[5.9,3.0,5.1,1.8]|       2.0|[0.0,5.2777777777...|       2.0|[0.0,0.2638888888...|\n",
      "|[6.0,3.4,4.5,1.6]|       1.0|[2.0,15.587719298...|       1.0|[0.1,0.7793859649...|\n",
      "|[6.1,2.6,5.6,1.4]|       2.0|[0.0,9.7781954887...|       2.0|[0.0,0.4889097744...|\n",
      "|[6.1,2.9,4.7,1.4]|       1.0|[0.0,18.921052631...|       1.0|[0.0,0.9460526315...|\n",
      "|[6.2,2.2,4.5,1.5]|       1.0|[0.0,12.866666666...|       1.0|[0.0,0.6433333333...|\n",
      "|[6.3,3.4,5.6,2.4]|       2.0|[0.0,0.0277777777...|       2.0|[0.0,0.0013888888...|\n",
      "|[6.4,2.8,5.6,2.1]|       2.0|[0.0,0.0277777777...|       2.0|[0.0,0.0013888888...|\n",
      "|[6.4,2.8,5.6,2.2]|       2.0|[0.0,0.0277777777...|       2.0|[0.0,0.0013888888...|\n",
      "|[6.4,3.2,5.3,2.3]|       2.0|[0.0,0.0277777777...|       2.0|[0.0,0.0013888888...|\n",
      "|[6.5,3.0,5.2,2.0]|       2.0|[0.0,0.0277777777...|       2.0|[0.0,0.0013888888...|\n",
      "|[6.5,3.2,5.1,2.0]|       2.0|[0.0,1.0277777777...|       2.0|[0.0,0.0513888888...|\n",
      "|[6.7,2.5,5.8,1.8]|       2.0|[0.0,2.0277777777...|       2.0|[0.0,0.1013888888...|\n",
      "|[6.7,3.0,5.0,1.7]|       1.0|[0.0,8.9543859649...|       2.0|[0.0,0.4477192982...|\n",
      "|[6.7,3.0,5.2,2.3]|       2.0|[0.0,0.0277777777...|       2.0|[0.0,0.0013888888...|\n",
      "|[6.7,3.1,4.7,1.5]|       1.0|[0.0,17.454385964...|       1.0|[0.0,0.8727192982...|\n",
      "|[6.9,3.1,4.9,1.5]|       1.0|[0.0,10.954385964...|       1.0|[0.0,0.5477192982...|\n",
      "|[6.9,3.2,5.7,2.3]|       2.0|[0.0,0.0277777777...|       2.0|[0.0,0.0013888888...|\n",
      "|[7.2,3.2,6.0,1.8]|       2.0|[0.0,0.0277777777...|       2.0|[0.0,0.0013888888...|\n",
      "|[7.7,2.6,6.9,2.3]|       2.0|[0.0,2.0277777777...|       2.0|[0.0,0.1013888888...|\n",
      "|[7.7,2.8,6.7,2.0]|       2.0|[0.0,1.0277777777...|       2.0|[0.0,0.0513888888...|\n",
      "|[7.7,3.8,6.7,2.2]|       2.0|[0.0,0.0277777777...|       2.0|[0.0,0.0013888888...|\n",
      "+-----------------+----------+--------------------+----------+--------------------+\n",
      "\n"
     ]
    }
   ],
   "source": [
    "from pyspark.ml.classification import RandomForestClassifier\n",
    "\n",
    "\n",
    "rf = RandomForestClassifier(featuresCol = 'features', labelCol = 'labelIndex')\n",
    "rfModel = rf.fit(train)\n",
    "predictions = rfModel.transform(test)\n",
    "predictions.select('features','labelIndex', 'rawPrediction', 'prediction', 'probability').show(500)\n",
    "\n"
   ]
  },
  {
   "cell_type": "markdown",
   "id": "387c094e",
   "metadata": {},
   "source": [
    "# Training Accuracy and Error"
   ]
  },
  {
   "cell_type": "code",
   "execution_count": 32,
   "id": "38f48c75",
   "metadata": {},
   "outputs": [
    {
     "name": "stdout",
     "output_type": "stream",
     "text": [
      "Accuracy = 0.9583333333333333\n",
      "Test Error = 0.04166666666666674\n"
     ]
    }
   ],
   "source": [
    "from pyspark.ml.evaluation import MulticlassClassificationEvaluator\n",
    "\n",
    "evaluator = MulticlassClassificationEvaluator(labelCol=\"labelIndex\", predictionCol=\"prediction\")\n",
    "accuracy = evaluator.evaluate(predictions)\n",
    "print(\"Accuracy = %s\" % (accuracy))\n",
    "print(\"Test Error = %s\" % (1.0 - accuracy))"
   ]
  },
  {
   "cell_type": "markdown",
   "id": "cfe8322e",
   "metadata": {},
   "source": [
    "# Predictions and labels\n",
    "\n",
    "To compare the predictions with actual labels we use model.transform"
   ]
  },
  {
   "cell_type": "code",
   "execution_count": 33,
   "id": "f11e897e",
   "metadata": {},
   "outputs": [
    {
     "name": "stdout",
     "output_type": "stream",
     "text": [
      "+-----------------+---------------+----------+--------------------+--------------------+----------+\n",
      "|         features|        species|labelIndex|       rawPrediction|         probability|prediction|\n",
      "+-----------------+---------------+----------+--------------------+--------------------+----------+\n",
      "|[4.3,3.0,1.1,0.1]|    Iris-setosa|       0.0|      [20.0,0.0,0.0]|       [1.0,0.0,0.0]|       0.0|\n",
      "|[4.7,3.2,1.3,0.2]|    Iris-setosa|       0.0|      [20.0,0.0,0.0]|       [1.0,0.0,0.0]|       0.0|\n",
      "|[4.8,3.4,1.6,0.2]|    Iris-setosa|       0.0|      [20.0,0.0,0.0]|       [1.0,0.0,0.0]|       0.0|\n",
      "|[4.9,2.5,4.5,1.7]| Iris-virginica|       2.0|[0.0,19.587719298...|[0.0,0.9793859649...|       1.0|\n",
      "|[4.9,3.1,1.5,0.1]|    Iris-setosa|       0.0|      [20.0,0.0,0.0]|       [1.0,0.0,0.0]|       0.0|\n",
      "|[4.9,3.1,1.5,0.1]|    Iris-setosa|       0.0|      [20.0,0.0,0.0]|       [1.0,0.0,0.0]|       0.0|\n",
      "|[5.0,2.3,3.3,1.0]|Iris-versicolor|       1.0|[0.0,19.921052631...|[0.0,0.9960526315...|       1.0|\n",
      "|[5.0,3.0,1.6,0.2]|    Iris-setosa|       0.0|      [20.0,0.0,0.0]|       [1.0,0.0,0.0]|       0.0|\n",
      "|[5.0,3.5,1.3,0.3]|    Iris-setosa|       0.0|      [20.0,0.0,0.0]|       [1.0,0.0,0.0]|       0.0|\n",
      "|[5.0,3.6,1.4,0.2]|    Iris-setosa|       0.0|      [20.0,0.0,0.0]|       [1.0,0.0,0.0]|       0.0|\n",
      "+-----------------+---------------+----------+--------------------+--------------------+----------+\n",
      "only showing top 10 rows\n",
      "\n",
      "+-----------------+---------------+-----+--------------------+--------------------+----------+\n",
      "|         features|        species|label|       rawPrediction|         probability|prediction|\n",
      "+-----------------+---------------+-----+--------------------+--------------------+----------+\n",
      "|[4.3,3.0,1.1,0.1]|    Iris-setosa|  0.0|      [20.0,0.0,0.0]|       [1.0,0.0,0.0]|       0.0|\n",
      "|[4.7,3.2,1.3,0.2]|    Iris-setosa|  0.0|      [20.0,0.0,0.0]|       [1.0,0.0,0.0]|       0.0|\n",
      "|[4.8,3.4,1.6,0.2]|    Iris-setosa|  0.0|      [20.0,0.0,0.0]|       [1.0,0.0,0.0]|       0.0|\n",
      "|[4.9,2.5,4.5,1.7]| Iris-virginica|  2.0|[0.0,19.587719298...|[0.0,0.9793859649...|       1.0|\n",
      "|[4.9,3.1,1.5,0.1]|    Iris-setosa|  0.0|      [20.0,0.0,0.0]|       [1.0,0.0,0.0]|       0.0|\n",
      "|[4.9,3.1,1.5,0.1]|    Iris-setosa|  0.0|      [20.0,0.0,0.0]|       [1.0,0.0,0.0]|       0.0|\n",
      "|[5.0,2.3,3.3,1.0]|Iris-versicolor|  1.0|[0.0,19.921052631...|[0.0,0.9960526315...|       1.0|\n",
      "|[5.0,3.0,1.6,0.2]|    Iris-setosa|  0.0|      [20.0,0.0,0.0]|       [1.0,0.0,0.0]|       0.0|\n",
      "|[5.0,3.5,1.3,0.3]|    Iris-setosa|  0.0|      [20.0,0.0,0.0]|       [1.0,0.0,0.0]|       0.0|\n",
      "|[5.0,3.6,1.4,0.2]|    Iris-setosa|  0.0|      [20.0,0.0,0.0]|       [1.0,0.0,0.0]|       0.0|\n",
      "+-----------------+---------------+-----+--------------------+--------------------+----------+\n",
      "only showing top 10 rows\n",
      "\n"
     ]
    }
   ],
   "source": [
    "predictions = rfModel.transform(test)\n",
    "predictions.show(10)\n",
    "predictions = predictions.withColumnRenamed(\"labelIndex\",\"label\")\n",
    "predictions.show(10)"
   ]
  },
  {
   "cell_type": "markdown",
   "id": "69a94272",
   "metadata": {},
   "source": [
    "# Confusion Matrix"
   ]
  },
  {
   "cell_type": "code",
   "execution_count": 34,
   "id": "5e680c0e",
   "metadata": {},
   "outputs": [
    {
     "name": "stderr",
     "output_type": "stream",
     "text": [
      "/opt/spark/python/pyspark/sql/context.py:125: FutureWarning: Deprecated in 3.0.0. Use SparkSession.builder.getOrCreate() instead.\n",
      "  warnings.warn(\n",
      "                                                                                \r"
     ]
    },
    {
     "name": "stdout",
     "output_type": "stream",
     "text": [
      "[[17.  0.  0.]\n",
      " [ 0. 13.  1.]\n",
      " [ 0.  1. 16.]]\n"
     ]
    }
   ],
   "source": [
    "from pyspark.mllib.evaluation import MulticlassMetrics\n",
    "from pyspark.sql.types import FloatType\n",
    "import pyspark.sql.functions as F\n",
    "\n",
    "preds_and_labels = predictions.select(['prediction','label']).withColumn('label', F.col('label').cast(FloatType())).orderBy('prediction')\n",
    "preds_and_labels = preds_and_labels.select(['prediction','label'])\n",
    "metrics = MulticlassMetrics(preds_and_labels.rdd.map(tuple))\n",
    "print(metrics.confusionMatrix().toArray())"
   ]
  },
  {
   "cell_type": "markdown",
   "id": "0b1fdaa2",
   "metadata": {},
   "source": [
    "# Accuracy, Precision, Recall, and F1-Score"
   ]
  },
  {
   "cell_type": "code",
   "execution_count": 35,
   "id": "b351e04c",
   "metadata": {},
   "outputs": [
    {
     "name": "stdout",
     "output_type": "stream",
     "text": [
      "Precision 0.9583333333333333\n",
      "Accuracy 0.9583333333333334\n",
      "F1-Score 0.9583333333333333\n",
      "Recall 0.9583333333333333\n"
     ]
    }
   ],
   "source": [
    "from pyspark.ml.evaluation import BinaryClassificationEvaluator, MulticlassClassificationEvaluator\n",
    "from pyspark.mllib.evaluation import MulticlassMetrics\n",
    "evaluator = BinaryClassificationEvaluator()\n",
    "evaluatorMulti = MulticlassClassificationEvaluator(labelCol=\"label\", predictionCol=\"prediction\")\n",
    "#print('Area Under ROC', evaluator.evaluate(predictions))\n",
    "\n",
    "\n",
    "# Get metrics\n",
    "acc = evaluatorMulti.evaluate(predictions, {evaluatorMulti.metricName: \"accuracy\"})\n",
    "f1 = evaluatorMulti.evaluate(predictions, {evaluatorMulti.metricName: \"f1\"})\n",
    "weightedPrecision = evaluatorMulti.evaluate(predictions, {evaluatorMulti.metricName: \"weightedPrecision\"})\n",
    "weightedRecall = evaluatorMulti.evaluate(predictions, {evaluatorMulti.metricName: \"weightedRecall\"})\n",
    "#auc = evaluator.evaluate(predictionAndTarget)\n",
    "\n",
    "print('Precision', weightedPrecision)\n",
    "print('Accuracy', acc)\n",
    "print('F1-Score', f1)\n",
    "print('Recall', weightedRecall)\n"
   ]
  },
  {
   "cell_type": "code",
   "execution_count": 36,
   "id": "c626ee83",
   "metadata": {},
   "outputs": [],
   "source": [
    "spark.stop()"
   ]
  }
 ],
 "metadata": {
  "kernelspec": {
   "display_name": "Python 3 (ipykernel)",
   "language": "python",
   "name": "python3"
  },
  "language_info": {
   "codemirror_mode": {
    "name": "ipython",
    "version": 3
   },
   "file_extension": ".py",
   "mimetype": "text/x-python",
   "name": "python",
   "nbconvert_exporter": "python",
   "pygments_lexer": "ipython3",
   "version": "3.8.10"
  }
 },
 "nbformat": 4,
 "nbformat_minor": 5
}
