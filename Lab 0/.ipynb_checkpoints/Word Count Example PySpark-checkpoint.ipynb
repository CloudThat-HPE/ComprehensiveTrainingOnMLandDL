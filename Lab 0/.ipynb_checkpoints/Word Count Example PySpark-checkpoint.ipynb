{
 "cells": [
  {
   "cell_type": "markdown",
   "id": "2b7fe5e5",
   "metadata": {},
   "source": [
    "###  1.Importing Libraries"
   ]
  },
  {
   "cell_type": "markdown",
   "id": "b1377b21",
   "metadata": {},
   "source": [
    "Even after successful install PySpark you may have issues importing pyspark in Python, you can resolve it by installing and import findspark.\n",
    "findspark searches pyspark installation on the server and adds PySpark installation path to sys.path at runtime so that you can import PySpark modules."
   ]
  },
  {
   "cell_type": "code",
   "execution_count": null,
   "id": "4ba4408b",
   "metadata": {},
   "outputs": [],
   "source": [
    "import findspark\n",
    "findspark.find()\n",
    "findspark.init()"
   ]
  },
  {
   "cell_type": "markdown",
   "id": "146bf608",
   "metadata": {},
   "source": [
    "### 2. Create SparkContext() which atcs like an entry point to the spark"
   ]
  },
  {
   "cell_type": "code",
   "execution_count": null,
   "id": "730de338",
   "metadata": {},
   "outputs": [],
   "source": [
    "from pyspark import SparkContext,SparkConf\n",
    "sc = SparkContext(\"local\",\"PySpark Word Count Example\")"
   ]
  },
  {
   "cell_type": "markdown",
   "id": "ac0911c1",
   "metadata": {},
   "source": [
    "### 3. Actual Implementation of pyspark\n",
    "Reading a text file\n",
    "Note that here \"word.txt\" is a RDD and we used \"map\", \"flatmap\", \"reducebykey\" transformations\n",
    "we have split the words using single space as separator."
   ]
  },
  {
   "cell_type": "code",
   "execution_count": null,
   "id": "67b1e4fc",
   "metadata": {},
   "outputs": [],
   "source": [
    "words = sc.textFile(\"words.txt\").flatMap(lambda line: line.split(\" \"))"
   ]
  },
  {
   "cell_type": "markdown",
   "id": "0fcddb05",
   "metadata": {},
   "source": [
    "### giving us a list of all words spliting it by spaces from the sentence"
   ]
  },
  {
   "cell_type": "code",
   "execution_count": null,
   "id": "9b7bd35f",
   "metadata": {},
   "outputs": [],
   "source": [
    "words.collect()"
   ]
  },
  {
   "cell_type": "markdown",
   "id": "ff706925",
   "metadata": {},
   "source": [
    "Then we will map each word to a key:value pair of word:1, 1 being the number of occurrences."
   ]
  },
  {
   "cell_type": "code",
   "execution_count": null,
   "id": "a0669dc0",
   "metadata": {},
   "outputs": [],
   "source": [
    "a = words.map(lambda word: (word, 1))\n",
    "a.collect()"
   ]
  },
  {
   "cell_type": "markdown",
   "id": "650bf93f",
   "metadata": {},
   "source": [
    "### reduce by key internal working. It will try to check all values with key1 first then it will move to next key\n",
    "hello [1] => hello 1 </br>\n",
    "pyspark[a=1,b=1] => pyspark 2(a+b)\n",
    "\n",
    "The result is then reduced by key, which is the word, and the values are added."
   ]
  },
  {
   "cell_type": "code",
   "execution_count": null,
   "id": "baefa570",
   "metadata": {},
   "outputs": [],
   "source": [
    "b = a.reduceByKey(lambda a,b:a + b)"
   ]
  },
  {
   "cell_type": "code",
   "execution_count": null,
   "id": "88a0a4fc",
   "metadata": {},
   "outputs": [],
   "source": [
    "b.collect()"
   ]
  },
  {
   "cell_type": "markdown",
   "id": "2f784039",
   "metadata": {},
   "source": [
    "### Wide transformation leads to seperate number of stages in sparkUI"
   ]
  },
  {
   "cell_type": "markdown",
   "id": "8e871dd7",
   "metadata": {},
   "source": [
    "### Last Step: To stop spark context"
   ]
  },
  {
   "cell_type": "code",
   "execution_count": null,
   "id": "ae2ff28c",
   "metadata": {},
   "outputs": [],
   "source": [
    "sc"
   ]
  },
  {
   "cell_type": "code",
   "execution_count": null,
   "id": "7b41eb36",
   "metadata": {},
   "outputs": [],
   "source": [
    "sc.stop()"
   ]
  }
 ],
 "metadata": {
  "kernelspec": {
   "display_name": "Python 3",
   "language": "python",
   "name": "python3"
  },
  "language_info": {
   "codemirror_mode": {
    "name": "ipython",
    "version": 3
   },
   "file_extension": ".py",
   "mimetype": "text/x-python",
   "name": "python",
   "nbconvert_exporter": "python",
   "pygments_lexer": "ipython3",
   "version": "3.8.10"
  }
 },
 "nbformat": 4,
 "nbformat_minor": 5
}
